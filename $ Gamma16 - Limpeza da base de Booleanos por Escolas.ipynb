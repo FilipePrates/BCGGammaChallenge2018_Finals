{
 "cells": [
  {
   "cell_type": "code",
   "execution_count": 2,
   "metadata": {},
   "outputs": [],
   "source": [
    "import pandas as pd\n",
    "import matplotlib.pyplot as plt\n",
    "import seaborn as sns\n",
    "import numpy as np"
   ]
  },
  {
   "cell_type": "markdown",
   "metadata": {},
   "source": [
    "Nesse notebook iremos pegar as bases de variáveis booleanas criadas no Gamma7 e limpar e organizar para prepara-las para os modelos"
   ]
  },
  {
   "cell_type": "code",
   "execution_count": 32,
   "metadata": {},
   "outputs": [],
   "source": [
    "esc07_bool = pd.read_csv(r'C:\\Users\\Filipe Prates\\Documents\\Projects\\Datasets\\BCG Challenge\\original\\esc_bool\\esc07_bool.csv')\n",
    "esc09_bool = pd.read_csv(r'C:\\Users\\Filipe Prates\\Documents\\Projects\\Datasets\\BCG Challenge\\original\\esc_bool\\esc09_bool.csv')\n",
    "esc11_bool = pd.read_csv(r'C:\\Users\\Filipe Prates\\Documents\\Projects\\Datasets\\BCG Challenge\\original\\esc_bool\\esc11_bool.csv')\n",
    "esc13_bool = pd.read_csv(r'C:\\Users\\Filipe Prates\\Documents\\Projects\\Datasets\\BCG Challenge\\original\\esc_bool\\esc13_bool.csv')\n",
    "esc15_bool = pd.read_csv(r'C:\\Users\\Filipe Prates\\Documents\\Projects\\Datasets\\BCG Challenge\\original\\esc_bool\\esc15_bool.csv')\n",
    "esc17_bool = pd.read_csv(r'C:\\Users\\Filipe Prates\\Documents\\Projects\\Datasets\\BCG Challenge\\original\\esc_bool\\esc17_bool.csv')"
   ]
  },
  {
   "cell_type": "code",
   "execution_count": 36,
   "metadata": {},
   "outputs": [],
   "source": [
    "cclean_bool = ['ProjecaoIdeb2021','ProjecaoIdeb2019','ProjecaoIdeb2017','ProjecaoIdeb2015','ProjecaoIdeb2013','ProjecaoIdeb2011','Ideb2005','NotaProvaBrasil_NotaMedia_2017','NotaProvaBrasil_NotaMedia_2015','NotaProvaBrasil_NotaMedia_2013','NotaProvaBrasil_NotaMedia_2011','NotaProvaBrasil_NotaMedia_2009','NotaProvaBrasil_NotaMedia_2007','NotaProvaBrasil_NotaMedia_2005','IndicadorRendimento_2017','IndicadorRendimento_2015','IndicadorRendimento_2013','IndicadorRendimento_2011','IndicadorRendimento_2009','IndicadorRendimento_2007','IndicadorRendimento_2005','Rede','Nome_Escola','Nome_Municipio','Co_UF','Unnamed: 0','Unnamed: 0_x','Unnamed: 0_y','Nome_Municipio','Nome_Escola','Rede','Cod_Municipio_Completo']\n",
    "#target15 = ['Ideb2017']"
   ]
  },
  {
   "cell_type": "code",
   "execution_count": 37,
   "metadata": {},
   "outputs": [],
   "source": [
    "esc07_bool_c = esc07_bool.drop(cclean_bool, axis=1)\n",
    "esc09_bool_c = esc09_bool.drop(cclean_bool, axis=1)\n",
    "esc11_bool_c = esc11_bool.drop(cclean_bool, axis=1)\n",
    "esc13_bool_c = esc13_bool.drop(cclean_bool, axis=1)\n",
    "esc15_bool_c = esc15_bool.drop(cclean_bool, axis=1)\n",
    "esc17_bool_c = esc17_bool.drop(cclean_bool, axis=1)"
   ]
  },
  {
   "cell_type": "code",
   "execution_count": 39,
   "metadata": {},
   "outputs": [],
   "source": [
    "esc07_bool_final = esc07_bool_c.dropna()\n",
    "esc09_bool_final = esc09_bool_c.dropna()\n",
    "esc11_bool_final = esc11_bool_c.dropna()\n",
    "esc13_bool_final = esc13_bool_c.dropna()\n",
    "esc15_bool_final = esc15_bool_c.dropna()\n",
    "esc17_bool_final = esc17_bool_c.dropna()"
   ]
  },
  {
   "cell_type": "markdown",
   "metadata": {},
   "source": [
    "Dados pro treinamento com 5 anos"
   ]
  },
  {
   "cell_type": "code",
   "execution_count": 45,
   "metadata": {},
   "outputs": [],
   "source": [
    "esc0709 = pd.merge(esc07_bool_final,esc09_bool_final,on=['Cod_Escola_Completo','Ideb2007','Ideb2009','Ideb2011','Ideb2013','Ideb2015','Ideb2017'],copy=False,suffixes=('0', '0'))\n",
    "esc070911 = pd.merge(esc0709,esc11_bool_final,on=['Cod_Escola_Completo','Ideb2007','Ideb2009','Ideb2011','Ideb2013','Ideb2015','Ideb2017'],copy=False,suffixes=('', '0'))\n",
    "esc07091113 = pd.merge(esc070911,esc13_bool_final,on=['Cod_Escola_Completo','Ideb2007','Ideb2009','Ideb2011','Ideb2013','Ideb2015','Ideb2017'],copy=False,suffixes=('', '0'))\n",
    "esc0709111315 = pd.merge(esc07091113,esc15_bool_final,on=['Cod_Escola_Completo','Ideb2007','Ideb2009','Ideb2011','Ideb2013','Ideb2015','Ideb2017'],copy=False,suffixes=('', '0'))"
   ]
  },
  {
   "cell_type": "code",
   "execution_count": 46,
   "metadata": {},
   "outputs": [],
   "source": [
    "esc0911 = pd.merge(esc09_bool_final,esc11_bool_final,on=['Cod_Escola_Completo','Ideb2007','Ideb2009','Ideb2011','Ideb2013','Ideb2015','Ideb2017'],copy=False,suffixes=('0', '0'))\n",
    "esc091113 = pd.merge(esc0911,esc13_bool_final,on=['Cod_Escola_Completo','Ideb2007','Ideb2009','Ideb2011','Ideb2013','Ideb2015','Ideb2017'],copy=False,suffixes=('', '0'))\n",
    "esc09111315 = pd.merge(esc091113,esc15_bool_final,on=['Cod_Escola_Completo','Ideb2007','Ideb2009','Ideb2011','Ideb2013','Ideb2015','Ideb2017'],copy=False,suffixes=('', '0'))\n",
    "esc0911131517 = pd.merge(esc09111315,esc17_bool_final,on=['Cod_Escola_Completo','Ideb2007','Ideb2009','Ideb2011','Ideb2013','Ideb2015','Ideb2017'],copy=False,suffixes=('', '0'))"
   ]
  },
  {
   "cell_type": "code",
   "execution_count": 47,
   "metadata": {},
   "outputs": [],
   "source": [
    "esc0709111315.to_csv(r'C:\\Users\\Filipe Prates\\Documents\\Projects\\Datasets\\BCG Challenge\\original\\pred_5anos\\train_0715_bool.csv')\n",
    "\n",
    "esc0911131517.to_csv(r'C:\\Users\\Filipe Prates\\Documents\\Projects\\Datasets\\BCG Challenge\\original\\pred_5anos\\pred_0917_bool.csv')"
   ]
  },
  {
   "cell_type": "markdown",
   "metadata": {},
   "source": [
    "Dados pro treinamento com 4 anos"
   ]
  },
  {
   "cell_type": "code",
   "execution_count": 48,
   "metadata": {},
   "outputs": [],
   "source": [
    "esc0709 = pd.merge(esc07_bool_final,esc09_bool_final,on=['Cod_Escola_Completo','Ideb2007','Ideb2009','Ideb2011','Ideb2013','Ideb2015','Ideb2017'],copy=False,suffixes=('0', '0'))\n",
    "esc070911 = pd.merge(esc0709,esc11_bool_final,on=['Cod_Escola_Completo','Ideb2007','Ideb2009','Ideb2011','Ideb2013','Ideb2015','Ideb2017'],copy=False,suffixes=('', '0'))\n",
    "esc07091113 = pd.merge(esc070911,esc13_bool_final,on=['Cod_Escola_Completo','Ideb2007','Ideb2009','Ideb2011','Ideb2013','Ideb2015','Ideb2017'],copy=False,suffixes=('', '0'))\n",
    "\n",
    "esc0911 = pd.merge(esc09_bool_final,esc11_bool_final,on=['Cod_Escola_Completo','Ideb2007','Ideb2009','Ideb2011','Ideb2013','Ideb2015','Ideb2017'],copy=False,suffixes=('0', '0'))\n",
    "esc091113 = pd.merge(esc0911,esc13_bool_final,on=['Cod_Escola_Completo','Ideb2007','Ideb2009','Ideb2011','Ideb2013','Ideb2015','Ideb2017'],copy=False,suffixes=('', '0'))\n",
    "esc09111315 = pd.merge(esc091113,esc15_bool_final,on=['Cod_Escola_Completo','Ideb2007','Ideb2009','Ideb2011','Ideb2013','Ideb2015','Ideb2017'],copy=False,suffixes=('', '0'))"
   ]
  },
  {
   "cell_type": "code",
   "execution_count": 49,
   "metadata": {},
   "outputs": [],
   "source": [
    "esc1113 = pd.merge(esc11_bool_final,esc13_bool_final,on=['Cod_Escola_Completo','Ideb2007','Ideb2009','Ideb2011','Ideb2013','Ideb2015','Ideb2017'],copy=False,suffixes=('0', '0'))\n",
    "esc111315 = pd.merge(esc1113,esc15_bool_final,on=['Cod_Escola_Completo','Ideb2007','Ideb2009','Ideb2011','Ideb2013','Ideb2015','Ideb2017'],copy=False,suffixes=('', '0'))\n",
    "esc11131517 = pd.merge(esc111315,esc17_bool_final,on=['Cod_Escola_Completo','Ideb2007','Ideb2009','Ideb2011','Ideb2013','Ideb2015','Ideb2017'],copy=False,suffixes=('', '0'))"
   ]
  },
  {
   "cell_type": "code",
   "execution_count": 50,
   "metadata": {},
   "outputs": [],
   "source": [
    "esc07091113.to_csv(r'C:\\Users\\Filipe Prates\\Documents\\Projects\\Datasets\\BCG Challenge\\original\\pred_4anos\\train_0713_bool.csv')\n",
    "esc09111315.to_csv(r'C:\\Users\\Filipe Prates\\Documents\\Projects\\Datasets\\BCG Challenge\\original\\pred_4anos\\train_0915_bool.csv')\n",
    "\n",
    "esc11131517.to_csv(r'C:\\Users\\Filipe Prates\\Documents\\Projects\\Datasets\\BCG Challenge\\original\\pred_4anos\\pred_1117_bool.csv')"
   ]
  },
  {
   "cell_type": "markdown",
   "metadata": {},
   "source": [
    "Dados pro treinamento com 3 anos"
   ]
  },
  {
   "cell_type": "code",
   "execution_count": 51,
   "metadata": {},
   "outputs": [],
   "source": [
    "esc0709 = pd.merge(esc07_bool_final,esc09_bool_final,on=['Cod_Escola_Completo','Ideb2007','Ideb2009','Ideb2011','Ideb2013','Ideb2015','Ideb2017'],copy=False,suffixes=('0', '0'))\n",
    "esc070911 = pd.merge(esc0709,esc11_bool_final,on=['Cod_Escola_Completo','Ideb2007','Ideb2009','Ideb2011','Ideb2013','Ideb2015','Ideb2017'],copy=False,suffixes=('', '0'))\n",
    "\n",
    "esc0911 = pd.merge(esc09_bool_final,esc11_bool_final,on=['Cod_Escola_Completo','Ideb2007','Ideb2009','Ideb2011','Ideb2013','Ideb2015','Ideb2017'],copy=False,suffixes=('0', '0'))\n",
    "esc091113 = pd.merge(esc0911,esc13_bool_final,on=['Cod_Escola_Completo','Ideb2007','Ideb2009','Ideb2011','Ideb2013','Ideb2015','Ideb2017'],copy=False,suffixes=('', '0'))\n",
    "\n",
    "esc1113 = pd.merge(esc11_bool_final,esc13_bool_final,on=['Cod_Escola_Completo','Ideb2007','Ideb2009','Ideb2011','Ideb2013','Ideb2015','Ideb2017'],copy=False,suffixes=('0', '0'))\n",
    "esc111315 = pd.merge(esc1113,esc15_bool_final,on=['Cod_Escola_Completo','Ideb2007','Ideb2009','Ideb2011','Ideb2013','Ideb2015','Ideb2017'],copy=False,suffixes=('', '0'))"
   ]
  },
  {
   "cell_type": "code",
   "execution_count": 52,
   "metadata": {},
   "outputs": [],
   "source": [
    "esc1315 = pd.merge(esc13_bool_final,esc15_bool_final,on=['Cod_Escola_Completo','Ideb2007','Ideb2009','Ideb2011','Ideb2013','Ideb2015','Ideb2017'],copy=False,suffixes=('0', '0'))\n",
    "esc131517 = pd.merge(esc1315,esc17_bool_final,on=['Cod_Escola_Completo','Ideb2007','Ideb2009','Ideb2011','Ideb2013','Ideb2015','Ideb2017'],copy=False,suffixes=('', '0'))"
   ]
  },
  {
   "cell_type": "code",
   "execution_count": 53,
   "metadata": {},
   "outputs": [],
   "source": [
    "esc070911.to_csv(r'C:\\Users\\Filipe Prates\\Documents\\Projects\\Datasets\\BCG Challenge\\original\\pred_3anos\\train_0711_bool.csv')\n",
    "esc091113.to_csv(r'C:\\Users\\Filipe Prates\\Documents\\Projects\\Datasets\\BCG Challenge\\original\\pred_3anos\\train_0913_bool.csv')\n",
    "esc111315.to_csv(r'C:\\Users\\Filipe Prates\\Documents\\Projects\\Datasets\\BCG Challenge\\original\\pred_3anos\\train_1115_bool.csv')\n",
    "\n",
    "esc131517.to_csv(r'C:\\Users\\Filipe Prates\\Documents\\Projects\\Datasets\\BCG Challenge\\original\\pred_3anos\\pred_1317_bool.csv')"
   ]
  },
  {
   "cell_type": "markdown",
   "metadata": {},
   "source": [
    "Dados pro treinamento com 2 anos"
   ]
  },
  {
   "cell_type": "code",
   "execution_count": 54,
   "metadata": {},
   "outputs": [],
   "source": [
    "esc0709 = pd.merge(esc07_bool_final,esc09_bool_final,on=['Cod_Escola_Completo','Ideb2007','Ideb2009','Ideb2011','Ideb2013','Ideb2015','Ideb2017'],copy=False,suffixes=('0', '0'))\n",
    "\n",
    "esc0911 = pd.merge(esc09_bool_final,esc11_bool_final,on=['Cod_Escola_Completo','Ideb2007','Ideb2009','Ideb2011','Ideb2013','Ideb2015','Ideb2017'],copy=False,suffixes=('', '0'))\n",
    "\n",
    "esc1113 = pd.merge(esc11_bool_final,esc13_bool_final,on=['Cod_Escola_Completo','Ideb2007','Ideb2009','Ideb2011','Ideb2013','Ideb2015','Ideb2017'],copy=False,suffixes=('', '0'))\n",
    "\n",
    "esc1315 = pd.merge(esc13_bool_final,esc15_bool_final,on=['Cod_Escola_Completo','Ideb2007','Ideb2009','Ideb2011','Ideb2013','Ideb2015','Ideb2017'],copy=False,suffixes=('', '0'))"
   ]
  },
  {
   "cell_type": "code",
   "execution_count": 55,
   "metadata": {},
   "outputs": [],
   "source": [
    "esc1517 = pd.merge(esc15_bool_final,esc17_bool_final,on=['Cod_Escola_Completo','Ideb2007','Ideb2009','Ideb2011','Ideb2013','Ideb2015','Ideb2017'],copy=False,suffixes=('0', '0'))"
   ]
  },
  {
   "cell_type": "code",
   "execution_count": 56,
   "metadata": {},
   "outputs": [],
   "source": [
    "esc0709.to_csv(r'C:\\Users\\Filipe Prates\\Documents\\Projects\\Datasets\\BCG Challenge\\original\\pred_2anos\\train_0709_bool.csv')\n",
    "esc0911.to_csv(r'C:\\Users\\Filipe Prates\\Documents\\Projects\\Datasets\\BCG Challenge\\original\\pred_2anos\\train_0911_bool.csv')\n",
    "esc1113.to_csv(r'C:\\Users\\Filipe Prates\\Documents\\Projects\\Datasets\\BCG Challenge\\original\\pred_2anos\\train_1113_bool.csv')\n",
    "esc1315.to_csv(r'C:\\Users\\Filipe Prates\\Documents\\Projects\\Datasets\\BCG Challenge\\original\\pred_2anos\\train_1315_bool.csv')\n",
    "\n",
    "esc1517.to_csv(r'C:\\Users\\Filipe Prates\\Documents\\Projects\\Datasets\\BCG Challenge\\original\\pred_2anos\\pred_1517_bool.csv')"
   ]
  },
  {
   "cell_type": "code",
   "execution_count": null,
   "metadata": {},
   "outputs": [],
   "source": []
  }
 ],
 "metadata": {
  "kernelspec": {
   "display_name": "Python 3",
   "language": "python",
   "name": "python3"
  },
  "language_info": {
   "codemirror_mode": {
    "name": "ipython",
    "version": 3
   },
   "file_extension": ".py",
   "mimetype": "text/x-python",
   "name": "python",
   "nbconvert_exporter": "python",
   "pygments_lexer": "ipython3",
   "version": "3.6.6"
  }
 },
 "nbformat": 4,
 "nbformat_minor": 2
}
