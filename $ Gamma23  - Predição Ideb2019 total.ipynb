{
 "cells": [
  {
   "cell_type": "code",
   "execution_count": 2,
   "metadata": {},
   "outputs": [
    {
     "name": "stderr",
     "output_type": "stream",
     "text": [
      "Using TensorFlow backend.\n"
     ]
    }
   ],
   "source": [
    "import pandas as pd\n",
    "import matplotlib.pyplot as plt\n",
    "import seaborn as sns\n",
    "import numpy as np\n",
    "\n",
    "from keras.layers import Dense\n",
    "from keras.models import Sequential\n",
    "from keras.callbacks import EarlyStopping\n",
    "from keras import metrics\n",
    "from keras.models import load_model"
   ]
  },
  {
   "cell_type": "markdown",
   "metadata": {},
   "source": [
    "Nesse notebook iremos realizar a predição final do Ideb2019 fazendo um ensemble de todos os modelos criados"
   ]
  },
  {
   "cell_type": "markdown",
   "metadata": {},
   "source": [
    "Import os modelos do Keras"
   ]
  },
  {
   "cell_type": "code",
   "execution_count": 3,
   "metadata": {},
   "outputs": [],
   "source": [
    "model_0709_num = load_model(r'C:\\Users\\Filipe Prates\\Documents\\Projects\\Datasets\\BCG Challenge\\original\\models_keras\\model_0709_num.h5')\n",
    "model_0911_num = load_model(r'C:\\Users\\Filipe Prates\\Documents\\Projects\\Datasets\\BCG Challenge\\original\\models_keras\\model_0911_num.h5')\n",
    "model_1113_num = load_model(r'C:\\Users\\Filipe Prates\\Documents\\Projects\\Datasets\\BCG Challenge\\original\\models_keras\\model_1113_num.h5')\n",
    "model_1315_num = load_model(r'C:\\Users\\Filipe Prates\\Documents\\Projects\\Datasets\\BCG Challenge\\original\\models_keras\\model_1315_num.h5')\n",
    "\n",
    "model_070911_num = load_model(r'C:\\Users\\Filipe Prates\\Documents\\Projects\\Datasets\\BCG Challenge\\original\\models_keras\\model_070911_num.h5')\n",
    "model_091113_num = load_model(r'C:\\Users\\Filipe Prates\\Documents\\Projects\\Datasets\\BCG Challenge\\original\\models_keras\\model_091113_num.h5')\n",
    "model_111315_num = load_model(r'C:\\Users\\Filipe Prates\\Documents\\Projects\\Datasets\\BCG Challenge\\original\\models_keras\\model_111315_num.h5')\n",
    "\n",
    "model_07091113_num = load_model(r'C:\\Users\\Filipe Prates\\Documents\\Projects\\Datasets\\BCG Challenge\\original\\models_keras\\model_07091113_num.h5')\n",
    "model_09111315_num = load_model(r'C:\\Users\\Filipe Prates\\Documents\\Projects\\Datasets\\BCG Challenge\\original\\models_keras\\model_09111315_num.h5')"
   ]
  },
  {
   "cell_type": "code",
   "execution_count": 4,
   "metadata": {},
   "outputs": [],
   "source": [
    "model_0709_bool = load_model(r'C:\\Users\\Filipe Prates\\Documents\\Projects\\Datasets\\BCG Challenge\\original\\models_keras\\model_0709_bool.h5')\n",
    "model_0911_bool = load_model(r'C:\\Users\\Filipe Prates\\Documents\\Projects\\Datasets\\BCG Challenge\\original\\models_keras\\model_0911_bool.h5')\n",
    "model_1113_bool = load_model(r'C:\\Users\\Filipe Prates\\Documents\\Projects\\Datasets\\BCG Challenge\\original\\models_keras\\model_1113_bool.h5')\n",
    "model_1315_bool = load_model(r'C:\\Users\\Filipe Prates\\Documents\\Projects\\Datasets\\BCG Challenge\\original\\models_keras\\model_1315_bool.h5')\n",
    "\n",
    "model_070911_bool = load_model(r'C:\\Users\\Filipe Prates\\Documents\\Projects\\Datasets\\BCG Challenge\\original\\models_keras\\model_070911_bool.h5')\n",
    "model_091113_bool = load_model(r'C:\\Users\\Filipe Prates\\Documents\\Projects\\Datasets\\BCG Challenge\\original\\models_keras\\model_091113_bool.h5')\n",
    "model_111315_bool = load_model(r'C:\\Users\\Filipe Prates\\Documents\\Projects\\Datasets\\BCG Challenge\\original\\models_keras\\model_111315_bool.h5')\n",
    "\n",
    "model_07091113_bool = load_model(r'C:\\Users\\Filipe Prates\\Documents\\Projects\\Datasets\\BCG Challenge\\original\\models_keras\\model_07091113_bool.h5')\n",
    "model_09111315_bool = load_model(r'C:\\Users\\Filipe Prates\\Documents\\Projects\\Datasets\\BCG Challenge\\original\\models_keras\\model_09111315_bool.h5')"
   ]
  },
  {
   "cell_type": "markdown",
   "metadata": {},
   "source": [
    "Import dados numericos a prever (já tratados com PCA nos Gamma11-13-14)"
   ]
  },
  {
   "cell_type": "code",
   "execution_count": 4,
   "metadata": {},
   "outputs": [],
   "source": [
    "pred0709_t_num = pd.read_csv(r'C:\\Users\\Filipe Prates\\Documents\\Projects\\Datasets\\BCG Challenge\\original\\dados_predicao\\pred0709_t_num.csv')\n",
    "pred0911_t_num = pd.read_csv(r'C:\\Users\\Filipe Prates\\Documents\\Projects\\Datasets\\BCG Challenge\\original\\dados_predicao\\pred0911_t_num.csv')\n",
    "pred1113_t_num = pd.read_csv(r'C:\\Users\\Filipe Prates\\Documents\\Projects\\Datasets\\BCG Challenge\\original\\dados_predicao\\pred1113_t_num.csv')\n",
    "pred1315_t_num = pd.read_csv(r'C:\\Users\\Filipe Prates\\Documents\\Projects\\Datasets\\BCG Challenge\\original\\dados_predicao\\pred1315_t_num.csv')\n",
    "\n",
    "pred070911_t_num = pd.read_csv(r'C:\\Users\\Filipe Prates\\Documents\\Projects\\Datasets\\BCG Challenge\\original\\dados_predicao\\pred070911_t_num.csv')\n",
    "pred091113_t_num = pd.read_csv(r'C:\\Users\\Filipe Prates\\Documents\\Projects\\Datasets\\BCG Challenge\\original\\dados_predicao\\pred091113_t_num.csv')\n",
    "pred111315_t_num = pd.read_csv(r'C:\\Users\\Filipe Prates\\Documents\\Projects\\Datasets\\BCG Challenge\\original\\dados_predicao\\pred111315_t_num.csv')\n",
    "\n",
    "pred07091113_t_num = pd.read_csv(r'C:\\Users\\Filipe Prates\\Documents\\Projects\\Datasets\\BCG Challenge\\original\\dados_predicao\\pred07091113_t_num.csv')\n",
    "pred09111315_t_num = pd.read_csv(r'C:\\Users\\Filipe Prates\\Documents\\Projects\\Datasets\\BCG Challenge\\original\\dados_predicao\\pred09111315_t_num.csv')"
   ]
  },
  {
   "cell_type": "markdown",
   "metadata": {},
   "source": [
    "Import dados booleanos a prever "
   ]
  },
  {
   "cell_type": "code",
   "execution_count": 5,
   "metadata": {},
   "outputs": [],
   "source": [
    "pred1517_t_bool = pd.read_csv(r'C:\\Users\\Filipe Prates\\Documents\\Projects\\Datasets\\BCG Challenge\\original\\dados_predicao\\pred1517_bool.csv')\n",
    "\n",
    "pred131517_t_bool = pd.read_csv(r'C:\\Users\\Filipe Prates\\Documents\\Projects\\Datasets\\BCG Challenge\\original\\dados_predicao\\pred131517_bool.csv')\n",
    "\n",
    "pred11131517_t_bool = pd.read_csv(r'C:\\Users\\Filipe Prates\\Documents\\Projects\\Datasets\\BCG Challenge\\original\\dados_predicao\\pred11131517_bool.csv')"
   ]
  },
  {
   "cell_type": "markdown",
   "metadata": {},
   "source": [
    "Import dados só para ter a média dos Ideb dos anos (das escolas usadas nos modelos)"
   ]
  },
  {
   "cell_type": "code",
   "execution_count": 6,
   "metadata": {},
   "outputs": [],
   "source": [
    "dadosParaPegarMediaIdeb2017_2 = pd.read_csv(r'C:\\Users\\Filipe Prates\\Documents\\Projects\\Datasets\\BCG Challenge\\original\\pred_2anos\\pred_1517.csv')\n",
    "dadosParaPegarMediaIdeb2017_3 = pd.read_csv(r'C:\\Users\\Filipe Prates\\Documents\\Projects\\Datasets\\BCG Challenge\\original\\pred_3anos\\pred_1317.csv')\n",
    "dadosParaPegarMediaIdeb2017_4 = pd.read_csv(r'C:\\Users\\Filipe Prates\\Documents\\Projects\\Datasets\\BCG Challenge\\original\\pred_4anos\\pred_1117.csv')"
   ]
  },
  {
   "cell_type": "code",
   "execution_count": 7,
   "metadata": {},
   "outputs": [],
   "source": [
    "Ideb2017_2 = dadosParaPegarMediaIdeb2017_2['Ideb2017'].mean()\n",
    "Ideb2017_3 = dadosParaPegarMediaIdeb2017_3['Ideb2017'].mean()\n",
    "Ideb2017_4 = dadosParaPegarMediaIdeb2017_4['Ideb2017'].mean()"
   ]
  },
  {
   "cell_type": "markdown",
   "metadata": {},
   "source": [
    "Drop coluna criada no read_csv"
   ]
  },
  {
   "cell_type": "code",
   "execution_count": 8,
   "metadata": {},
   "outputs": [
    {
     "ename": "NameError",
     "evalue": "name 'pred0709_t_num' is not defined",
     "output_type": "error",
     "traceback": [
      "\u001b[1;31m---------------------------------------------------------------------------\u001b[0m",
      "\u001b[1;31mNameError\u001b[0m                                 Traceback (most recent call last)",
      "\u001b[1;32m<ipython-input-8-bec655324b55>\u001b[0m in \u001b[0;36m<module>\u001b[1;34m\u001b[0m\n\u001b[1;32m----> 1\u001b[1;33m \u001b[0mpred0709_t_num\u001b[0m\u001b[1;33m.\u001b[0m\u001b[0mdrop\u001b[0m\u001b[1;33m(\u001b[0m\u001b[0mcolumns\u001b[0m\u001b[1;33m=\u001b[0m\u001b[1;33m[\u001b[0m\u001b[1;34m'Unnamed: 0'\u001b[0m\u001b[1;33m]\u001b[0m\u001b[1;33m,\u001b[0m\u001b[0minplace\u001b[0m \u001b[1;33m=\u001b[0m \u001b[1;32mTrue\u001b[0m\u001b[1;33m)\u001b[0m\u001b[1;33m\u001b[0m\u001b[0m\n\u001b[0m\u001b[0;32m      2\u001b[0m \u001b[0mpred0911_t_num\u001b[0m\u001b[1;33m.\u001b[0m\u001b[0mdrop\u001b[0m\u001b[1;33m(\u001b[0m\u001b[0mcolumns\u001b[0m\u001b[1;33m=\u001b[0m\u001b[1;33m[\u001b[0m\u001b[1;34m'Unnamed: 0'\u001b[0m\u001b[1;33m]\u001b[0m\u001b[1;33m,\u001b[0m\u001b[0minplace\u001b[0m \u001b[1;33m=\u001b[0m \u001b[1;32mTrue\u001b[0m\u001b[1;33m)\u001b[0m\u001b[1;33m\u001b[0m\u001b[0m\n\u001b[0;32m      3\u001b[0m \u001b[0mpred1113_t_num\u001b[0m\u001b[1;33m.\u001b[0m\u001b[0mdrop\u001b[0m\u001b[1;33m(\u001b[0m\u001b[0mcolumns\u001b[0m\u001b[1;33m=\u001b[0m\u001b[1;33m[\u001b[0m\u001b[1;34m'Unnamed: 0'\u001b[0m\u001b[1;33m]\u001b[0m\u001b[1;33m,\u001b[0m\u001b[0minplace\u001b[0m \u001b[1;33m=\u001b[0m \u001b[1;32mTrue\u001b[0m\u001b[1;33m)\u001b[0m\u001b[1;33m\u001b[0m\u001b[0m\n\u001b[0;32m      4\u001b[0m \u001b[0mpred1315_t_num\u001b[0m\u001b[1;33m.\u001b[0m\u001b[0mdrop\u001b[0m\u001b[1;33m(\u001b[0m\u001b[0mcolumns\u001b[0m\u001b[1;33m=\u001b[0m\u001b[1;33m[\u001b[0m\u001b[1;34m'Unnamed: 0'\u001b[0m\u001b[1;33m]\u001b[0m\u001b[1;33m,\u001b[0m\u001b[0minplace\u001b[0m \u001b[1;33m=\u001b[0m \u001b[1;32mTrue\u001b[0m\u001b[1;33m)\u001b[0m\u001b[1;33m\u001b[0m\u001b[0m\n\u001b[0;32m      5\u001b[0m \u001b[1;33m\u001b[0m\u001b[0m\n",
      "\u001b[1;31mNameError\u001b[0m: name 'pred0709_t_num' is not defined"
     ]
    }
   ],
   "source": [
    "pred0709_t_num.drop(columns=['Unnamed: 0'],inplace = True)\n",
    "pred0911_t_num.drop(columns=['Unnamed: 0'],inplace = True)\n",
    "pred1113_t_num.drop(columns=['Unnamed: 0'],inplace = True)\n",
    "pred1315_t_num.drop(columns=['Unnamed: 0'],inplace = True)\n",
    "\n",
    "pred070911_t_num.drop(columns=['Unnamed: 0'],inplace = True)\n",
    "pred091113_t_num.drop(columns=['Unnamed: 0'],inplace = True)\n",
    "pred111315_t_num.drop(columns=['Unnamed: 0'],inplace = True)\n",
    "\n",
    "pred07091113_t_num.drop(columns=['Unnamed: 0'],inplace = True)\n",
    "pred09111315_t_num.drop(columns=['Unnamed: 0'],inplace = True)"
   ]
  },
  {
   "cell_type": "code",
   "execution_count": 9,
   "metadata": {},
   "outputs": [],
   "source": [
    "pred1517_t_bool.drop(columns=['Unnamed: 0'],inplace = True)\n",
    "\n",
    "pred131517_t_bool.drop(columns=['Unnamed: 0'],inplace = True)\n",
    "\n",
    "pred11131517_t_bool.drop(columns=['Unnamed: 0'],inplace = True)"
   ]
  },
  {
   "cell_type": "markdown",
   "metadata": {},
   "source": [
    "Predição com os modelos"
   ]
  },
  {
   "cell_type": "code",
   "execution_count": 9,
   "metadata": {},
   "outputs": [],
   "source": [
    "pred_0709 = pd.Series(data=model_0709_num.predict(pred0709_t_num)[:,0])\n",
    "pred_0911 = pd.Series(data=model_0911_num.predict(pred0911_t_num)[:,0])\n",
    "pred_1113 = pd.Series(data=model_1113_num.predict(pred1113_t_num)[:,0])\n",
    "pred_1315 = pd.Series(data=model_1315_num.predict(pred1315_t_num)[:,0])"
   ]
  },
  {
   "cell_type": "code",
   "execution_count": 10,
   "metadata": {},
   "outputs": [],
   "source": [
    "pred_070911 = pd.Series(data=model_070911_num.predict(pred070911_t_num)[:,0])\n",
    "pred_091113 = pd.Series(data=model_091113_num.predict(pred091113_t_num)[:,0])\n",
    "pred_111315 = pd.Series(data=model_111315_num.predict(pred111315_t_num)[:,0])"
   ]
  },
  {
   "cell_type": "code",
   "execution_count": 11,
   "metadata": {},
   "outputs": [],
   "source": [
    "pred_07091113 = pd.Series(data=model_07091113_num.predict(pred07091113_t_num)[:,0])\n",
    "pred_09111315 = pd.Series(data=model_09111315_num.predict(pred09111315_t_num)[:,0])"
   ]
  },
  {
   "cell_type": "code",
   "execution_count": 10,
   "metadata": {},
   "outputs": [],
   "source": [
    "pred_0709_b = pd.Series(data=model_0709_bool.predict(pred1517_t_bool)[:,0])\n",
    "pred_0911_b = pd.Series(data=model_0911_bool.predict(pred1517_t_bool)[:,0])\n",
    "pred_1113_b = pd.Series(data=model_1113_bool.predict(pred1517_t_bool)[:,0])\n",
    "pred_1315_b = pd.Series(data=model_1315_bool.predict(pred1517_t_bool)[:,0])"
   ]
  },
  {
   "cell_type": "code",
   "execution_count": 11,
   "metadata": {},
   "outputs": [],
   "source": [
    "pred_070911_b = pd.Series(data=model_070911_bool.predict(pred131517_t_bool)[:,0])\n",
    "pred_091113_b = pd.Series(data=model_091113_bool.predict(pred131517_t_bool)[:,0])\n",
    "pred_111315_b = pd.Series(data=model_111315_bool.predict(pred131517_t_bool)[:,0])"
   ]
  },
  {
   "cell_type": "code",
   "execution_count": 12,
   "metadata": {},
   "outputs": [],
   "source": [
    "pred_07091113_b = pd.Series(data=model_07091113_bool.predict(pred11131517_t_bool)[:,0])\n",
    "pred_09111315_b = pd.Series(data=model_09111315_bool.predict(pred11131517_t_bool)[:,0])"
   ]
  },
  {
   "cell_type": "markdown",
   "metadata": {},
   "source": [
    "Media dos Idebs"
   ]
  },
  {
   "cell_type": "code",
   "execution_count": 13,
   "metadata": {},
   "outputs": [],
   "source": [
    "ideb2011_media_2 = 4.679378 #train0709_target.mean()\n",
    "ideb2013_media_2 = 4.827755 #train0911_target.mean()\n",
    "ideb2015_media_2 = 5.131154 #train1113_target.mean()\n",
    "ideb2017_media_2 = 5.352877 #train1315_target.mean()\n",
    "\n",
    "ideb2013_media_3 = 4.827615 #train070911_target.mean()\n",
    "ideb2015_media_3 = 5.131125 #train091113_target.mean()\n",
    "ideb2017_media_3 = 5.353015 #train111315_target.mean()\n",
    "\n",
    "ideb2015_media_4 = 5.131053 #train07091113_target.mean()\n",
    "ideb2017_media_4 = 5.352906 #train09111315_target.mean()"
   ]
  },
  {
   "cell_type": "code",
   "execution_count": 14,
   "metadata": {},
   "outputs": [],
   "source": [
    "cte = (5.352877/5.131154 + 5.131154/4.827755 + 4.827755/4.679378)/3"
   ]
  },
  {
   "cell_type": "markdown",
   "metadata": {},
   "source": [
    "Output da predição dos numéricos. Como usamos como target o Ideb referente ao ano após os dados do modelo, as redes ficaram treinadas em dar resultados na ordem da média do Ideb de tal ano. Pegamos a diferença entre a predição e o ano treinado, e somamos a média do Ideb2017, e multiplicamos pela constante de crescimento do Ideb ano a ano, para termos resultados compatíveis à previsão do Ideb2019"
   ]
  },
  {
   "cell_type": "code",
   "execution_count": 46,
   "metadata": {},
   "outputs": [],
   "source": [
    "Ideb2019_num = pd.DataFrame()\n",
    "Ideb2019_num['2'] = (Ideb2017_2 + ((pred_0709 - ideb2011_media_2) + (pred_0911 - ideb2013_media_2) + (pred_1113 - ideb2015_media_2) + (pred_1315 - ideb2017_media_2))/4)*cte\n",
    "Ideb2019_num['3'] = (Ideb2017_3 + ((pred_070911 - ideb2013_media_3) + (pred_091113 - ideb2015_media_3) + (pred_111315 - ideb2017_media_3))/3)*cte\n",
    "Ideb2019_num['4'] = (Ideb2017_4 + ((pred_07091113 - ideb2015_media_4) + (pred_09111315 - ideb2017_media_4))/3)*cte\n",
    "Ideb2019_num['Total'] = (Ideb2019_num['2'] + Ideb2019_num['3'] + Ideb2019_num['4'])/3"
   ]
  },
  {
   "cell_type": "markdown",
   "metadata": {},
   "source": [
    "Ideb2019 total usando os modelos numéricos"
   ]
  },
  {
   "cell_type": "code",
   "execution_count": 47,
   "metadata": {},
   "outputs": [
    {
     "data": {
      "text/plain": [
       "5.626528453702016"
      ]
     },
     "execution_count": 47,
     "metadata": {},
     "output_type": "execute_result"
    }
   ],
   "source": [
    "Ideb2019_num['Total'].mean()"
   ]
  },
  {
   "cell_type": "code",
   "execution_count": 15,
   "metadata": {},
   "outputs": [],
   "source": [
    "Ideb2019_bool = pd.DataFrame()\n",
    "Ideb2019_bool = ((pred_0709_b + pred_0911_b + pred_1113_b + pred_1315_b + pred_070911_b + pred_091113_b + pred_111315_b + pred_07091113_b + pred_09111315_b)/9)"
   ]
  },
  {
   "cell_type": "markdown",
   "metadata": {},
   "source": [
    "Ideb2019 total usando os modelos booleanos"
   ]
  },
  {
   "cell_type": "code",
   "execution_count": 16,
   "metadata": {},
   "outputs": [
    {
     "data": {
      "text/plain": [
       "5.537335395812988"
      ]
     },
     "execution_count": 16,
     "metadata": {},
     "output_type": "execute_result"
    }
   ],
   "source": [
    "Ideb2019_bool.mean()"
   ]
  },
  {
   "cell_type": "code",
   "execution_count": 76,
   "metadata": {},
   "outputs": [],
   "source": [
    "Ideb2019_predição = (Ideb2019_num['Total'].mean() + Ideb2019_bool.mean())/2"
   ]
  },
  {
   "cell_type": "markdown",
   "metadata": {},
   "source": [
    "Ideb2019 predição total total"
   ]
  },
  {
   "cell_type": "code",
   "execution_count": 77,
   "metadata": {},
   "outputs": [
    {
     "data": {
      "text/plain": [
       "5.581931924757502"
      ]
     },
     "execution_count": 77,
     "metadata": {},
     "output_type": "execute_result"
    }
   ],
   "source": [
    "Ideb2019_predição"
   ]
  },
  {
   "cell_type": "markdown",
   "metadata": {},
   "source": [
    "Aplicando mudança das alavancas  (por algum motivo essa função não está funcionando como deveria, então usamos outro jeito mais abaixo para ver a influência das alavancas)"
   ]
  },
  {
   "cell_type": "code",
   "execution_count": 166,
   "metadata": {},
   "outputs": [],
   "source": [
    "def ApplyAlavancas(alavanca,index,boolean):\n",
    "    df1 = pred1517_t_bool.iloc[index:, :]\n",
    "    df2 = pred1517_t_bool.iloc[:index, :]\n",
    "    \n",
    "    df3 = pred131517_t_bool.iloc[index:, :]\n",
    "    df4 = pred131517_t_bool.iloc[:index, :]\n",
    "    \n",
    "    df5 = pred11131517_t_bool.iloc[index:, :]\n",
    "    df6 = pred11131517_t_bool.iloc[:index, :]\n",
    "    \n",
    "    df2[alavanca] = boolean\n",
    "    df4[alavanca] = boolean\n",
    "    df6[alavanca] = boolean\n",
    "    \n",
    "    df1df2 = pd.concat([df1,df2])\n",
    "    df3df4 = pd.concat([df3,df4])\n",
    "    df5df6 = pd.concat([df5,df6])\n",
    "    \n",
    "    p0709 = pd.Series(data=model_0709_bool.predict(test_refei)[:,0])\n",
    "    p0911 = pd.Series(data=model_0911_bool.predict(test_refei)[:,0])\n",
    "    p1113 = pd.Series(data=model_1113_bool.predict(test_refei)[:,0])\n",
    "    p1315 = pd.Series(data=model_1315_bool.predict(test_refei)[:,0])\n",
    "    p070911 = pd.Series(data=model_070911_bool.predict(test_refei3)[:,0])\n",
    "    p091113 = pd.Series(data=model_091113_bool.predict(test_refei3)[:,0])\n",
    "    p111315 = pd.Series(data=model_111315_bool.predict(test_refei3)[:,0])\n",
    "    p07091113 = pd.Series(data=model_07091113_bool.predict(test_refei6)[:,0])\n",
    "    p09111315 = pd.Series(data=model_09111315_bool.predict(test_refei6)[:,0])\n",
    "    \n",
    "    out = pd.DataFrame()\n",
    "    out = ((p0709 + p0911 + p1113 + p1315 + p070911 + p091113 + p111315 + p07091113 + p09111315)/9)\n",
    "    \n",
    "    return out.mean()"
   ]
  },
  {
   "cell_type": "markdown",
   "metadata": {},
   "source": [
    "Predição do Ideb 2019 com as alavancas alteradas:"
   ]
  },
  {
   "cell_type": "markdown",
   "metadata": {},
   "source": [
    "Alteramos as databases usadas para a predição do Ideb, de modo a mudar as alavancas\n",
    "\n",
    "Quadra de Esportes, Agua Rede Pública, Coleta de Lixo Periódica\n",
    "\n",
    "Temos então uma base com 10% a mais valores de valores TRUE do que temos atualmente em 2017, simulando um investimento nesses 3 drivers, e então iremos como ficaria o Ideb, e quanto melhoraria comparado à base Original.\n",
    "\n",
    "As bases alteradas foram enviadas juntos com os notebooks"
   ]
  },
  {
   "cell_type": "code",
   "execution_count": 28,
   "metadata": {},
   "outputs": [],
   "source": [
    "pred1517_t_bool_alterado = pd.read_csv(r'C:\\Users\\Filipe Prates\\Documents\\Projects\\Datasets\\BCG Challenge\\original\\1517_alterado1.csv')\n",
    "\n",
    "pred131517_t_bool_alterado = pd.read_csv(r'C:\\Users\\Filipe Prates\\Documents\\Projects\\Datasets\\BCG Challenge\\original\\pred131517_alterado.csv')\n",
    "\n",
    "pred11131517_t_bool_alterado = pd.read_csv(r'C:\\Users\\Filipe Prates\\Documents\\Projects\\Datasets\\BCG Challenge\\original\\pred11131517_alterado.csv')"
   ]
  },
  {
   "cell_type": "code",
   "execution_count": 29,
   "metadata": {},
   "outputs": [
    {
     "data": {
      "text/plain": [
       "(33109, 144)"
      ]
     },
     "execution_count": 29,
     "metadata": {},
     "output_type": "execute_result"
    }
   ],
   "source": [
    "pred1517_t_bool_alterado.shape"
   ]
  },
  {
   "cell_type": "code",
   "execution_count": 30,
   "metadata": {},
   "outputs": [],
   "source": [
    "pred_0709_ba = pd.Series(data=model_0709_bool.predict(pred1517_t_bool_alterado)[:,0])\n",
    "pred_0911_ba = pd.Series(data=model_0911_bool.predict(pred1517_t_bool_alterado)[:,0])\n",
    "pred_1113_ba = pd.Series(data=model_1113_bool.predict(pred1517_t_bool_alterado)[:,0])\n",
    "pred_1315_ba = pd.Series(data=model_1315_bool.predict(pred1517_t_bool_alterado)[:,0])"
   ]
  },
  {
   "cell_type": "code",
   "execution_count": 31,
   "metadata": {},
   "outputs": [],
   "source": [
    "pred_070911_ba = pd.Series(data=model_070911_bool.predict(pred131517_t_bool_alterado)[:,0])\n",
    "pred_091113_ba = pd.Series(data=model_091113_bool.predict(pred131517_t_bool_alterado)[:,0])\n",
    "pred_111315_ba = pd.Series(data=model_111315_bool.predict(pred131517_t_bool_alterado)[:,0])"
   ]
  },
  {
   "cell_type": "code",
   "execution_count": 32,
   "metadata": {},
   "outputs": [],
   "source": [
    "pred_07091113_ba = pd.Series(data=model_07091113_bool.predict(pred11131517_t_bool_alterado)[:,0])\n",
    "pred_09111315_ba = pd.Series(data=model_09111315_bool.predict(pred11131517_t_bool_alterado)[:,0])"
   ]
  },
  {
   "cell_type": "code",
   "execution_count": 33,
   "metadata": {},
   "outputs": [],
   "source": [
    "Ideb2019_bool = pd.DataFrame()\n",
    "Ideb2019_bool = ((pred_0709_ba + pred_0911_ba + pred_1113_ba + pred_1315_ba + pred_070911_ba + pred_091113_ba + pred_111315_ba + pred_07091113_ba + pred_09111315_ba)/9)"
   ]
  },
  {
   "cell_type": "code",
   "execution_count": 35,
   "metadata": {},
   "outputs": [
    {
     "data": {
      "text/plain": [
       "5.712040901184082"
      ]
     },
     "execution_count": 35,
     "metadata": {},
     "output_type": "execute_result"
    }
   ],
   "source": [
    "Ideb2019_bool.mean()"
   ]
  },
  {
   "cell_type": "code",
   "execution_count": null,
   "metadata": {},
   "outputs": [],
   "source": []
  }
 ],
 "metadata": {
  "kernelspec": {
   "display_name": "Python 3",
   "language": "python",
   "name": "python3"
  },
  "language_info": {
   "codemirror_mode": {
    "name": "ipython",
    "version": 3
   },
   "file_extension": ".py",
   "mimetype": "text/x-python",
   "name": "python",
   "nbconvert_exporter": "python",
   "pygments_lexer": "ipython3",
   "version": "3.6.6"
  }
 },
 "nbformat": 4,
 "nbformat_minor": 2
}
