{
 "cells": [
  {
   "cell_type": "code",
   "execution_count": 1,
   "metadata": {},
   "outputs": [],
   "source": [
    "import pandas as pd\n",
    "import matplotlib.pyplot as plt\n",
    "import seaborn as sns\n",
    "import numpy as np"
   ]
  },
  {
   "cell_type": "markdown",
   "metadata": {},
   "source": [
    "Limpeza e organização das Databases de Escolas pros modelos preditivos"
   ]
  },
  {
   "cell_type": "markdown",
   "metadata": {},
   "source": [
    "Import databases escolas"
   ]
  },
  {
   "cell_type": "code",
   "execution_count": 2,
   "metadata": {},
   "outputs": [],
   "source": [
    "escola07 = pd.read_csv(r'C:\\Users\\Filipe Prates\\Documents\\Projects\\Datasets\\BCG Challenge\\escolas\\escolas20070101.csv', low_memory=False)\n",
    "escola09 = pd.read_csv(r'C:\\Users\\Filipe Prates\\Documents\\Projects\\Datasets\\BCG Challenge\\escolas\\escolas20090101.csv', low_memory=False)\n",
    "escola11 = pd.read_csv(r'C:\\Users\\Filipe Prates\\Documents\\Projects\\Datasets\\BCG Challenge\\escolas\\escolas20110101.csv', low_memory=False)\n",
    "escola13 = pd.read_csv(r'C:\\Users\\Filipe Prates\\Documents\\Projects\\Datasets\\BCG Challenge\\escolas\\escolas20130101.csv', low_memory=False)\n",
    "escola15 = pd.read_csv(r'C:\\Users\\Filipe Prates\\Documents\\Projects\\Datasets\\BCG Challenge\\escolas\\escolas20150101.csv', low_memory=False)\n",
    "escola17 = pd.read_csv(r'C:\\Users\\Filipe Prates\\Documents\\Projects\\Datasets\\BCG Challenge\\escolas\\escolas20170101.csv', low_memory=False)"
   ]
  },
  {
   "cell_type": "markdown",
   "metadata": {},
   "source": [
    "Import database ideb por escola simplificada"
   ]
  },
  {
   "cell_type": "code",
   "execution_count": 3,
   "metadata": {},
   "outputs": [],
   "source": [
    "idebt2 = pd.read_csv(r'C:\\Users\\Filipe Prates\\Documents\\Projects\\Datasets\\BCG Challenge\\original\\ideb_escolas_anostotais(w_missingdata)2.csv')"
   ]
  },
  {
   "cell_type": "markdown",
   "metadata": {},
   "source": [
    "Rename pra ajudar o merge"
   ]
  },
  {
   "cell_type": "code",
   "execution_count": 4,
   "metadata": {},
   "outputs": [],
   "source": [
    "escola09.rename(columns={'cod_escola_inep': 'Cod_Escola_Completo'}, inplace=True)\n",
    "escola11.rename(columns={'cod_escola_inep': 'Cod_Escola_Completo'}, inplace=True)\n",
    "escola13.rename(columns={'cod_escola_inep': 'Cod_Escola_Completo'}, inplace=True)\n",
    "escola15.rename(columns={'cod_escola_inep': 'Cod_Escola_Completo'}, inplace=True)\n",
    "escola17.rename(columns={'cod_escola_inep': 'Cod_Escola_Completo'}, inplace=True)\n",
    "escola07.rename(columns={'cod_escola_inep': 'Cod_Escola_Completo'}, inplace=True)"
   ]
  },
  {
   "cell_type": "markdown",
   "metadata": {},
   "source": [
    "Simplificar a base, criar escXX_bool com todas as variáveis booleanas de interesse, esc_drop = booleanas + numericas, e esc_num só com as numéricas"
   ]
  },
  {
   "cell_type": "code",
   "execution_count": 5,
   "metadata": {},
   "outputs": [],
   "source": [
    "cdrop = ['mesoregiao','microregiao','municipio','tp_dependencia_desc','tp_rede_publica','rede_publica_desc','in_somente_matriculas_ac_ou_aee','tp_rede','tp_rede_nome','tp_rede_cod','nome_escola','num_estudantes_ensino_medio_propedeutico','num_estudantes_medio_4_serie','num_estudantes_medio_nao_seriada','tp_situacao_funcionamento_desc','tp_situacao_funcionamento','tp_localizacao_desc','tp_categoria_escola_privada_desc','in_conveniada_pp','in_conveniada_pp_desc','tp_convenio_poder_publico','tp_convenio_poder_publico_desc','tp_ocupacao_predio_escolar','tp_ocupacao_predio_escolar_desc','tp_ocupacao_galpao','tp_ocupacao_galpao_desc','in_local_func_outros','in_biblioteca_sala_leitura','in_equip_tv','in_equip_videocassete','in_equip_dvd','in_equip_parabolica','in_equip_copiadora','in_equip_retroprojetor','in_equip_impressora','in_equip_impressora_mult','in_equip_som','in_equip_multimidia','in_equip_fax','in_equip_foto','in_computador','ideb_2013_ai_proficiencia','ideb_2013_ai_media_port','ideb_2013_ai_media_mat','ideb_2013_ai_proficiencia','ideb_2013_ai_fluxo','ideb_2013_anos_iniciais','ideb_2013_af_media_port','ideb_2013_af_media_mat','ideb_2013_af_proficiencia','ideb_2013_af_fluxo','ideb_2013_anos_finais','ideb_2015_ai_media_port','ideb_2015_ai_media_mat','ideb_2015_ai_proficiencia','ideb_2015_ai_fluxo','ideb_2015_anos_iniciais','ideb_2015_af_media_port','ideb_2015_af_media_mat','ideb_2015_af_proficiencia','ideb_2015_af_fluxo','ideb_2015_anos_finais','tp_aee','tp_aee_desc','tp_atividade_complementar','tp_atividade_complementar_desc','in_fundamental_ciclos','tp_localizacao_diferenciada','tp_localizacao_diferenciada_desc','in_material_esp_quilombola','in_material_esp_indigena','in_material_esp_nao_utiliza','tp_indigena_lingua','tp_indigena_lingua_desc','in_formacao_alternancia','cod_municipio','tp_integral','cod_ibge_uf','in_local_func_galpao','in_banheiro_pne','in_dependencias_outras']\n",
    "cbool = ['Unnamed: 0','in_comum_creche','in_comum_pre','in_comum_fund_ai','in_comum_fund_af','in_comum_medio_integrado','in_comum_medio_normal','in_comum_medio_medio','in_em_atividade','in_local_func_predio_escolar','in_local_func_salas_empresa','in_local_func_socioeducativo','in_local_func_unid_prisional','in_local_func_prisional_socio','in_local_func_templo_igreja','in_local_func_casa_professor','in_local_func_salas_outra_esc','in_predio_compartilhado','in_agua_filtrada','in_agua_rede_publica','in_agua_poco_artesiano','in_agua_cacimba','in_agua_fonte_rio','in_agua_inexistente','in_energia_rede_publica','in_energia_gerador','in_energia_outros','in_energia_inexistente','in_esgoto_rede_publica','in_esgoto_fossa','in_esgoto_inexistente','in_lixo_coleta_periodica','in_lixo_queima','in_lixo_joga_outra_area','in_lixo_recicla','in_lixo_enterra','in_lixo_outros','in_sala_diretoria','in_sala_professor','in_laboratorio_informatica','in_laboratorio_ciencias','in_sala_atendimento_especial','in_quadra_esportes_coberta','in_quadra_esportes_descoberta','in_quadra_esportes','in_cozinha', 'in_biblioteca','in_sala_leitura','in_parque_infantil','in_bercario','in_banheiro_fora_predio','in_banheiro_dentro_predio','in_banheiro_ei','in_dependencias_pne','in_secretaria','in_banheiro_chuveiro','in_refeitorio','in_despensa','in_almoxarifado','in_auditorio','in_patio_coberto','in_patio_descoberto','in_alojam_aluno','in_alojam_professor','in_area_verde','in_lavanderia','in_internet','in_banda_larga','in_alimentacao','in_educacao_indigena','in_brasil_alfabetizado','in_final_semana']\n",
    "cmetrics2013 = []\n",
    "esc07_drop = escola07.drop(cdrop, axis=1)\n",
    "esc09_drop = escola09.drop(cdrop, axis=1)\n",
    "esc11_drop = escola11.drop(cdrop, axis=1)\n",
    "esc13_drop = escola13.drop(cdrop, axis=1)\n",
    "esc15_drop = escola15.drop(cdrop, axis=1)\n",
    "esc17_drop = escola17.drop(cdrop, axis=1)"
   ]
  },
  {
   "cell_type": "code",
   "execution_count": 6,
   "metadata": {},
   "outputs": [],
   "source": [
    "esc07_bool = pd.DataFrame()\n",
    "esc09_bool = pd.DataFrame()\n",
    "esc11_bool = pd.DataFrame()\n",
    "esc13_bool = pd.DataFrame()\n",
    "esc15_bool = pd.DataFrame()\n",
    "esc17_bool = pd.DataFrame()\n",
    "for c in cbool:\n",
    "    esc07_bool[c] = esc07_drop[c]\n",
    "    esc09_bool[c] = esc09_drop[c]\n",
    "    esc11_bool[c] = esc11_drop[c]\n",
    "    esc13_bool[c] = esc13_drop[c]\n",
    "    esc15_bool[c] = esc15_drop[c]\n",
    "    esc17_bool[c] = esc17_drop[c]"
   ]
  },
  {
   "cell_type": "code",
   "execution_count": 7,
   "metadata": {},
   "outputs": [],
   "source": [
    "esc07_bool = esc07_bool.astype(bool)\n",
    "esc09_bool = esc09_bool.astype(bool)\n",
    "esc11_bool = esc11_bool.astype(bool)\n",
    "esc13_bool = esc13_bool.astype(bool)\n",
    "esc15_bool = esc15_bool.astype(bool)\n",
    "esc17_bool = esc17_bool.astype(bool)"
   ]
  },
  {
   "cell_type": "markdown",
   "metadata": {},
   "source": [
    "Recolocar o Cod_Escola_Completo"
   ]
  },
  {
   "cell_type": "code",
   "execution_count": 8,
   "metadata": {},
   "outputs": [],
   "source": [
    "esc07_bool['Cod_Escola_Completo'] = escola07['Cod_Escola_Completo']\n",
    "esc09_bool['Cod_Escola_Completo'] = escola09['Cod_Escola_Completo']\n",
    "esc11_bool['Cod_Escola_Completo'] = escola11['Cod_Escola_Completo']\n",
    "esc13_bool['Cod_Escola_Completo'] = escola13['Cod_Escola_Completo']\n",
    "esc15_bool['Cod_Escola_Completo'] = escola15['Cod_Escola_Completo']\n",
    "esc17_bool['Cod_Escola_Completo'] = escola17['Cod_Escola_Completo']\n"
   ]
  },
  {
   "cell_type": "markdown",
   "metadata": {},
   "source": [
    "Merge das esc_bool com os targets\n"
   ]
  },
  {
   "cell_type": "code",
   "execution_count": 14,
   "metadata": {},
   "outputs": [],
   "source": [
    "esc07_bool_ideb = pd.merge(esc07_bool,idebt2,on=['Cod_Escola_Completo'])\n",
    "esc09_bool_ideb = pd.merge(esc09_bool,idebt2,on=['Cod_Escola_Completo'])\n",
    "esc11_bool_ideb = pd.merge(esc11_bool,idebt2,on=['Cod_Escola_Completo'])\n",
    "esc13_bool_ideb = pd.merge(esc13_bool,idebt2,on=['Cod_Escola_Completo'])\n",
    "esc15_bool_ideb = pd.merge(esc15_bool,idebt2,on=['Cod_Escola_Completo'])\n",
    "esc17_bool_ideb = pd.merge(esc17_bool,idebt2,on=['Cod_Escola_Completo'])"
   ]
  },
  {
   "cell_type": "code",
   "execution_count": 16,
   "metadata": {},
   "outputs": [],
   "source": [
    "esc07_bool_ideb.to_csv(r'C:\\Users\\Filipe Prates\\Documents\\Projects\\Datasets\\BCG Challenge\\original\\esc_bool\\esc07_bool.csv')\n",
    "esc09_bool_ideb.to_csv(r'C:\\Users\\Filipe Prates\\Documents\\Projects\\Datasets\\BCG Challenge\\original\\esc_bool\\esc09_bool.csv')\n",
    "esc11_bool_ideb.to_csv(r'C:\\Users\\Filipe Prates\\Documents\\Projects\\Datasets\\BCG Challenge\\original\\esc_bool\\esc11_bool.csv')\n",
    "esc13_bool_ideb.to_csv(r'C:\\Users\\Filipe Prates\\Documents\\Projects\\Datasets\\BCG Challenge\\original\\esc_bool\\esc13_bool.csv')\n",
    "esc15_bool_ideb.to_csv(r'C:\\Users\\Filipe Prates\\Documents\\Projects\\Datasets\\BCG Challenge\\original\\esc_bool\\esc15_bool.csv')\n",
    "esc17_bool_ideb.to_csv(r'C:\\Users\\Filipe Prates\\Documents\\Projects\\Datasets\\BCG Challenge\\original\\esc_bool\\esc17_bool.csv')"
   ]
  },
  {
   "cell_type": "code",
   "execution_count": 12,
   "metadata": {
    "collapsed": true
   },
   "outputs": [
    {
     "data": {
      "text/plain": [
       "Unnamed: 0_x                          0\n",
       "in_comum_creche                       0\n",
       "in_comum_pre                          0\n",
       "in_comum_fund_ai                      0\n",
       "in_comum_fund_af                      0\n",
       "in_comum_medio_integrado              0\n",
       "in_comum_medio_normal                 0\n",
       "in_comum_medio_medio                  0\n",
       "in_em_atividade                       0\n",
       "in_local_func_predio_escolar          0\n",
       "in_local_func_salas_empresa           0\n",
       "in_local_func_socioeducativo          0\n",
       "in_local_func_unid_prisional          0\n",
       "in_local_func_prisional_socio         0\n",
       "in_local_func_templo_igreja           0\n",
       "in_local_func_casa_professor          0\n",
       "in_local_func_salas_outra_esc         0\n",
       "in_predio_compartilhado               0\n",
       "in_agua_filtrada                      0\n",
       "in_agua_rede_publica                  0\n",
       "in_agua_poco_artesiano                0\n",
       "in_agua_cacimba                       0\n",
       "in_agua_fonte_rio                     0\n",
       "in_agua_inexistente                   0\n",
       "in_energia_rede_publica               0\n",
       "in_energia_gerador                    0\n",
       "in_energia_outros                     0\n",
       "in_energia_inexistente                0\n",
       "in_esgoto_rede_publica                0\n",
       "in_esgoto_fossa                       0\n",
       "                                  ...  \n",
       "Nome_Escola                           0\n",
       "Rede                                  0\n",
       "IndicadorRendimento_2005          56916\n",
       "IndicadorRendimento_2007          39052\n",
       "IndicadorRendimento_2009          23189\n",
       "IndicadorRendimento_2011          27739\n",
       "IndicadorRendimento_2013          28586\n",
       "IndicadorRendimento_2015          30247\n",
       "IndicadorRendimento_2017          18467\n",
       "NotaProvaBrasil_NotaMedia_2005    56916\n",
       "NotaProvaBrasil_NotaMedia_2007    39052\n",
       "NotaProvaBrasil_NotaMedia_2009    28043\n",
       "NotaProvaBrasil_NotaMedia_2011    32214\n",
       "NotaProvaBrasil_NotaMedia_2013    33638\n",
       "NotaProvaBrasil_NotaMedia_2015    35119\n",
       "NotaProvaBrasil_NotaMedia_2017    36400\n",
       "Ideb2005                          56916\n",
       "Ideb2007                          39052\n",
       "Ideb2009                          28130\n",
       "Ideb2011                          32244\n",
       "Ideb2013                          33644\n",
       "Ideb2015                          35136\n",
       "Ideb2017                          36413\n",
       "ProjecaoIdeb2011                  20523\n",
       "ProjecaoIdeb2013                  14990\n",
       "ProjecaoIdeb2015                  11009\n",
       "ProjecaoIdeb2017                   8040\n",
       "ProjecaoIdeb2019                   1505\n",
       "ProjecaoIdeb2021                   1505\n",
       "is_anosiniciais                       0\n",
       "Length: 107, dtype: int64"
      ]
     },
     "execution_count": 12,
     "metadata": {},
     "output_type": "execute_result"
    }
   ],
   "source": [
    "esc17_bool_ideb.isnull().sum()"
   ]
  },
  {
   "cell_type": "code",
   "execution_count": 22,
   "metadata": {
    "collapsed": true
   },
   "outputs": [
    {
     "data": {
      "text/plain": [
       "['Unnamed: 0_x',\n",
       " 'in_comum_creche',\n",
       " 'in_comum_pre',\n",
       " 'in_comum_fund_ai',\n",
       " 'in_comum_fund_af',\n",
       " 'in_comum_medio_integrado',\n",
       " 'in_comum_medio_normal',\n",
       " 'in_em_atividade',\n",
       " 'in_local_func_predio_escolar',\n",
       " 'in_local_func_salas_empresa',\n",
       " 'in_local_func_socioeducativo',\n",
       " 'in_local_func_unid_prisional',\n",
       " 'in_local_func_prisional_socio',\n",
       " 'in_local_func_templo_igreja',\n",
       " 'in_local_func_casa_professor',\n",
       " 'in_local_func_salas_outra_esc',\n",
       " 'in_predio_compartilhado',\n",
       " 'in_agua_filtrada',\n",
       " 'in_agua_rede_publica',\n",
       " 'in_agua_poco_artesiano',\n",
       " 'in_agua_cacimba',\n",
       " 'in_agua_fonte_rio',\n",
       " 'in_agua_inexistente',\n",
       " 'in_energia_rede_publica',\n",
       " 'in_energia_gerador',\n",
       " 'in_energia_outros',\n",
       " 'in_energia_inexistente',\n",
       " 'in_esgoto_rede_publica',\n",
       " 'in_esgoto_fossa',\n",
       " 'in_esgoto_inexistente',\n",
       " 'in_lixo_coleta_periodica',\n",
       " 'in_lixo_queima',\n",
       " 'in_lixo_joga_outra_area',\n",
       " 'in_lixo_recicla',\n",
       " 'in_lixo_enterra',\n",
       " 'in_lixo_outros',\n",
       " 'in_sala_diretoria',\n",
       " 'in_sala_professor',\n",
       " 'in_laboratorio_informatica',\n",
       " 'in_laboratorio_ciencias',\n",
       " 'in_sala_atendimento_especial',\n",
       " 'in_quadra_esportes_coberta',\n",
       " 'in_quadra_esportes_descoberta',\n",
       " 'in_quadra_esportes',\n",
       " 'in_cozinha',\n",
       " 'in_biblioteca',\n",
       " 'in_sala_leitura',\n",
       " 'in_parque_infantil',\n",
       " 'in_bercario',\n",
       " 'in_banheiro_fora_predio',\n",
       " 'in_banheiro_dentro_predio',\n",
       " 'in_banheiro_ei',\n",
       " 'in_dependencias_pne',\n",
       " 'in_secretaria',\n",
       " 'in_banheiro_chuveiro',\n",
       " 'in_refeitorio',\n",
       " 'in_despensa',\n",
       " 'in_almoxarifado',\n",
       " 'in_auditorio',\n",
       " 'in_patio_coberto',\n",
       " 'in_patio_descoberto',\n",
       " 'in_alojam_aluno',\n",
       " 'in_alojam_professor',\n",
       " 'in_area_verde',\n",
       " 'in_lavanderia',\n",
       " 'in_internet',\n",
       " 'in_banda_larga',\n",
       " 'in_alimentacao',\n",
       " 'in_educacao_indigena',\n",
       " 'in_brasil_alfabetizado',\n",
       " 'in_final_semana',\n",
       " 'Cod_Escola_Completo',\n",
       " 'Unnamed: 0_y',\n",
       " 'Co_UF',\n",
       " 'Cod_Municipio_Completo',\n",
       " 'Nome_Municipio',\n",
       " 'Nome_Escola',\n",
       " 'Rede',\n",
       " 'IndicadorRendimento_2005',\n",
       " 'IndicadorRendimento_2007',\n",
       " 'IndicadorRendimento_2009',\n",
       " 'IndicadorRendimento_2011',\n",
       " 'IndicadorRendimento_2013',\n",
       " 'IndicadorRendimento_2015',\n",
       " 'IndicadorRendimento_2017',\n",
       " 'NotaProvaBrasil_NotaMedia_2005',\n",
       " 'NotaProvaBrasil_NotaMedia_2007',\n",
       " 'NotaProvaBrasil_NotaMedia_2009',\n",
       " 'NotaProvaBrasil_NotaMedia_2011',\n",
       " 'NotaProvaBrasil_NotaMedia_2013',\n",
       " 'NotaProvaBrasil_NotaMedia_2015',\n",
       " 'NotaProvaBrasil_NotaMedia_2017',\n",
       " 'Ideb2005',\n",
       " 'Ideb2007',\n",
       " 'Ideb2009',\n",
       " 'Ideb2011',\n",
       " 'Ideb2013',\n",
       " 'Ideb2015',\n",
       " 'Ideb2017',\n",
       " 'ProjecaoIdeb2011',\n",
       " 'ProjecaoIdeb2013',\n",
       " 'ProjecaoIdeb2015',\n",
       " 'ProjecaoIdeb2017',\n",
       " 'ProjecaoIdeb2019',\n",
       " 'ProjecaoIdeb2021',\n",
       " 'is_anosiniciais']"
      ]
     },
     "execution_count": 22,
     "metadata": {},
     "output_type": "execute_result"
    }
   ],
   "source": [
    "list(esc07_bool_ideb.columns)"
   ]
  },
  {
   "cell_type": "code",
   "execution_count": 10,
   "metadata": {
    "collapsed": true
   },
   "outputs": [
    {
     "data": {
      "text/plain": [
       "Unnamed: 0_x                          0\n",
       "in_comum_creche                       0\n",
       "in_comum_pre                          0\n",
       "in_comum_fund_ai                      0\n",
       "in_comum_fund_af                      0\n",
       "in_comum_medio_integrado              0\n",
       "in_comum_medio_normal                 0\n",
       "in_comum_medio_medio                  0\n",
       "in_em_atividade                       0\n",
       "in_local_func_predio_escolar          0\n",
       "in_local_func_salas_empresa           0\n",
       "in_local_func_socioeducativo          0\n",
       "in_local_func_unid_prisional          0\n",
       "in_local_func_prisional_socio         0\n",
       "in_local_func_templo_igreja           0\n",
       "in_local_func_casa_professor          0\n",
       "in_local_func_salas_outra_esc         0\n",
       "in_predio_compartilhado               0\n",
       "in_agua_filtrada                      0\n",
       "in_agua_rede_publica                  0\n",
       "in_agua_poco_artesiano                0\n",
       "in_agua_cacimba                       0\n",
       "in_agua_fonte_rio                     0\n",
       "in_agua_inexistente                   0\n",
       "in_energia_rede_publica               0\n",
       "in_energia_gerador                    0\n",
       "in_energia_outros                     0\n",
       "in_energia_inexistente                0\n",
       "in_esgoto_rede_publica                0\n",
       "in_esgoto_fossa                       0\n",
       "                                  ...  \n",
       "Nome_Escola                           0\n",
       "Rede                                  0\n",
       "IndicadorRendimento_2005          51931\n",
       "IndicadorRendimento_2007          34057\n",
       "IndicadorRendimento_2009          19252\n",
       "IndicadorRendimento_2011          24809\n",
       "IndicadorRendimento_2013          26501\n",
       "IndicadorRendimento_2015          28812\n",
       "IndicadorRendimento_2017          18094\n",
       "NotaProvaBrasil_NotaMedia_2005    51931\n",
       "NotaProvaBrasil_NotaMedia_2007    34057\n",
       "NotaProvaBrasil_NotaMedia_2009    24112\n",
       "NotaProvaBrasil_NotaMedia_2011    29223\n",
       "NotaProvaBrasil_NotaMedia_2013    31416\n",
       "NotaProvaBrasil_NotaMedia_2015    33577\n",
       "NotaProvaBrasil_NotaMedia_2017    35140\n",
       "Ideb2005                          51931\n",
       "Ideb2007                          34057\n",
       "Ideb2009                          24193\n",
       "Ideb2011                          29252\n",
       "Ideb2013                          31421\n",
       "Ideb2015                          33594\n",
       "Ideb2017                          35151\n",
       "ProjecaoIdeb2011                  16582\n",
       "ProjecaoIdeb2013                  12109\n",
       "ProjecaoIdeb2015                   9099\n",
       "ProjecaoIdeb2017                   6961\n",
       "ProjecaoIdeb2019                   1290\n",
       "ProjecaoIdeb2021                   1290\n",
       "is_anosiniciais                       0\n",
       "Length: 107, dtype: int64"
      ]
     },
     "execution_count": 10,
     "metadata": {},
     "output_type": "execute_result"
    }
   ],
   "source": [
    "esc07_bool_ideb.isnull().sum()"
   ]
  },
  {
   "cell_type": "code",
   "execution_count": 26,
   "metadata": {},
   "outputs": [
    {
     "data": {
      "text/plain": [
       "(98476, 106)"
      ]
     },
     "execution_count": 26,
     "metadata": {},
     "output_type": "execute_result"
    }
   ],
   "source": [
    "esc07_bool_ideb.shape"
   ]
  },
  {
   "cell_type": "markdown",
   "metadata": {},
   "source": [
    "Agora fazer o escXX_num"
   ]
  },
  {
   "cell_type": "code",
   "execution_count": 9,
   "metadata": {},
   "outputs": [],
   "source": [
    "esc07_num = esc07_drop.drop(cbool, axis=1)\n",
    "esc09_num = esc09_drop.drop(cbool, axis=1)\n",
    "esc11_num = esc11_drop.drop(cbool, axis=1)\n",
    "esc13_num = esc13_drop.drop(cbool, axis=1)\n",
    "esc15_num = esc15_drop.drop(cbool, axis=1)\n",
    "esc17_num = esc17_drop.drop(cbool, axis=1)"
   ]
  },
  {
   "cell_type": "code",
   "execution_count": 10,
   "metadata": {},
   "outputs": [],
   "source": [
    "esc07_num_ideb = pd.merge(esc07_num,idebt2,on=['Cod_Escola_Completo'])\n",
    "esc09_num_ideb = pd.merge(esc09_num,idebt2,on=['Cod_Escola_Completo'])\n",
    "esc11_num_ideb = pd.merge(esc11_num,idebt2,on=['Cod_Escola_Completo'])\n",
    "esc13_num_ideb = pd.merge(esc13_num,idebt2,on=['Cod_Escola_Completo'])\n",
    "esc15_num_ideb = pd.merge(esc15_num,idebt2,on=['Cod_Escola_Completo'])\n",
    "esc17_num_ideb = pd.merge(esc17_num,idebt2,on=['Cod_Escola_Completo'])"
   ]
  },
  {
   "cell_type": "code",
   "execution_count": 13,
   "metadata": {
    "collapsed": true
   },
   "outputs": [
    {
     "data": {
      "text/plain": [
       "ano_censo                                       0\n",
       "Cod_Escola_Completo                             0\n",
       "regiao                                          0\n",
       "unidade_federativa                              0\n",
       "tp_dependencia                                  0\n",
       "num_matriculas                                335\n",
       "num_estudantes                                335\n",
       "num_estudantes_ensino_infantil                335\n",
       "num_estudantes_ensino_fund_anos_iniciais      335\n",
       "num_estudantes_ensino_fund_anos_finais        335\n",
       "num_estudantes_fund_1_ano                     335\n",
       "num_estudantes_fund_2_ano                     335\n",
       "num_estudantes_fund_3_ano                     335\n",
       "num_estudantes_fund_4_ano                     335\n",
       "num_estudantes_fund_5_ano                     335\n",
       "num_estudantes_fund_6_ano                     335\n",
       "num_estudantes_fund_7_ano                     335\n",
       "num_estudantes_fund_8_ano                     335\n",
       "num_estudantes_fund_9_ano                     335\n",
       "num_estudantes_medio_1_serie                  335\n",
       "num_estudantes_medio_2_serie                  335\n",
       "num_estudantes_medio_3_serie                  335\n",
       "num_turmas                                    335\n",
       "tp_localizacao                                  0\n",
       "tp_categoria_escola_privada                 98390\n",
       "num_salas_existentes                          335\n",
       "num_salas_utilizadas                          335\n",
       "num_equip_tv                                    0\n",
       "num_equip_videocassete                          0\n",
       "num_equip_dvd                                   0\n",
       "                                            ...  \n",
       "Nome_Escola                                     0\n",
       "Rede                                            0\n",
       "IndicadorRendimento_2005                    51931\n",
       "IndicadorRendimento_2007                    34057\n",
       "IndicadorRendimento_2009                    19252\n",
       "IndicadorRendimento_2011                    24809\n",
       "IndicadorRendimento_2013                    26501\n",
       "IndicadorRendimento_2015                    28812\n",
       "IndicadorRendimento_2017                    18094\n",
       "NotaProvaBrasil_NotaMedia_2005              51931\n",
       "NotaProvaBrasil_NotaMedia_2007              34057\n",
       "NotaProvaBrasil_NotaMedia_2009              24112\n",
       "NotaProvaBrasil_NotaMedia_2011              29223\n",
       "NotaProvaBrasil_NotaMedia_2013              31416\n",
       "NotaProvaBrasil_NotaMedia_2015              33577\n",
       "NotaProvaBrasil_NotaMedia_2017              35140\n",
       "Ideb2005                                    51931\n",
       "Ideb2007                                    34057\n",
       "Ideb2009                                    24193\n",
       "Ideb2011                                    29252\n",
       "Ideb2013                                    31421\n",
       "Ideb2015                                    33594\n",
       "Ideb2017                                    35151\n",
       "ProjecaoIdeb2011                            16582\n",
       "ProjecaoIdeb2013                            12109\n",
       "ProjecaoIdeb2015                             9099\n",
       "ProjecaoIdeb2017                             6961\n",
       "ProjecaoIdeb2019                             1290\n",
       "ProjecaoIdeb2021                             1290\n",
       "is_anosiniciais                                 0\n",
       "Length: 85, dtype: int64"
      ]
     },
     "execution_count": 13,
     "metadata": {},
     "output_type": "execute_result"
    }
   ],
   "source": [
    "esc07_num_ideb.isnull().sum()"
   ]
  },
  {
   "cell_type": "markdown",
   "metadata": {},
   "source": [
    "As colunas com mais numero de valores nulos são as relacionadas com o Ideb, Nota, Indicador de Rendimento e Projecao.\n",
    "Para tentar completar melhor a database, assumirei os valores anteriores do ano da base como a média dos valores por ano. Por exemplo, na database esc11_numfeatures, teremos os valores do Ideb/NPB/Indicador dos anos 07, 09 e 11, e tentaremos predizer o de 13\n",
    "\n",
    "Agora tentarei rapidamente fazer um teste com os valores do esc07, pois é a menor database, para testar se a ideia é viável, temos que fazer um pouco mais de data prep, e escrever os .csv para continuar em outro notebook (Gamma8)\n",
    "\n",
    "\n",
    ":::::AREA DE TESTE:::::"
   ]
  },
  {
   "cell_type": "code",
   "execution_count": 34,
   "metadata": {
    "collapsed": true
   },
   "outputs": [
    {
     "data": {
      "text/plain": [
       "['ano_censo',\n",
       " 'Cod_Escola_Completo',\n",
       " 'regiao',\n",
       " 'unidade_federativa',\n",
       " 'tp_dependencia',\n",
       " 'num_matriculas',\n",
       " 'num_estudantes',\n",
       " 'in_comum_medio_medio',\n",
       " 'num_estudantes_ensino_infantil',\n",
       " 'num_estudantes_ensino_fund_anos_iniciais',\n",
       " 'num_estudantes_ensino_fund_anos_finais',\n",
       " 'num_estudantes_fund_1_ano',\n",
       " 'num_estudantes_fund_2_ano',\n",
       " 'num_estudantes_fund_3_ano',\n",
       " 'num_estudantes_fund_4_ano',\n",
       " 'num_estudantes_fund_5_ano',\n",
       " 'num_estudantes_fund_6_ano',\n",
       " 'num_estudantes_fund_7_ano',\n",
       " 'num_estudantes_fund_8_ano',\n",
       " 'num_estudantes_fund_9_ano',\n",
       " 'num_estudantes_medio_1_serie',\n",
       " 'num_estudantes_medio_2_serie',\n",
       " 'num_estudantes_medio_3_serie',\n",
       " 'num_turmas',\n",
       " 'tp_localizacao',\n",
       " 'tp_categoria_escola_privada',\n",
       " 'in_local_func_galpao',\n",
       " 'in_banheiro_pne',\n",
       " 'in_dependencias_outras',\n",
       " 'num_salas_existentes',\n",
       " 'num_salas_utilizadas',\n",
       " 'num_equip_tv',\n",
       " 'num_equip_videocassete',\n",
       " 'num_equip_dvd',\n",
       " 'num_equip_parabolica',\n",
       " 'num_equip_copiadora',\n",
       " 'num_equip_retroprojetor',\n",
       " 'num_equip_impressora',\n",
       " 'num_equip_impressora_mult',\n",
       " 'num_equip_som',\n",
       " 'num_equip_multimidia',\n",
       " 'num_equip_fax',\n",
       " 'num_equip_foto',\n",
       " 'num_computador',\n",
       " 'num_comp_administrativo',\n",
       " 'num_comp_aluno',\n",
       " 'num_funcionarios',\n",
       " 'num_professores',\n",
       " 'num_professores_em_regencia',\n",
       " 'num_professores_em_regencia_fund_ai',\n",
       " 'num_professores_em_regencia_fund_af',\n",
       " 'num_professores_em_regencia_ens_medio',\n",
       " 'co_lingua_indigena',\n",
       " 'num_matriculas_ensino_integral',\n",
       " 'num_estudantes_ensino_integral',\n",
       " 'Unnamed: 0',\n",
       " 'Co_UF',\n",
       " 'Cod_Municipio_Completo',\n",
       " 'Nome_Municipio',\n",
       " 'Nome_Escola',\n",
       " 'Rede',\n",
       " 'IndicadorRendimento_2005',\n",
       " 'IndicadorRendimento_2007',\n",
       " 'IndicadorRendimento_2009',\n",
       " 'IndicadorRendimento_2011',\n",
       " 'IndicadorRendimento_2013',\n",
       " 'IndicadorRendimento_2015',\n",
       " 'IndicadorRendimento_2017',\n",
       " 'NotaProvaBrasil_NotaMedia_2005',\n",
       " 'NotaProvaBrasil_NotaMedia_2007',\n",
       " 'NotaProvaBrasil_NotaMedia_2009',\n",
       " 'NotaProvaBrasil_NotaMedia_2011',\n",
       " 'NotaProvaBrasil_NotaMedia_2013',\n",
       " 'NotaProvaBrasil_NotaMedia_2015',\n",
       " 'NotaProvaBrasil_NotaMedia_2017',\n",
       " 'Ideb2005',\n",
       " 'Ideb2007',\n",
       " 'Ideb2009',\n",
       " 'Ideb2011',\n",
       " 'Ideb2013',\n",
       " 'Ideb2015',\n",
       " 'Ideb2017',\n",
       " 'ProjecaoIdeb2011',\n",
       " 'ProjecaoIdeb2013',\n",
       " 'ProjecaoIdeb2015',\n",
       " 'ProjecaoIdeb2017',\n",
       " 'ProjecaoIdeb2019',\n",
       " 'ProjecaoIdeb2021',\n",
       " 'is_anosiniciais']"
      ]
     },
     "execution_count": 34,
     "metadata": {},
     "output_type": "execute_result"
    }
   ],
   "source": [
    "list(esc07_num_ideb.columns)"
   ]
  },
  {
   "cell_type": "code",
   "execution_count": 12,
   "metadata": {
    "collapsed": true
   },
   "outputs": [
    {
     "ename": "NameError",
     "evalue": "name 'cclean07_num' is not defined",
     "output_type": "error",
     "traceback": [
      "\u001b[1;31m---------------------------------------------------------------------------\u001b[0m",
      "\u001b[1;31mNameError\u001b[0m                                 Traceback (most recent call last)",
      "\u001b[1;32m<ipython-input-12-9d3b153c5a73>\u001b[0m in \u001b[0;36m<module>\u001b[1;34m\u001b[0m\n\u001b[0;32m      1\u001b[0m \u001b[0mtcclean07_num\u001b[0m \u001b[1;33m=\u001b[0m \u001b[1;33m[\u001b[0m\u001b[1;34m'ProjecaoIdeb2021'\u001b[0m\u001b[1;33m,\u001b[0m\u001b[1;34m'ProjecaoIdeb2019'\u001b[0m\u001b[1;33m,\u001b[0m\u001b[1;34m'ProjecaoIdeb2017'\u001b[0m\u001b[1;33m,\u001b[0m\u001b[1;34m'ProjecaoIdeb2013'\u001b[0m\u001b[1;33m,\u001b[0m\u001b[1;34m'ProjecaoIdeb2011'\u001b[0m\u001b[1;33m,\u001b[0m\u001b[1;34m'Ideb2017'\u001b[0m\u001b[1;33m,\u001b[0m\u001b[1;34m'Ideb2015'\u001b[0m\u001b[1;33m,\u001b[0m\u001b[1;34m'Ideb2013'\u001b[0m\u001b[1;33m,\u001b[0m\u001b[1;34m'Ideb2009'\u001b[0m\u001b[1;33m,\u001b[0m\u001b[1;34m'NotaProvaBrasil_NotaMedia_2017'\u001b[0m\u001b[1;33m,\u001b[0m\u001b[1;34m'NotaProvaBrasil_NotaMedia_2015'\u001b[0m\u001b[1;33m,\u001b[0m\u001b[1;34m'NotaProvaBrasil_NotaMedia_2011'\u001b[0m\u001b[1;33m,\u001b[0m\u001b[1;34m'IndicadorRendimento_2017'\u001b[0m\u001b[1;33m,\u001b[0m\u001b[1;34m'IndicadorRendimento_2013'\u001b[0m\u001b[1;33m,\u001b[0m\u001b[1;34m'IndicadorRendimento_2011'\u001b[0m\u001b[1;33m,\u001b[0m\u001b[1;34m'IndicadorRendimento_2009'\u001b[0m\u001b[1;33m,\u001b[0m\u001b[1;34m'Rede'\u001b[0m\u001b[1;33m,\u001b[0m\u001b[1;34m'Nome_Escola'\u001b[0m\u001b[1;33m,\u001b[0m\u001b[1;34m'Nome_Municipio'\u001b[0m\u001b[1;33m,\u001b[0m\u001b[1;34m'Co_UF'\u001b[0m\u001b[1;33m,\u001b[0m\u001b[1;34m'Unnamed: 0'\u001b[0m\u001b[1;33m,\u001b[0m\u001b[1;34m'tp_categoria_escola_privada'\u001b[0m\u001b[1;33m,\u001b[0m\u001b[1;34m'co_lingua_indigena'\u001b[0m\u001b[1;33m,\u001b[0m\u001b[1;34m'num_estudantes_ensino_integral'\u001b[0m\u001b[1;33m,\u001b[0m\u001b[1;34m'num_matriculas_ensino_integral'\u001b[0m\u001b[1;33m,\u001b[0m\u001b[1;34m'NotaProvaBrasil_NotaMedia_2009'\u001b[0m\u001b[1;33m,\u001b[0m\u001b[1;34m'NotaProvaBrasil_NotaMedia_2013'\u001b[0m\u001b[1;33m,\u001b[0m\u001b[1;34m'IndicadorRendimento_2015'\u001b[0m\u001b[1;33m,\u001b[0m\u001b[1;34m'Ideb2011'\u001b[0m\u001b[1;33m,\u001b[0m\u001b[1;34m'ProjecaoIdeb2015'\u001b[0m\u001b[1;33m,\u001b[0m\u001b[1;34m'Cod_Escola_Completo'\u001b[0m\u001b[1;33m,\u001b[0m\u001b[1;34m'unidade_federativa'\u001b[0m\u001b[1;33m,\u001b[0m\u001b[1;34m'Cod_Municipio_Completo'\u001b[0m\u001b[1;33m]\u001b[0m\u001b[1;33m\u001b[0m\u001b[0m\n\u001b[0;32m      2\u001b[0m \u001b[0mttarget07\u001b[0m \u001b[1;33m=\u001b[0m \u001b[1;33m[\u001b[0m\u001b[1;34m'Ideb2009'\u001b[0m\u001b[1;33m]\u001b[0m\u001b[1;33m\u001b[0m\u001b[0m\n\u001b[1;32m----> 3\u001b[1;33m \u001b[0mtesc07_num_ideb_clean\u001b[0m \u001b[1;33m=\u001b[0m \u001b[0mesc07_num_ideb\u001b[0m\u001b[1;33m.\u001b[0m\u001b[0mdrop\u001b[0m\u001b[1;33m(\u001b[0m\u001b[0mcclean07_num\u001b[0m\u001b[1;33m,\u001b[0m \u001b[0maxis\u001b[0m\u001b[1;33m=\u001b[0m\u001b[1;36m1\u001b[0m\u001b[1;33m)\u001b[0m\u001b[1;33m\u001b[0m\u001b[0m\n\u001b[0m",
      "\u001b[1;31mNameError\u001b[0m: name 'cclean07_num' is not defined"
     ]
    }
   ],
   "source": [
    "tcclean07_num = ['ProjecaoIdeb2021','ProjecaoIdeb2019','ProjecaoIdeb2017','ProjecaoIdeb2013','ProjecaoIdeb2011','Ideb2017','Ideb2015','Ideb2013','Ideb2009','NotaProvaBrasil_NotaMedia_2017','NotaProvaBrasil_NotaMedia_2015','NotaProvaBrasil_NotaMedia_2011','IndicadorRendimento_2017','IndicadorRendimento_2013','IndicadorRendimento_2011','IndicadorRendimento_2009','Rede','Nome_Escola','Nome_Municipio','Co_UF','Unnamed: 0','tp_categoria_escola_privada','co_lingua_indigena','num_estudantes_ensino_integral','num_matriculas_ensino_integral','NotaProvaBrasil_NotaMedia_2009','NotaProvaBrasil_NotaMedia_2013','IndicadorRendimento_2015','Ideb2011','ProjecaoIdeb2015','Cod_Escola_Completo','unidade_federativa','Cod_Municipio_Completo']\n",
    "ttarget07 = ['Ideb2009']\n",
    "tesc07_num_ideb_clean = esc07_num_ideb.drop(tcclean07_num, axis=1)"
   ]
  },
  {
   "cell_type": "code",
   "execution_count": 15,
   "metadata": {
    "collapsed": true
   },
   "outputs": [
    {
     "data": {
      "text/plain": [
       "ano_censo                                       0\n",
       "regiao                                          0\n",
       "tp_dependencia                                  0\n",
       "num_matriculas                                335\n",
       "num_estudantes                                335\n",
       "num_estudantes_ensino_infantil                335\n",
       "num_estudantes_ensino_fund_anos_iniciais      335\n",
       "num_estudantes_ensino_fund_anos_finais        335\n",
       "num_estudantes_fund_1_ano                     335\n",
       "num_estudantes_fund_2_ano                     335\n",
       "num_estudantes_fund_3_ano                     335\n",
       "num_estudantes_fund_4_ano                     335\n",
       "num_estudantes_fund_5_ano                     335\n",
       "num_estudantes_fund_6_ano                     335\n",
       "num_estudantes_fund_7_ano                     335\n",
       "num_estudantes_fund_8_ano                     335\n",
       "num_estudantes_fund_9_ano                     335\n",
       "num_estudantes_medio_1_serie                  335\n",
       "num_estudantes_medio_2_serie                  335\n",
       "num_estudantes_medio_3_serie                  335\n",
       "num_turmas                                    335\n",
       "tp_localizacao                                  0\n",
       "num_salas_existentes                          335\n",
       "num_salas_utilizadas                          335\n",
       "num_equip_tv                                    0\n",
       "num_equip_videocassete                          0\n",
       "num_equip_dvd                                   0\n",
       "num_equip_parabolica                            0\n",
       "num_equip_copiadora                             0\n",
       "num_equip_retroprojetor                         0\n",
       "num_equip_impressora                            0\n",
       "num_equip_impressora_mult                       0\n",
       "num_equip_som                                   0\n",
       "num_equip_multimidia                            0\n",
       "num_equip_fax                                   0\n",
       "num_equip_foto                                  0\n",
       "num_computador                                  0\n",
       "num_comp_administrativo                         0\n",
       "num_comp_aluno                                  0\n",
       "num_funcionarios                              335\n",
       "num_professores                               361\n",
       "num_professores_em_regencia                   361\n",
       "num_professores_em_regencia_fund_ai           361\n",
       "num_professores_em_regencia_fund_af           361\n",
       "num_professores_em_regencia_ens_medio         361\n",
       "Cod_Municipio_Completo                          0\n",
       "IndicadorRendimento_2005                    51931\n",
       "IndicadorRendimento_2007                    34057\n",
       "NotaProvaBrasil_NotaMedia_2005              51931\n",
       "NotaProvaBrasil_NotaMedia_2007              34057\n",
       "Ideb2005                                    51931\n",
       "Ideb2007                                    34057\n",
       "is_anosiniciais                                 0\n",
       "dtype: int64"
      ]
     },
     "execution_count": 15,
     "metadata": {},
     "output_type": "execute_result"
    }
   ],
   "source": [
    "tesc07_num_ideb_clean.isnull().sum()"
   ]
  },
  {
   "cell_type": "code",
   "execution_count": 16,
   "metadata": {},
   "outputs": [],
   "source": [
    "tesc07_num_ideb_clean.IndicadorRendimento_2005.replace(np.nan,esc07_num_ideb_clean.IndicadorRendimento_2005.mean(),inplace=True)\n",
    "tesc07_num_ideb_clean.NotaProvaBrasil_NotaMedia_2005.replace(np.nan,esc07_num_ideb_clean.NotaProvaBrasil_NotaMedia_2005.mean(),inplace=True)\n",
    "tesc07_num_ideb_clean.Ideb2005.replace(np.nan,esc07_num_ideb_clean.Ideb2005.mean(),inplace=True)\n"
   ]
  },
  {
   "cell_type": "code",
   "execution_count": 17,
   "metadata": {},
   "outputs": [],
   "source": [
    "y = esc07_num_ideb[target07]"
   ]
  },
  {
   "cell_type": "code",
   "execution_count": 18,
   "metadata": {},
   "outputs": [
    {
     "data": {
      "text/plain": [
       "(98476, 1)"
      ]
     },
     "execution_count": 18,
     "metadata": {},
     "output_type": "execute_result"
    }
   ],
   "source": [
    "y.shape"
   ]
  },
  {
   "cell_type": "code",
   "execution_count": 19,
   "metadata": {},
   "outputs": [
    {
     "data": {
      "text/plain": [
       "(98476, 53)"
      ]
     },
     "execution_count": 19,
     "metadata": {},
     "output_type": "execute_result"
    }
   ],
   "source": [
    "tesc07_num_ideb_clean.shape"
   ]
  },
  {
   "cell_type": "code",
   "execution_count": 20,
   "metadata": {},
   "outputs": [],
   "source": [
    "tesc07_num_ideb_clean['target'] = y"
   ]
  },
  {
   "cell_type": "code",
   "execution_count": 22,
   "metadata": {},
   "outputs": [],
   "source": [
    "esc07_d = tesc07_num_ideb_clean.dropna()"
   ]
  },
  {
   "cell_type": "code",
   "execution_count": 23,
   "metadata": {},
   "outputs": [
    {
     "data": {
      "text/plain": [
       "(58130, 54)"
      ]
     },
     "execution_count": 23,
     "metadata": {},
     "output_type": "execute_result"
    }
   ],
   "source": [
    "esc07_d.shape"
   ]
  },
  {
   "cell_type": "code",
   "execution_count": 24,
   "metadata": {
    "collapsed": true
   },
   "outputs": [
    {
     "data": {
      "text/plain": [
       "16       4.1\n",
       "125      3.5\n",
       "126      2.2\n",
       "137      3.4\n",
       "138      2.9\n",
       "141      5.0\n",
       "151      4.6\n",
       "152      6.5\n",
       "153      3.2\n",
       "155      4.2\n",
       "156      2.8\n",
       "157      3.0\n",
       "158      3.4\n",
       "178      3.8\n",
       "180      4.4\n",
       "194      4.7\n",
       "201      4.8\n",
       "202      5.6\n",
       "203      1.7\n",
       "204      4.2\n",
       "207      4.8\n",
       "208      3.4\n",
       "209      4.0\n",
       "210      4.8\n",
       "211      4.6\n",
       "215      4.0\n",
       "216      4.3\n",
       "221      3.9\n",
       "223      3.3\n",
       "279      4.3\n",
       "        ... \n",
       "98412    3.6\n",
       "98413    4.3\n",
       "98414    5.1\n",
       "98416    5.1\n",
       "98417    4.4\n",
       "98419    5.5\n",
       "98420    4.7\n",
       "98421    4.4\n",
       "98423    6.6\n",
       "98437    3.6\n",
       "98438    5.8\n",
       "98439    4.0\n",
       "98440    5.3\n",
       "98441    4.9\n",
       "98442    4.4\n",
       "98443    4.3\n",
       "98445    3.8\n",
       "98447    4.2\n",
       "98448    4.7\n",
       "98450    5.3\n",
       "98452    4.4\n",
       "98455    4.0\n",
       "98456    3.9\n",
       "98458    4.5\n",
       "98460    5.2\n",
       "98462    4.5\n",
       "98463    4.0\n",
       "98464    4.4\n",
       "98466    5.7\n",
       "98467    4.7\n",
       "Name: target, Length: 58130, dtype: float64"
      ]
     },
     "execution_count": 24,
     "metadata": {},
     "output_type": "execute_result"
    }
   ],
   "source": [
    "esc07_d['target']"
   ]
  },
  {
   "cell_type": "code",
   "execution_count": 25,
   "metadata": {},
   "outputs": [],
   "source": [
    "esc07_d.to_csv(r'C:\\Users\\Filipe Prates\\Documents\\Projects\\Datasets\\BCG Challenge\\original\\esc07num+ideb.csv')"
   ]
  },
  {
   "cell_type": "code",
   "execution_count": 26,
   "metadata": {},
   "outputs": [],
   "source": [
    "esc07_fulld = pd.get_dummies(esc07_d)"
   ]
  },
  {
   "cell_type": "code",
   "execution_count": 27,
   "metadata": {
    "collapsed": true
   },
   "outputs": [
    {
     "data": {
      "text/plain": [
       "Index(['ano_censo', 'tp_dependencia', 'num_matriculas', 'num_estudantes',\n",
       "       'num_estudantes_ensino_infantil',\n",
       "       'num_estudantes_ensino_fund_anos_iniciais',\n",
       "       'num_estudantes_ensino_fund_anos_finais', 'num_estudantes_fund_1_ano',\n",
       "       'num_estudantes_fund_2_ano', 'num_estudantes_fund_3_ano',\n",
       "       'num_estudantes_fund_4_ano', 'num_estudantes_fund_5_ano',\n",
       "       'num_estudantes_fund_6_ano', 'num_estudantes_fund_7_ano',\n",
       "       'num_estudantes_fund_8_ano', 'num_estudantes_fund_9_ano',\n",
       "       'num_estudantes_medio_1_serie', 'num_estudantes_medio_2_serie',\n",
       "       'num_estudantes_medio_3_serie', 'num_turmas', 'tp_localizacao',\n",
       "       'num_salas_existentes', 'num_salas_utilizadas', 'num_equip_tv',\n",
       "       'num_equip_videocassete', 'num_equip_dvd', 'num_equip_parabolica',\n",
       "       'num_equip_copiadora', 'num_equip_retroprojetor',\n",
       "       'num_equip_impressora', 'num_equip_impressora_mult', 'num_equip_som',\n",
       "       'num_equip_multimidia', 'num_equip_fax', 'num_equip_foto',\n",
       "       'num_computador', 'num_comp_administrativo', 'num_comp_aluno',\n",
       "       'num_funcionarios', 'num_professores', 'num_professores_em_regencia',\n",
       "       'num_professores_em_regencia_fund_ai',\n",
       "       'num_professores_em_regencia_fund_af',\n",
       "       'num_professores_em_regencia_ens_medio', 'Cod_Municipio_Completo',\n",
       "       'IndicadorRendimento_2005', 'IndicadorRendimento_2007',\n",
       "       'NotaProvaBrasil_NotaMedia_2005', 'NotaProvaBrasil_NotaMedia_2007',\n",
       "       'Ideb2005', 'Ideb2007', 'is_anosiniciais', 'target',\n",
       "       'regiao_Centro-Oeste', 'regiao_Nordeste', 'regiao_Norte',\n",
       "       'regiao_Sudeste', 'regiao_Sul'],\n",
       "      dtype='object')"
      ]
     },
     "execution_count": 27,
     "metadata": {},
     "output_type": "execute_result"
    }
   ],
   "source": [
    "esc07_fulld.columns"
   ]
  },
  {
   "cell_type": "code",
   "execution_count": 28,
   "metadata": {},
   "outputs": [],
   "source": [
    "esc07_numfeatures = esc07_fulld.drop(columns=['target'])"
   ]
  },
  {
   "cell_type": "code",
   "execution_count": 29,
   "metadata": {},
   "outputs": [],
   "source": [
    "esc07_target = esc07_fulld['target']"
   ]
  },
  {
   "cell_type": "code",
   "execution_count": 30,
   "metadata": {},
   "outputs": [
    {
     "data": {
      "text/plain": [
       "(58130, 57)"
      ]
     },
     "execution_count": 30,
     "metadata": {},
     "output_type": "execute_result"
    }
   ],
   "source": [
    "esc07_numfeatures.shape"
   ]
  },
  {
   "cell_type": "code",
   "execution_count": 36,
   "metadata": {},
   "outputs": [
    {
     "data": {
      "text/plain": [
       "(58130,)"
      ]
     },
     "execution_count": 36,
     "metadata": {},
     "output_type": "execute_result"
    }
   ],
   "source": [
    "esc07_target.shape"
   ]
  },
  {
   "cell_type": "code",
   "execution_count": 38,
   "metadata": {},
   "outputs": [],
   "source": [
    "esc07_numfeatures.to_csv(r'C:\\Users\\Filipe Prates\\Documents\\Projects\\Datasets\\BCG Challenge\\original\\esc07_numfeatures.csv')\n",
    "esc07_target.to_csv(r'C:\\Users\\Filipe Prates\\Documents\\Projects\\Datasets\\BCG Challenge\\original\\esc07_target.csv')\n"
   ]
  },
  {
   "cell_type": "markdown",
   "metadata": {},
   "source": [
    ":::::FIM AREA DE TESTE:::::"
   ]
  },
  {
   "cell_type": "markdown",
   "metadata": {},
   "source": [
    "Pronto, fiz o modelo pro esc07, e, aprendendo algumas coisas, posso começar a preparar as databases do esc2017, a qual vou criar o modelo principal\n",
    "\n",
    "Tenho 2 hipóteses de como organizar a entrada do modelo, Ou um DF mergeado com todos os dados de todos os anos (teria que ver como tentar manter a maior quantidade de dados possiveis sem ter que dropar por valor nulo), ou ter uma df pra cada ano, fazer um PCA em cada, e a entrada seria um merge de todos os PCAs"
   ]
  },
  {
   "cell_type": "code",
   "execution_count": 15,
   "metadata": {
    "collapsed": true
   },
   "outputs": [
    {
     "data": {
      "text/plain": [
       "['ano_censo',\n",
       " 'Cod_Escola_Completo',\n",
       " 'regiao',\n",
       " 'unidade_federativa',\n",
       " 'tp_dependencia',\n",
       " 'num_matriculas',\n",
       " 'num_estudantes',\n",
       " 'num_estudantes_ensino_infantil',\n",
       " 'num_estudantes_ensino_fund_anos_iniciais',\n",
       " 'num_estudantes_ensino_fund_anos_finais',\n",
       " 'num_estudantes_fund_1_ano',\n",
       " 'num_estudantes_fund_2_ano',\n",
       " 'num_estudantes_fund_3_ano',\n",
       " 'num_estudantes_fund_4_ano',\n",
       " 'num_estudantes_fund_5_ano',\n",
       " 'num_estudantes_fund_6_ano',\n",
       " 'num_estudantes_fund_7_ano',\n",
       " 'num_estudantes_fund_8_ano',\n",
       " 'num_estudantes_fund_9_ano',\n",
       " 'num_estudantes_medio_1_serie',\n",
       " 'num_estudantes_medio_2_serie',\n",
       " 'num_estudantes_medio_3_serie',\n",
       " 'num_turmas',\n",
       " 'tp_localizacao',\n",
       " 'tp_categoria_escola_privada',\n",
       " 'num_salas_existentes',\n",
       " 'num_salas_utilizadas',\n",
       " 'num_equip_tv',\n",
       " 'num_equip_videocassete',\n",
       " 'num_equip_dvd',\n",
       " 'num_equip_parabolica',\n",
       " 'num_equip_copiadora',\n",
       " 'num_equip_retroprojetor',\n",
       " 'num_equip_impressora',\n",
       " 'num_equip_impressora_mult',\n",
       " 'num_equip_som',\n",
       " 'num_equip_multimidia',\n",
       " 'num_equip_fax',\n",
       " 'num_equip_foto',\n",
       " 'num_computador',\n",
       " 'num_comp_administrativo',\n",
       " 'num_comp_aluno',\n",
       " 'num_funcionarios',\n",
       " 'num_professores',\n",
       " 'num_professores_em_regencia',\n",
       " 'num_professores_em_regencia_fund_ai',\n",
       " 'num_professores_em_regencia_fund_af',\n",
       " 'num_professores_em_regencia_ens_medio',\n",
       " 'co_lingua_indigena',\n",
       " 'num_matriculas_ensino_integral',\n",
       " 'num_estudantes_ensino_integral',\n",
       " 'Unnamed: 0',\n",
       " 'Co_UF',\n",
       " 'Cod_Municipio_Completo',\n",
       " 'Nome_Municipio',\n",
       " 'Nome_Escola',\n",
       " 'Rede',\n",
       " 'IndicadorRendimento_2005',\n",
       " 'IndicadorRendimento_2007',\n",
       " 'IndicadorRendimento_2009',\n",
       " 'IndicadorRendimento_2011',\n",
       " 'IndicadorRendimento_2013',\n",
       " 'IndicadorRendimento_2015',\n",
       " 'IndicadorRendimento_2017',\n",
       " 'NotaProvaBrasil_NotaMedia_2005',\n",
       " 'NotaProvaBrasil_NotaMedia_2007',\n",
       " 'NotaProvaBrasil_NotaMedia_2009',\n",
       " 'NotaProvaBrasil_NotaMedia_2011',\n",
       " 'NotaProvaBrasil_NotaMedia_2013',\n",
       " 'NotaProvaBrasil_NotaMedia_2015',\n",
       " 'NotaProvaBrasil_NotaMedia_2017',\n",
       " 'Ideb2005',\n",
       " 'Ideb2007',\n",
       " 'Ideb2009',\n",
       " 'Ideb2011',\n",
       " 'Ideb2013',\n",
       " 'Ideb2015',\n",
       " 'Ideb2017',\n",
       " 'ProjecaoIdeb2011',\n",
       " 'ProjecaoIdeb2013',\n",
       " 'ProjecaoIdeb2015',\n",
       " 'ProjecaoIdeb2017',\n",
       " 'ProjecaoIdeb2019',\n",
       " 'ProjecaoIdeb2021',\n",
       " 'is_anosiniciais']"
      ]
     },
     "execution_count": 15,
     "metadata": {},
     "output_type": "execute_result"
    }
   ],
   "source": [
    "list(esc09_num_ideb.columns)"
   ]
  },
  {
   "cell_type": "markdown",
   "metadata": {},
   "source": [
    "Separar as colunas para dar drop por database, cada uma terá as informações do ano + as métricas do ano"
   ]
  },
  {
   "cell_type": "code",
   "execution_count": 11,
   "metadata": {},
   "outputs": [],
   "source": [
    "cclean_num = ['ProjecaoIdeb2021','ProjecaoIdeb2019','ProjecaoIdeb2017','ProjecaoIdeb2015','ProjecaoIdeb2013','ProjecaoIdeb2011','Ideb2005','NotaProvaBrasil_NotaMedia_2017','NotaProvaBrasil_NotaMedia_2015','NotaProvaBrasil_NotaMedia_2013','NotaProvaBrasil_NotaMedia_2011','NotaProvaBrasil_NotaMedia_2009','NotaProvaBrasil_NotaMedia_2005','IndicadorRendimento_2017','IndicadorRendimento_2015','IndicadorRendimento_2013','IndicadorRendimento_2011','IndicadorRendimento_2009','IndicadorRendimento_2005','Rede','Nome_Escola','Nome_Municipio','Co_UF','Unnamed: 0','tp_categoria_escola_privada','co_lingua_indigena','num_estudantes_ensino_integral','num_matriculas_ensino_integral','unidade_federativa','Cod_Municipio_Completo']\n",
    "target15 = ['Ideb2017']"
   ]
  },
  {
   "cell_type": "code",
   "execution_count": 12,
   "metadata": {},
   "outputs": [],
   "source": [
    "esc07_num_ideb_clean = esc07_num_ideb.drop(cclean_num, axis=1)\n",
    "esc09_num_ideb_clean = esc09_num_ideb.drop(cclean_num, axis=1)\n",
    "esc11_num_ideb_clean = esc11_num_ideb.drop(cclean_num, axis=1)\n",
    "esc13_num_ideb_clean = esc13_num_ideb.drop(cclean_num, axis=1)\n",
    "esc15_num_ideb_clean = esc15_num_ideb.drop(cclean_num, axis=1)\n",
    "esc17_num_ideb_clean = esc17_num_ideb.drop(cclean_num, axis=1)"
   ]
  },
  {
   "cell_type": "markdown",
   "metadata": {},
   "source": [
    "A maioria das bases tem ~1/3 dos valores das métricas nulo, vou completar com o .mean() e criar outras bases, caso a predição não ocorrer como previsto, voltarei aqui e usarei apenas os dados originais"
   ]
  },
  {
   "cell_type": "code",
   "execution_count": 18,
   "metadata": {
    "collapsed": true
   },
   "outputs": [
    {
     "data": {
      "text/plain": [
       "'esc07_num_ideb_clean.IndicadorRendimento_2007.replace(np.nan,esc07_num_ideb_clean.IndicadorRendimento_2007.mean(),inplace=True)\\nesc07_num_ideb_clean.NotaProvaBrasil_NotaMedia_2007.replace(np.nan,esc07_num_ideb_clean.NotaProvaBrasil_NotaMedia_2007.mean(),inplace=True)\\nesc07_num_ideb_clean.Ideb2007.replace(np.nan,esc07_num_ideb_clean.Ideb2007.mean(),inplace=True)\\n\\nesc09_num_ideb_clean.IndicadorRendimento_2009.replace(np.nan,esc09_num_ideb_clean.IndicadorRendimento_2009.mean(),inplace=True)\\nesc09_num_ideb_clean.NotaProvaBrasil_NotaMedia_2009.replace(np.nan,esc09_num_ideb_clean.NotaProvaBrasil_NotaMedia_2009.mean(),inplace=True)\\nesc09_num_ideb_clean.Ideb2009.replace(np.nan,esc09_num_ideb_clean.Ideb2009.mean(),inplace=True)\\n\\nesc11_num_ideb_clean.IndicadorRendimento_2011.replace(np.nan,esc11_num_ideb_clean.IndicadorRendimento_2011.mean(),inplace=True)\\nesc11_num_ideb_clean.NotaProvaBrasil_NotaMedia_2011.replace(np.nan,esc11_num_ideb_clean.NotaProvaBrasil_NotaMedia_2011.mean(),inplace=True)\\nesc11_num_ideb_clean.Ideb2011.replace(np.nan,esc11_num_ideb_clean.Ideb2011.mean(),inplace=True)\\n\\nesc13_num_ideb_clean.IndicadorRendimento_2013.replace(np.nan,esc13_num_ideb_clean.IndicadorRendimento_2013.mean(),inplace=True)\\nesc13_num_ideb_clean.NotaProvaBrasil_NotaMedia_2013.replace(np.nan,esc13_num_ideb_clean.NotaProvaBrasil_NotaMedia_2013.mean(),inplace=True)\\nesc13_num_ideb_clean.Ideb2013.replace(np.nan,esc13_num_ideb_clean.Ideb2013.mean(),inplace=True)\\n\\nesc15_num_ideb_clean.IndicadorRendimento_2015.replace(np.nan,esc15_num_ideb_clean.IndicadorRendimento_2015.mean(),inplace=True)\\nesc15_num_ideb_clean.NotaProvaBrasil_NotaMedia_2015.replace(np.nan,esc15_num_ideb_clean.NotaProvaBrasil_NotaMedia_2015.mean(),inplace=True)\\nesc15_num_ideb_clean.Ideb2015.replace(np.nan,esc15_num_ideb_clean.Ideb2015.mean(),inplace=True)\\n\\nesc17_num_ideb_clean.IndicadorRendimento_2017.replace(np.nan,esc17_num_ideb_clean.IndicadorRendimento_2017.mean(),inplace=True)\\nesc17_num_ideb_clean.NotaProvaBrasil_NotaMedia_2017.replace(np.nan,esc17_num_ideb_clean.NotaProvaBrasil_NotaMedia_2017.mean(),inplace=True)\\nesc17_num_ideb_clean.Ideb2017.replace(np.nan,esc17_num_ideb_clean.Ideb2017.mean(),inplace=True)'"
      ]
     },
     "execution_count": 18,
     "metadata": {},
     "output_type": "execute_result"
    }
   ],
   "source": [
    "'''esc07_num_ideb_clean.IndicadorRendimento_2007.replace(np.nan,esc07_num_ideb_clean.IndicadorRendimento_2007.mean(),inplace=True)\n",
    "esc07_num_ideb_clean.NotaProvaBrasil_NotaMedia_2007.replace(np.nan,esc07_num_ideb_clean.NotaProvaBrasil_NotaMedia_2007.mean(),inplace=True)\n",
    "esc07_num_ideb_clean.Ideb2007.replace(np.nan,esc07_num_ideb_clean.Ideb2007.mean(),inplace=True)\n",
    "\n",
    "esc09_num_ideb_clean.IndicadorRendimento_2009.replace(np.nan,esc09_num_ideb_clean.IndicadorRendimento_2009.mean(),inplace=True)\n",
    "esc09_num_ideb_clean.NotaProvaBrasil_NotaMedia_2009.replace(np.nan,esc09_num_ideb_clean.NotaProvaBrasil_NotaMedia_2009.mean(),inplace=True)\n",
    "esc09_num_ideb_clean.Ideb2009.replace(np.nan,esc09_num_ideb_clean.Ideb2009.mean(),inplace=True)\n",
    "\n",
    "esc11_num_ideb_clean.IndicadorRendimento_2011.replace(np.nan,esc11_num_ideb_clean.IndicadorRendimento_2011.mean(),inplace=True)\n",
    "esc11_num_ideb_clean.NotaProvaBrasil_NotaMedia_2011.replace(np.nan,esc11_num_ideb_clean.NotaProvaBrasil_NotaMedia_2011.mean(),inplace=True)\n",
    "esc11_num_ideb_clean.Ideb2011.replace(np.nan,esc11_num_ideb_clean.Ideb2011.mean(),inplace=True)\n",
    "\n",
    "esc13_num_ideb_clean.IndicadorRendimento_2013.replace(np.nan,esc13_num_ideb_clean.IndicadorRendimento_2013.mean(),inplace=True)\n",
    "esc13_num_ideb_clean.NotaProvaBrasil_NotaMedia_2013.replace(np.nan,esc13_num_ideb_clean.NotaProvaBrasil_NotaMedia_2013.mean(),inplace=True)\n",
    "esc13_num_ideb_clean.Ideb2013.replace(np.nan,esc13_num_ideb_clean.Ideb2013.mean(),inplace=True)\n",
    "\n",
    "esc15_num_ideb_clean.IndicadorRendimento_2015.replace(np.nan,esc15_num_ideb_clean.IndicadorRendimento_2015.mean(),inplace=True)\n",
    "esc15_num_ideb_clean.NotaProvaBrasil_NotaMedia_2015.replace(np.nan,esc15_num_ideb_clean.NotaProvaBrasil_NotaMedia_2015.mean(),inplace=True)\n",
    "esc15_num_ideb_clean.Ideb2015.replace(np.nan,esc15_num_ideb_clean.Ideb2015.mean(),inplace=True)\n",
    "\n",
    "esc17_num_ideb_clean.IndicadorRendimento_2017.replace(np.nan,esc17_num_ideb_clean.IndicadorRendimento_2017.mean(),inplace=True)\n",
    "esc17_num_ideb_clean.NotaProvaBrasil_NotaMedia_2017.replace(np.nan,esc17_num_ideb_clean.NotaProvaBrasil_NotaMedia_2017.mean(),inplace=True)\n",
    "esc17_num_ideb_clean.Ideb2017.replace(np.nan,esc17_num_ideb_clean.Ideb2017.mean(),inplace=True)'''\n"
   ]
  },
  {
   "cell_type": "code",
   "execution_count": 13,
   "metadata": {},
   "outputs": [],
   "source": [
    "esc07_final = esc07_num_ideb_clean.dropna()\n",
    "esc09_final = esc09_num_ideb_clean.dropna()\n",
    "esc11_final = esc11_num_ideb_clean.dropna()\n",
    "esc13_final = esc13_num_ideb_clean.dropna()\n",
    "esc15_final = esc15_num_ideb_clean.dropna()\n",
    "esc17_final = esc17_num_ideb_clean.dropna()"
   ]
  },
  {
   "cell_type": "markdown",
   "metadata": {},
   "source": [
    "Dados pro treinamento com 5 anos"
   ]
  },
  {
   "cell_type": "code",
   "execution_count": 14,
   "metadata": {},
   "outputs": [],
   "source": [
    "esc0709 = pd.merge(esc07_final,esc09_final,on=['Cod_Escola_Completo','Ideb2007','Ideb2009','Ideb2011','Ideb2013','Ideb2015','Ideb2017'],copy=False,suffixes=('0', '0'))\n",
    "esc070911 = pd.merge(esc0709,esc11_final,on=['Cod_Escola_Completo','Ideb2007','Ideb2009','Ideb2011','Ideb2013','Ideb2015','Ideb2017'],copy=False,suffixes=('', '0'))\n",
    "esc07091113 = pd.merge(esc070911,esc13_final,on=['Cod_Escola_Completo','Ideb2007','Ideb2009','Ideb2011','Ideb2013','Ideb2015','Ideb2017'],copy=False,suffixes=('', '0'))\n",
    "esc0709111315 = pd.merge(esc07091113,esc15_final,on=['Cod_Escola_Completo','Ideb2007','Ideb2009','Ideb2011','Ideb2013','Ideb2015','Ideb2017'],copy=False,suffixes=('', '0'))"
   ]
  },
  {
   "cell_type": "code",
   "execution_count": 15,
   "metadata": {},
   "outputs": [],
   "source": [
    "escfull_num = pd.merge(esc0709111315,esc17_final,on=['Cod_Escola_Completo','Ideb2007','Ideb2009','Ideb2011','Ideb2013','Ideb2015','Ideb2017'],copy=False,suffixes=('', '0'))"
   ]
  },
  {
   "cell_type": "markdown",
   "metadata": {},
   "source": [
    "Essa parte foi adicionada mais tarde na semana, para termos a 'escola média' nas features numericas"
   ]
  },
  {
   "cell_type": "code",
   "execution_count": 18,
   "metadata": {},
   "outputs": [],
   "source": [
    "escfull_num.to_csv(r'C:\\Users\\Filipe Prates\\Documents\\Projects\\Datasets\\BCG Challenge\\original\\escfull_num.csv')"
   ]
  },
  {
   "cell_type": "code",
   "execution_count": 19,
   "metadata": {},
   "outputs": [],
   "source": [
    " x = list(escfull_num.mean())"
   ]
  },
  {
   "cell_type": "code",
   "execution_count": 30,
   "metadata": {},
   "outputs": [
    {
     "data": {
      "text/plain": [
       "(33085, 295)"
      ]
     },
     "execution_count": 30,
     "metadata": {},
     "output_type": "execute_result"
    }
   ],
   "source": [
    "escfull_num.shape"
   ]
  },
  {
   "cell_type": "code",
   "execution_count": 29,
   "metadata": {},
   "outputs": [
    {
     "data": {
      "text/plain": [
       "289"
      ]
     },
     "execution_count": 29,
     "metadata": {},
     "output_type": "execute_result"
    }
   ],
   "source": [
    "len(x)"
   ]
  },
  {
   "cell_type": "code",
   "execution_count": 25,
   "metadata": {},
   "outputs": [],
   "source": [
    "aux = pd.DataFrame()\n",
    "aux[''] = np.reshape(x,-1,1)\n",
    "aux.to_csv(r'C:\\Users\\Filipe Prates\\Documents\\Projects\\Datasets\\BCG Challenge\\original\\mean_transpose.csv')"
   ]
  },
  {
   "cell_type": "code",
   "execution_count": 1,
   "metadata": {
    "collapsed": true
   },
   "outputs": [
    {
     "ename": "NameError",
     "evalue": "name 'esc07091113' is not defined",
     "output_type": "error",
     "traceback": [
      "\u001b[1;31m---------------------------------------------------------------------------\u001b[0m",
      "\u001b[1;31mNameError\u001b[0m                                 Traceback (most recent call last)",
      "\u001b[1;32m<ipython-input-1-8ec7fb14aa79>\u001b[0m in \u001b[0;36m<module>\u001b[1;34m\u001b[0m\n\u001b[1;32m----> 1\u001b[1;33m \u001b[0mlist\u001b[0m\u001b[1;33m(\u001b[0m\u001b[0mesc07091113\u001b[0m\u001b[1;33m.\u001b[0m\u001b[0mcolumns\u001b[0m\u001b[1;33m)\u001b[0m\u001b[1;33m\u001b[0m\u001b[0m\n\u001b[0m",
      "\u001b[1;31mNameError\u001b[0m: name 'esc07091113' is not defined"
     ]
    }
   ],
   "source": [
    "list(esc07091113.columns)"
   ]
  },
  {
   "cell_type": "markdown",
   "metadata": {},
   "source": [
    "Dados que queremos a predição 5 anos"
   ]
  },
  {
   "cell_type": "code",
   "execution_count": 19,
   "metadata": {},
   "outputs": [],
   "source": [
    "esc0911 = pd.merge(esc09_final,esc11_final,on=['Cod_Escola_Completo','Ideb2007','Ideb2009','Ideb2011','Ideb2013','Ideb2015','Ideb2017'],copy=False,suffixes=('0', '0'))\n",
    "esc091113 = pd.merge(esc0911,esc13_final,on=['Cod_Escola_Completo','Ideb2007','Ideb2009','Ideb2011','Ideb2013','Ideb2015','Ideb2017'],copy=False,suffixes=('', '0'))\n",
    "esc09111315 = pd.merge(esc091113,esc15_final,on=['Cod_Escola_Completo','Ideb2007','Ideb2009','Ideb2011','Ideb2013','Ideb2015','Ideb2017'],copy=False,suffixes=('', '0'))\n",
    "esc0911131517 = pd.merge(esc09111315,esc17_final,on=['Cod_Escola_Completo','Ideb2007','Ideb2009','Ideb2011','Ideb2013','Ideb2015','Ideb2017'],copy=False,suffixes=('', '0'))"
   ]
  },
  {
   "cell_type": "code",
   "execution_count": 20,
   "metadata": {},
   "outputs": [],
   "source": [
    "esc0709111315.to_csv(r'C:\\Users\\Filipe Prates\\Documents\\Projects\\Datasets\\BCG Challenge\\original\\pred_5anos\\train_0715.csv')\n",
    "\n",
    "esc0911131517.to_csv(r'C:\\Users\\Filipe Prates\\Documents\\Projects\\Datasets\\BCG Challenge\\original\\pred_5anos\\pred_0917.csv')"
   ]
  },
  {
   "cell_type": "markdown",
   "metadata": {},
   "source": [
    "Dados pro treinamento com 4 anos"
   ]
  },
  {
   "cell_type": "code",
   "execution_count": 16,
   "metadata": {},
   "outputs": [],
   "source": [
    "esc0709 = pd.merge(esc07_final,esc09_final,on=['Cod_Escola_Completo','Ideb2007','Ideb2009','Ideb2011','Ideb2013','Ideb2015','Ideb2017'],copy=False,suffixes=('0', '0'))\n",
    "esc070911 = pd.merge(esc0709,esc11_final,on=['Cod_Escola_Completo','Ideb2007','Ideb2009','Ideb2011','Ideb2013','Ideb2015','Ideb2017'],copy=False,suffixes=('', '0'))\n",
    "esc07091113 = pd.merge(esc070911,esc13_final,on=['Cod_Escola_Completo','Ideb2007','Ideb2009','Ideb2011','Ideb2013','Ideb2015','Ideb2017'],copy=False,suffixes=('', '0'))\n",
    "\n",
    "esc0911 = pd.merge(esc09_final,esc11_final,on=['Cod_Escola_Completo','Ideb2007','Ideb2009','Ideb2011','Ideb2013','Ideb2015','Ideb2017'],copy=False,suffixes=('0', '0'))\n",
    "esc091113 = pd.merge(esc0911,esc13_final,on=['Cod_Escola_Completo','Ideb2007','Ideb2009','Ideb2011','Ideb2013','Ideb2015','Ideb2017'],copy=False,suffixes=('', '0'))\n",
    "esc09111315 = pd.merge(esc091113,esc15_final,on=['Cod_Escola_Completo','Ideb2007','Ideb2009','Ideb2011','Ideb2013','Ideb2015','Ideb2017'],copy=False,suffixes=('', '0'))"
   ]
  },
  {
   "cell_type": "code",
   "execution_count": 17,
   "metadata": {},
   "outputs": [
    {
     "data": {
      "text/plain": [
       "(33089, 199)"
      ]
     },
     "execution_count": 17,
     "metadata": {},
     "output_type": "execute_result"
    }
   ],
   "source": [
    "esc09111315.shape"
   ]
  },
  {
   "cell_type": "markdown",
   "metadata": {},
   "source": [
    "Dados que queremos a predição 4 anos"
   ]
  },
  {
   "cell_type": "code",
   "execution_count": 18,
   "metadata": {},
   "outputs": [],
   "source": [
    "esc1113 = pd.merge(esc11_final,esc13_final,on=['Cod_Escola_Completo','Ideb2007','Ideb2009','Ideb2011','Ideb2013','Ideb2015','Ideb2017'],copy=False,suffixes=('0', '0'))\n",
    "esc111315 = pd.merge(esc1113,esc15_final,on=['Cod_Escola_Completo','Ideb2007','Ideb2009','Ideb2011','Ideb2013','Ideb2015','Ideb2017'],copy=False,suffixes=('', '0'))\n",
    "esc11131517 = pd.merge(esc111315,esc17_final,on=['Cod_Escola_Completo','Ideb2007','Ideb2009','Ideb2011','Ideb2013','Ideb2015','Ideb2017'],copy=False,suffixes=('', '0'))"
   ]
  },
  {
   "cell_type": "code",
   "execution_count": 16,
   "metadata": {},
   "outputs": [],
   "source": [
    "esc07091113.to_csv(r'C:\\Users\\Filipe Prates\\Documents\\Projects\\Datasets\\BCG Challenge\\original\\pred_4anos\\train_0713.csv')\n",
    "esc09111315.to_csv(r'C:\\Users\\Filipe Prates\\Documents\\Projects\\Datasets\\BCG Challenge\\original\\pred_4anos\\train_0915.csv')\n",
    "\n",
    "esc11131517.to_csv(r'C:\\Users\\Filipe Prates\\Documents\\Projects\\Datasets\\BCG Challenge\\original\\pred_4anos\\pred_1117.csv')"
   ]
  },
  {
   "cell_type": "markdown",
   "metadata": {},
   "source": [
    "Dados pro treinamento com 3 anos"
   ]
  },
  {
   "cell_type": "code",
   "execution_count": 21,
   "metadata": {},
   "outputs": [],
   "source": [
    "esc0709 = pd.merge(esc07_final,esc09_final,on=['Cod_Escola_Completo','Ideb2007','Ideb2009','Ideb2011','Ideb2013','Ideb2015','Ideb2017'],copy=False,suffixes=('0', '0'))\n",
    "esc070911 = pd.merge(esc0709,esc11_final,on=['Cod_Escola_Completo','Ideb2007','Ideb2009','Ideb2011','Ideb2013','Ideb2015','Ideb2017'],copy=False,suffixes=('', '0'))\n",
    "\n",
    "esc0911 = pd.merge(esc09_final,esc11_final,on=['Cod_Escola_Completo','Ideb2007','Ideb2009','Ideb2011','Ideb2013','Ideb2015','Ideb2017'],copy=False,suffixes=('0', '0'))\n",
    "esc091113 = pd.merge(esc0911,esc13_final,on=['Cod_Escola_Completo','Ideb2007','Ideb2009','Ideb2011','Ideb2013','Ideb2015','Ideb2017'],copy=False,suffixes=('', '0'))\n",
    "\n",
    "esc1113 = pd.merge(esc11_final,esc13_final,on=['Cod_Escola_Completo','Ideb2007','Ideb2009','Ideb2011','Ideb2013','Ideb2015','Ideb2017'],copy=False,suffixes=('0', '0'))\n",
    "esc111315 = pd.merge(esc1113,esc15_final,on=['Cod_Escola_Completo','Ideb2007','Ideb2009','Ideb2011','Ideb2013','Ideb2015','Ideb2017'],copy=False,suffixes=('', '0'))"
   ]
  },
  {
   "cell_type": "markdown",
   "metadata": {},
   "source": [
    "Dados que queremos a predição 3 anos"
   ]
  },
  {
   "cell_type": "code",
   "execution_count": 22,
   "metadata": {},
   "outputs": [],
   "source": [
    "esc1315 = pd.merge(esc13_final,esc15_final,on=['Cod_Escola_Completo','Ideb2007','Ideb2009','Ideb2011','Ideb2013','Ideb2015','Ideb2017'],copy=False,suffixes=('0', '0'))\n",
    "esc131517 = pd.merge(esc1315,esc17_final,on=['Cod_Escola_Completo','Ideb2007','Ideb2009','Ideb2011','Ideb2013','Ideb2015','Ideb2017'],copy=False,suffixes=('', '0'))"
   ]
  },
  {
   "cell_type": "code",
   "execution_count": 23,
   "metadata": {},
   "outputs": [],
   "source": [
    "esc070911.to_csv(r'C:\\Users\\Filipe Prates\\Documents\\Projects\\Datasets\\BCG Challenge\\original\\pred_3anos\\train_0711.csv')\n",
    "esc091113.to_csv(r'C:\\Users\\Filipe Prates\\Documents\\Projects\\Datasets\\BCG Challenge\\original\\pred_3anos\\train_0913.csv')\n",
    "esc111315.to_csv(r'C:\\Users\\Filipe Prates\\Documents\\Projects\\Datasets\\BCG Challenge\\original\\pred_3anos\\train_1115.csv')\n",
    "\n",
    "esc131517.to_csv(r'C:\\Users\\Filipe Prates\\Documents\\Projects\\Datasets\\BCG Challenge\\original\\pred_3anos\\pred_1317.csv')"
   ]
  },
  {
   "cell_type": "markdown",
   "metadata": {},
   "source": [
    "Dados pro treinamento com 2 anos"
   ]
  },
  {
   "cell_type": "code",
   "execution_count": 24,
   "metadata": {},
   "outputs": [],
   "source": [
    "esc0709 = pd.merge(esc07_final,esc09_final,on=['Cod_Escola_Completo','Ideb2007','Ideb2009','Ideb2011','Ideb2013','Ideb2015','Ideb2017'],copy=False,suffixes=('0', '0'))\n",
    "\n",
    "esc0911 = pd.merge(esc09_final,esc11_final,on=['Cod_Escola_Completo','Ideb2007','Ideb2009','Ideb2011','Ideb2013','Ideb2015','Ideb2017'],copy=False,suffixes=('', '0'))\n",
    "\n",
    "esc1113 = pd.merge(esc11_final,esc13_final,on=['Cod_Escola_Completo','Ideb2007','Ideb2009','Ideb2011','Ideb2013','Ideb2015','Ideb2017'],copy=False,suffixes=('', '0'))\n",
    "\n",
    "esc1315 = pd.merge(esc13_final,esc15_final,on=['Cod_Escola_Completo','Ideb2007','Ideb2009','Ideb2011','Ideb2013','Ideb2015','Ideb2017'],copy=False,suffixes=('', '0'))"
   ]
  },
  {
   "cell_type": "markdown",
   "metadata": {},
   "source": [
    "Dados que queremos a predição 2 anos"
   ]
  },
  {
   "cell_type": "code",
   "execution_count": 25,
   "metadata": {},
   "outputs": [],
   "source": [
    "esc1517 = pd.merge(esc15_final,esc17_final,on=['Cod_Escola_Completo','Ideb2007','Ideb2009','Ideb2011','Ideb2013','Ideb2015','Ideb2017'],copy=False,suffixes=('0', '0'))"
   ]
  },
  {
   "cell_type": "code",
   "execution_count": 26,
   "metadata": {},
   "outputs": [],
   "source": [
    "esc0709.to_csv(r'C:\\Users\\Filipe Prates\\Documents\\Projects\\Datasets\\BCG Challenge\\original\\pred_2anos\\train_0709.csv')\n",
    "esc0911.to_csv(r'C:\\Users\\Filipe Prates\\Documents\\Projects\\Datasets\\BCG Challenge\\original\\pred_2anos\\train_0911.csv')\n",
    "esc1113.to_csv(r'C:\\Users\\Filipe Prates\\Documents\\Projects\\Datasets\\BCG Challenge\\original\\pred_2anos\\train_1113.csv')\n",
    "esc1315.to_csv(r'C:\\Users\\Filipe Prates\\Documents\\Projects\\Datasets\\BCG Challenge\\original\\pred_2anos\\train_1315.csv')\n",
    "\n",
    "esc1517.to_csv(r'C:\\Users\\Filipe Prates\\Documents\\Projects\\Datasets\\BCG Challenge\\original\\pred_2anos\\pred_1517.csv')"
   ]
  },
  {
   "cell_type": "code",
   "execution_count": 27,
   "metadata": {},
   "outputs": [
    {
     "data": {
      "text/plain": [
       "(33105, 103)"
      ]
     },
     "execution_count": 27,
     "metadata": {},
     "output_type": "execute_result"
    }
   ],
   "source": [
    "esc0709.shape"
   ]
  },
  {
   "cell_type": "code",
   "execution_count": 1,
   "metadata": {},
   "outputs": [
    {
     "ename": "NameError",
     "evalue": "name 'esc07_final' is not defined",
     "output_type": "error",
     "traceback": [
      "\u001b[1;31m---------------------------------------------------------------------------\u001b[0m",
      "\u001b[1;31mNameError\u001b[0m                                 Traceback (most recent call last)",
      "\u001b[1;32m<ipython-input-1-fe8af78b1f83>\u001b[0m in \u001b[0;36m<module>\u001b[1;34m\u001b[0m\n\u001b[1;32m----> 1\u001b[1;33m \u001b[0mesc07_final\u001b[0m\u001b[1;33m.\u001b[0m\u001b[0mshape\u001b[0m\u001b[1;33m\u001b[0m\u001b[0m\n\u001b[0m",
      "\u001b[1;31mNameError\u001b[0m: name 'esc07_final' is not defined"
     ]
    }
   ],
   "source": [
    "esc07_final.shape"
   ]
  },
  {
   "cell_type": "code",
   "execution_count": 20,
   "metadata": {},
   "outputs": [
    {
     "data": {
      "text/plain": [
       "(34819, 252)"
      ]
     },
     "execution_count": 20,
     "metadata": {},
     "output_type": "execute_result"
    }
   ],
   "source": [
    "esc0709111315.shape"
   ]
  },
  {
   "cell_type": "code",
   "execution_count": 21,
   "metadata": {},
   "outputs": [],
   "source": [
    "esc0709111315 = esc0709111315[esc0709111315.columns.drop(list(esc0709111315.filter(regex='ano_censo')))]\n",
    "esc0709111315 = esc0709111315[esc0709111315.columns.drop(list(esc0709111315.filter(regex='regiao_')))]\n",
    "\n",
    "esc0911131517 = esc0911131517[esc0911131517.columns.drop(list(esc0911131517.filter(regex='ano_censo')))]\n",
    "esc0911131517 = esc0911131517[esc0911131517.columns.drop(list(esc0911131517.filter(regex='regiao_')))]"
   ]
  },
  {
   "cell_type": "code",
   "execution_count": 24,
   "metadata": {},
   "outputs": [
    {
     "data": {
      "text/plain": [
       "(34819, 243)"
      ]
     },
     "execution_count": 24,
     "metadata": {},
     "output_type": "execute_result"
    }
   ],
   "source": [
    "esc0709111315.shape"
   ]
  },
  {
   "cell_type": "code",
   "execution_count": 30,
   "metadata": {},
   "outputs": [],
   "source": [
    "esc0709111315.to_csv(r'C:\\Users\\Filipe Prates\\Documents\\Projects\\Datasets\\BCG Challenge\\original\\esc0709111315_ano.csv')\n",
    "esc0911131517.to_csv(r'C:\\Users\\Filipe Prates\\Documents\\Projects\\Datasets\\BCG Challenge\\original\\esc0911131517_ano.csv')\n",
    "\n",
    "target.to_csv(r'C:\\Users\\Filipe Prates\\Documents\\Projects\\Datasets\\BCG Challenge\\original\\esc0709111315_target.csv')"
   ]
  },
  {
   "cell_type": "code",
   "execution_count": 16,
   "metadata": {},
   "outputs": [],
   "source": [
    "esc07_final.to_csv(r'C:\\Users\\Filipe Prates\\Documents\\Projects\\Datasets\\BCG Challenge\\original\\esc07_final_c.csv')\n",
    "esc09_final.to_csv(r'C:\\Users\\Filipe Prates\\Documents\\Projects\\Datasets\\BCG Challenge\\original\\esc09_final_c.csv')\n",
    "esc11_final.to_csv(r'C:\\Users\\Filipe Prates\\Documents\\Projects\\Datasets\\BCG Challenge\\original\\esc11_final_c.csv')\n",
    "esc13_final.to_csv(r'C:\\Users\\Filipe Prates\\Documents\\Projects\\Datasets\\BCG Challenge\\original\\esc13_final_c.csv')\n",
    "esc15_final.to_csv(r'C:\\Users\\Filipe Prates\\Documents\\Projects\\Datasets\\BCG Challenge\\original\\esc15_final_c.csv')\n",
    "esc17_final.to_csv(r'C:\\Users\\Filipe Prates\\Documents\\Projects\\Datasets\\BCG Challenge\\original\\esc17_final_c.csv')\n"
   ]
  },
  {
   "cell_type": "markdown",
   "metadata": {},
   "source": [
    "\"Final\" ainda falta os booleanos, tou pensando em fazer 2 modelos, e ensemblar eles no final"
   ]
  },
  {
   "cell_type": "code",
   "execution_count": 25,
   "metadata": {},
   "outputs": [
    {
     "data": {
      "text/plain": [
       "(34819, 238)"
      ]
     },
     "execution_count": 25,
     "metadata": {},
     "output_type": "execute_result"
    }
   ],
   "source": [
    "esc0709111315.shape"
   ]
  },
  {
   "cell_type": "code",
   "execution_count": 26,
   "metadata": {},
   "outputs": [
    {
     "data": {
      "text/plain": [
       "(34819,)"
      ]
     },
     "execution_count": 26,
     "metadata": {},
     "output_type": "execute_result"
    }
   ],
   "source": [
    "target.shape"
   ]
  },
  {
   "cell_type": "code",
   "execution_count": 24,
   "metadata": {
    "collapsed": true
   },
   "outputs": [
    {
     "data": {
      "text/plain": [
       "ano_censo                                     int64\n",
       "Cod_Escola_Completo                           int64\n",
       "regiao                                       object\n",
       "tp_dependencia                                int64\n",
       "num_matriculas                              float64\n",
       "num_estudantes                              float64\n",
       "num_estudantes_ensino_infantil              float64\n",
       "num_estudantes_ensino_fund_anos_iniciais    float64\n",
       "num_estudantes_ensino_fund_anos_finais      float64\n",
       "num_estudantes_fund_1_ano                   float64\n",
       "num_estudantes_fund_2_ano                   float64\n",
       "num_estudantes_fund_3_ano                   float64\n",
       "num_estudantes_fund_4_ano                   float64\n",
       "num_estudantes_fund_5_ano                   float64\n",
       "num_estudantes_fund_6_ano                   float64\n",
       "num_estudantes_fund_7_ano                   float64\n",
       "num_estudantes_fund_8_ano                   float64\n",
       "num_estudantes_fund_9_ano                   float64\n",
       "num_estudantes_medio_1_serie                float64\n",
       "num_estudantes_medio_2_serie                float64\n",
       "num_estudantes_medio_3_serie                float64\n",
       "num_turmas                                  float64\n",
       "tp_localizacao                                int64\n",
       "num_salas_existentes                        float64\n",
       "num_salas_utilizadas                        float64\n",
       "num_equip_tv                                  int64\n",
       "num_equip_videocassete                        int64\n",
       "num_equip_dvd                                 int64\n",
       "num_equip_parabolica                          int64\n",
       "num_equip_copiadora                           int64\n",
       "num_equip_retroprojetor                       int64\n",
       "num_equip_impressora                          int64\n",
       "num_equip_impressora_mult                     int64\n",
       "num_equip_som                                 int64\n",
       "num_equip_multimidia                          int64\n",
       "num_equip_fax                                 int64\n",
       "num_equip_foto                                int64\n",
       "num_computador                                int64\n",
       "num_comp_administrativo                       int64\n",
       "num_comp_aluno                                int64\n",
       "num_funcionarios                            float64\n",
       "num_professores                             float64\n",
       "num_professores_em_regencia                 float64\n",
       "num_professores_em_regencia_fund_ai         float64\n",
       "num_professores_em_regencia_fund_af         float64\n",
       "num_professores_em_regencia_ens_medio       float64\n",
       "IndicadorRendimento_2017                    float64\n",
       "NotaProvaBrasil_NotaMedia_2017              float64\n",
       "Ideb2007                                    float64\n",
       "Ideb2009                                    float64\n",
       "Ideb2011                                    float64\n",
       "Ideb2013                                    float64\n",
       "Ideb2015                                    float64\n",
       "Ideb2017                                    float64\n",
       "is_anosiniciais                               int64\n",
       "dtype: object"
      ]
     },
     "execution_count": 24,
     "metadata": {},
     "output_type": "execute_result"
    }
   ],
   "source": [
    "esc17_final.dtypes"
   ]
  },
  {
   "cell_type": "code",
   "execution_count": null,
   "metadata": {},
   "outputs": [],
   "source": []
  }
 ],
 "metadata": {
  "kernelspec": {
   "display_name": "Python 3",
   "language": "python",
   "name": "python3"
  },
  "language_info": {
   "codemirror_mode": {
    "name": "ipython",
    "version": 3
   },
   "file_extension": ".py",
   "mimetype": "text/x-python",
   "name": "python",
   "nbconvert_exporter": "python",
   "pygments_lexer": "ipython3",
   "version": "3.6.6"
  }
 },
 "nbformat": 4,
 "nbformat_minor": 2
}
