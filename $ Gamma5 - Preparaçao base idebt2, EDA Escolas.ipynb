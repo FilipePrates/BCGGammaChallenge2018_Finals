{
 "cells": [
  {
   "cell_type": "code",
   "execution_count": 1,
   "metadata": {},
   "outputs": [
    {
     "name": "stderr",
     "output_type": "stream",
     "text": [
      "Using TensorFlow backend.\n"
     ]
    }
   ],
   "source": [
    "import pandas as pd\n",
    "import numpy as np\n",
    "from keras.layers import Dense\n",
    "from keras.models import Sequential\n",
    "import seaborn as sns\n",
    "import matplotlib.pyplot as plt\n",
    "import numpy as np"
   ]
  },
  {
   "cell_type": "markdown",
   "metadata": {},
   "source": [
    "Importing data to notebook\n"
   ]
  },
  {
   "cell_type": "code",
   "execution_count": 2,
   "metadata": {},
   "outputs": [],
   "source": [
    "esc0 = pd.read_csv(r'C:\\Users\\Filipe Prates\\Documents\\Projects\\Datasets\\BCG Challenge\\escolas\\escolas20170101.csv',low_memory = False)\n",
    "idebai = pd.read_csv(r'C:\\Users\\Filipe Prates\\Documents\\Projects\\Datasets\\BCG Challenge\\ideb\\ideb_escolas_anosiniciais2005_2017.csv', encoding=\"latin-1\")\n",
    "idebaf = pd.read_csv(r'C:\\Users\\Filipe Prates\\Documents\\Projects\\Datasets\\BCG Challenge\\ideb\\ideb_escolas_anosfinais2005_2017.csv', encoding=\"latin-1\")"
   ]
  },
  {
   "cell_type": "code",
   "execution_count": 7,
   "metadata": {
    "collapsed": true
   },
   "outputs": [
    {
     "data": {
      "text/html": [
       "<div>\n",
       "<style scoped>\n",
       "    .dataframe tbody tr th:only-of-type {\n",
       "        vertical-align: middle;\n",
       "    }\n",
       "\n",
       "    .dataframe tbody tr th {\n",
       "        vertical-align: top;\n",
       "    }\n",
       "\n",
       "    .dataframe thead th {\n",
       "        text-align: right;\n",
       "    }\n",
       "</style>\n",
       "<table border=\"1\" class=\"dataframe\">\n",
       "  <thead>\n",
       "    <tr style=\"text-align: right;\">\n",
       "      <th></th>\n",
       "      <th>Unnamed: 0</th>\n",
       "      <th>ano_censo</th>\n",
       "      <th>cod_escola_inep</th>\n",
       "      <th>tp_dependencia</th>\n",
       "      <th>num_matriculas</th>\n",
       "      <th>num_estudantes</th>\n",
       "      <th>num_estudantes_ensino_infantil</th>\n",
       "      <th>num_estudantes_ensino_fund_anos_iniciais</th>\n",
       "      <th>num_estudantes_ensino_fund_anos_finais</th>\n",
       "      <th>num_estudantes_ensino_medio_propedeutico</th>\n",
       "      <th>...</th>\n",
       "      <th>ideb_2015_anos_finais</th>\n",
       "      <th>tp_aee</th>\n",
       "      <th>tp_atividade_complementar</th>\n",
       "      <th>tp_localizacao_diferenciada</th>\n",
       "      <th>tp_indigena_lingua</th>\n",
       "      <th>co_lingua_indigena</th>\n",
       "      <th>cod_municipio</th>\n",
       "      <th>num_matriculas_ensino_integral</th>\n",
       "      <th>num_estudantes_ensino_integral</th>\n",
       "      <th>cod_ibge_uf</th>\n",
       "    </tr>\n",
       "  </thead>\n",
       "  <tbody>\n",
       "    <tr>\n",
       "      <th>count</th>\n",
       "      <td>282362.000000</td>\n",
       "      <td>282362.0</td>\n",
       "      <td>2.823620e+05</td>\n",
       "      <td>282362.000000</td>\n",
       "      <td>185925.000000</td>\n",
       "      <td>185925.000000</td>\n",
       "      <td>185925.000000</td>\n",
       "      <td>185925.000000</td>\n",
       "      <td>185925.000000</td>\n",
       "      <td>185925.000000</td>\n",
       "      <td>...</td>\n",
       "      <td>29799.000000</td>\n",
       "      <td>282362.000000</td>\n",
       "      <td>282362.000000</td>\n",
       "      <td>185925.000000</td>\n",
       "      <td>282362.000000</td>\n",
       "      <td>2375.000000</td>\n",
       "      <td>2.823620e+05</td>\n",
       "      <td>70488.000000</td>\n",
       "      <td>70488.000000</td>\n",
       "      <td>282362.000000</td>\n",
       "    </tr>\n",
       "    <tr>\n",
       "      <th>mean</th>\n",
       "      <td>141180.500000</td>\n",
       "      <td>2017.0</td>\n",
       "      <td>2.985885e+07</td>\n",
       "      <td>3.086697</td>\n",
       "      <td>289.905440</td>\n",
       "      <td>263.029377</td>\n",
       "      <td>45.709071</td>\n",
       "      <td>82.425774</td>\n",
       "      <td>64.634718</td>\n",
       "      <td>42.640532</td>\n",
       "      <td>...</td>\n",
       "      <td>4.159072</td>\n",
       "      <td>0.108003</td>\n",
       "      <td>0.151005</td>\n",
       "      <td>0.113922</td>\n",
       "      <td>0.030900</td>\n",
       "      <td>161.114947</td>\n",
       "      <td>2.983943e+06</td>\n",
       "      <td>99.741176</td>\n",
       "      <td>99.739034</td>\n",
       "      <td>29.692193</td>\n",
       "    </tr>\n",
       "    <tr>\n",
       "      <th>std</th>\n",
       "      <td>81511.032692</td>\n",
       "      <td>0.0</td>\n",
       "      <td>9.356055e+06</td>\n",
       "      <td>0.601885</td>\n",
       "      <td>373.840122</td>\n",
       "      <td>345.225732</td>\n",
       "      <td>77.024842</td>\n",
       "      <td>139.097246</td>\n",
       "      <td>140.207852</td>\n",
       "      <td>148.883476</td>\n",
       "      <td>...</td>\n",
       "      <td>0.874669</td>\n",
       "      <td>0.319283</td>\n",
       "      <td>0.367244</td>\n",
       "      <td>0.517211</td>\n",
       "      <td>0.290188</td>\n",
       "      <td>181.261067</td>\n",
       "      <td>9.391309e+05</td>\n",
       "      <td>101.823060</td>\n",
       "      <td>101.820541</td>\n",
       "      <td>9.351371</td>\n",
       "    </tr>\n",
       "    <tr>\n",
       "      <th>min</th>\n",
       "      <td>0.000000</td>\n",
       "      <td>2017.0</td>\n",
       "      <td>1.100002e+07</td>\n",
       "      <td>1.000000</td>\n",
       "      <td>1.000000</td>\n",
       "      <td>1.000000</td>\n",
       "      <td>0.000000</td>\n",
       "      <td>0.000000</td>\n",
       "      <td>0.000000</td>\n",
       "      <td>0.000000</td>\n",
       "      <td>...</td>\n",
       "      <td>0.900000</td>\n",
       "      <td>0.000000</td>\n",
       "      <td>0.000000</td>\n",
       "      <td>0.000000</td>\n",
       "      <td>0.000000</td>\n",
       "      <td>1.000000</td>\n",
       "      <td>1.100015e+06</td>\n",
       "      <td>1.000000</td>\n",
       "      <td>1.000000</td>\n",
       "      <td>11.000000</td>\n",
       "    </tr>\n",
       "    <tr>\n",
       "      <th>25%</th>\n",
       "      <td>70590.250000</td>\n",
       "      <td>2017.0</td>\n",
       "      <td>2.317088e+07</td>\n",
       "      <td>3.000000</td>\n",
       "      <td>59.000000</td>\n",
       "      <td>57.000000</td>\n",
       "      <td>0.000000</td>\n",
       "      <td>0.000000</td>\n",
       "      <td>0.000000</td>\n",
       "      <td>0.000000</td>\n",
       "      <td>...</td>\n",
       "      <td>3.500000</td>\n",
       "      <td>0.000000</td>\n",
       "      <td>0.000000</td>\n",
       "      <td>0.000000</td>\n",
       "      <td>0.000000</td>\n",
       "      <td>68.500000</td>\n",
       "      <td>2.306900e+06</td>\n",
       "      <td>35.000000</td>\n",
       "      <td>35.000000</td>\n",
       "      <td>23.000000</td>\n",
       "    </tr>\n",
       "    <tr>\n",
       "      <th>50%</th>\n",
       "      <td>141180.500000</td>\n",
       "      <td>2017.0</td>\n",
       "      <td>2.944356e+07</td>\n",
       "      <td>3.000000</td>\n",
       "      <td>160.000000</td>\n",
       "      <td>149.000000</td>\n",
       "      <td>12.000000</td>\n",
       "      <td>19.000000</td>\n",
       "      <td>0.000000</td>\n",
       "      <td>0.000000</td>\n",
       "      <td>...</td>\n",
       "      <td>4.200000</td>\n",
       "      <td>0.000000</td>\n",
       "      <td>0.000000</td>\n",
       "      <td>0.000000</td>\n",
       "      <td>0.000000</td>\n",
       "      <td>126.000000</td>\n",
       "      <td>2.930501e+06</td>\n",
       "      <td>77.000000</td>\n",
       "      <td>77.000000</td>\n",
       "      <td>29.000000</td>\n",
       "    </tr>\n",
       "    <tr>\n",
       "      <th>75%</th>\n",
       "      <td>211770.750000</td>\n",
       "      <td>2017.0</td>\n",
       "      <td>3.520377e+07</td>\n",
       "      <td>3.000000</td>\n",
       "      <td>391.000000</td>\n",
       "      <td>350.000000</td>\n",
       "      <td>61.000000</td>\n",
       "      <td>104.000000</td>\n",
       "      <td>62.000000</td>\n",
       "      <td>0.000000</td>\n",
       "      <td>...</td>\n",
       "      <td>4.800000</td>\n",
       "      <td>0.000000</td>\n",
       "      <td>0.000000</td>\n",
       "      <td>0.000000</td>\n",
       "      <td>0.000000</td>\n",
       "      <td>211.000000</td>\n",
       "      <td>3.531308e+06</td>\n",
       "      <td>127.000000</td>\n",
       "      <td>127.000000</td>\n",
       "      <td>35.000000</td>\n",
       "    </tr>\n",
       "    <tr>\n",
       "      <th>max</th>\n",
       "      <td>282361.000000</td>\n",
       "      <td>2017.0</td>\n",
       "      <td>5.308803e+07</td>\n",
       "      <td>4.000000</td>\n",
       "      <td>54896.000000</td>\n",
       "      <td>54712.000000</td>\n",
       "      <td>2247.000000</td>\n",
       "      <td>2199.000000</td>\n",
       "      <td>2222.000000</td>\n",
       "      <td>3312.000000</td>\n",
       "      <td>...</td>\n",
       "      <td>8.500000</td>\n",
       "      <td>2.000000</td>\n",
       "      <td>2.000000</td>\n",
       "      <td>6.000000</td>\n",
       "      <td>3.000000</td>\n",
       "      <td>999.000000</td>\n",
       "      <td>5.300108e+06</td>\n",
       "      <td>2221.000000</td>\n",
       "      <td>2221.000000</td>\n",
       "      <td>53.000000</td>\n",
       "    </tr>\n",
       "  </tbody>\n",
       "</table>\n",
       "<p>8 rows × 83 columns</p>\n",
       "</div>"
      ],
      "text/plain": [
       "          Unnamed: 0  ano_censo  cod_escola_inep  tp_dependencia  \\\n",
       "count  282362.000000   282362.0     2.823620e+05   282362.000000   \n",
       "mean   141180.500000     2017.0     2.985885e+07        3.086697   \n",
       "std     81511.032692        0.0     9.356055e+06        0.601885   \n",
       "min         0.000000     2017.0     1.100002e+07        1.000000   \n",
       "25%     70590.250000     2017.0     2.317088e+07        3.000000   \n",
       "50%    141180.500000     2017.0     2.944356e+07        3.000000   \n",
       "75%    211770.750000     2017.0     3.520377e+07        3.000000   \n",
       "max    282361.000000     2017.0     5.308803e+07        4.000000   \n",
       "\n",
       "       num_matriculas  num_estudantes  num_estudantes_ensino_infantil  \\\n",
       "count   185925.000000   185925.000000                   185925.000000   \n",
       "mean       289.905440      263.029377                       45.709071   \n",
       "std        373.840122      345.225732                       77.024842   \n",
       "min          1.000000        1.000000                        0.000000   \n",
       "25%         59.000000       57.000000                        0.000000   \n",
       "50%        160.000000      149.000000                       12.000000   \n",
       "75%        391.000000      350.000000                       61.000000   \n",
       "max      54896.000000    54712.000000                     2247.000000   \n",
       "\n",
       "       num_estudantes_ensino_fund_anos_iniciais  \\\n",
       "count                             185925.000000   \n",
       "mean                                  82.425774   \n",
       "std                                  139.097246   \n",
       "min                                    0.000000   \n",
       "25%                                    0.000000   \n",
       "50%                                   19.000000   \n",
       "75%                                  104.000000   \n",
       "max                                 2199.000000   \n",
       "\n",
       "       num_estudantes_ensino_fund_anos_finais  \\\n",
       "count                           185925.000000   \n",
       "mean                                64.634718   \n",
       "std                                140.207852   \n",
       "min                                  0.000000   \n",
       "25%                                  0.000000   \n",
       "50%                                  0.000000   \n",
       "75%                                 62.000000   \n",
       "max                               2222.000000   \n",
       "\n",
       "       num_estudantes_ensino_medio_propedeutico      ...        \\\n",
       "count                             185925.000000      ...         \n",
       "mean                                  42.640532      ...         \n",
       "std                                  148.883476      ...         \n",
       "min                                    0.000000      ...         \n",
       "25%                                    0.000000      ...         \n",
       "50%                                    0.000000      ...         \n",
       "75%                                    0.000000      ...         \n",
       "max                                 3312.000000      ...         \n",
       "\n",
       "       ideb_2015_anos_finais         tp_aee  tp_atividade_complementar  \\\n",
       "count           29799.000000  282362.000000              282362.000000   \n",
       "mean                4.159072       0.108003                   0.151005   \n",
       "std                 0.874669       0.319283                   0.367244   \n",
       "min                 0.900000       0.000000                   0.000000   \n",
       "25%                 3.500000       0.000000                   0.000000   \n",
       "50%                 4.200000       0.000000                   0.000000   \n",
       "75%                 4.800000       0.000000                   0.000000   \n",
       "max                 8.500000       2.000000                   2.000000   \n",
       "\n",
       "       tp_localizacao_diferenciada  tp_indigena_lingua  co_lingua_indigena  \\\n",
       "count                185925.000000       282362.000000         2375.000000   \n",
       "mean                      0.113922            0.030900          161.114947   \n",
       "std                       0.517211            0.290188          181.261067   \n",
       "min                       0.000000            0.000000            1.000000   \n",
       "25%                       0.000000            0.000000           68.500000   \n",
       "50%                       0.000000            0.000000          126.000000   \n",
       "75%                       0.000000            0.000000          211.000000   \n",
       "max                       6.000000            3.000000          999.000000   \n",
       "\n",
       "       cod_municipio  num_matriculas_ensino_integral  \\\n",
       "count   2.823620e+05                    70488.000000   \n",
       "mean    2.983943e+06                       99.741176   \n",
       "std     9.391309e+05                      101.823060   \n",
       "min     1.100015e+06                        1.000000   \n",
       "25%     2.306900e+06                       35.000000   \n",
       "50%     2.930501e+06                       77.000000   \n",
       "75%     3.531308e+06                      127.000000   \n",
       "max     5.300108e+06                     2221.000000   \n",
       "\n",
       "       num_estudantes_ensino_integral    cod_ibge_uf  \n",
       "count                    70488.000000  282362.000000  \n",
       "mean                        99.739034      29.692193  \n",
       "std                        101.820541       9.351371  \n",
       "min                          1.000000      11.000000  \n",
       "25%                         35.000000      23.000000  \n",
       "50%                         77.000000      29.000000  \n",
       "75%                        127.000000      35.000000  \n",
       "max                       2221.000000      53.000000  \n",
       "\n",
       "[8 rows x 83 columns]"
      ]
     },
     "execution_count": 7,
     "metadata": {},
     "output_type": "execute_result"
    }
   ],
   "source": [
    "esc0.describe()"
   ]
  },
  {
   "cell_type": "code",
   "execution_count": 8,
   "metadata": {
    "collapsed": true
   },
   "outputs": [
    {
     "data": {
      "text/html": [
       "<div>\n",
       "<style scoped>\n",
       "    .dataframe tbody tr th:only-of-type {\n",
       "        vertical-align: middle;\n",
       "    }\n",
       "\n",
       "    .dataframe tbody tr th {\n",
       "        vertical-align: top;\n",
       "    }\n",
       "\n",
       "    .dataframe thead th {\n",
       "        text-align: right;\n",
       "    }\n",
       "</style>\n",
       "<table border=\"1\" class=\"dataframe\">\n",
       "  <thead>\n",
       "    <tr style=\"text-align: right;\">\n",
       "      <th></th>\n",
       "      <th>Unnamed: 0</th>\n",
       "      <th>ano_censo</th>\n",
       "      <th>cod_escola_inep</th>\n",
       "      <th>regiao</th>\n",
       "      <th>unidade_federativa</th>\n",
       "      <th>mesoregiao</th>\n",
       "      <th>microregiao</th>\n",
       "      <th>municipio</th>\n",
       "      <th>tp_dependencia</th>\n",
       "      <th>tp_dependencia_desc</th>\n",
       "      <th>...</th>\n",
       "      <th>tp_indigena_lingua_desc</th>\n",
       "      <th>co_lingua_indigena</th>\n",
       "      <th>in_brasil_alfabetizado</th>\n",
       "      <th>in_final_semana</th>\n",
       "      <th>in_formacao_alternancia</th>\n",
       "      <th>cod_municipio</th>\n",
       "      <th>num_matriculas_ensino_integral</th>\n",
       "      <th>num_estudantes_ensino_integral</th>\n",
       "      <th>tp_integral</th>\n",
       "      <th>cod_ibge_uf</th>\n",
       "    </tr>\n",
       "  </thead>\n",
       "  <tbody>\n",
       "    <tr>\n",
       "      <th>0</th>\n",
       "      <td>0</td>\n",
       "      <td>2017</td>\n",
       "      <td>11021012</td>\n",
       "      <td>Norte</td>\n",
       "      <td>Rondônia</td>\n",
       "      <td>Leste Rondoniense</td>\n",
       "      <td>Ji-Paraná</td>\n",
       "      <td>Vale do Paraíso</td>\n",
       "      <td>3</td>\n",
       "      <td>Municipal</td>\n",
       "      <td>...</td>\n",
       "      <td>NaN</td>\n",
       "      <td>NaN</td>\n",
       "      <td>False</td>\n",
       "      <td>False</td>\n",
       "      <td>False</td>\n",
       "      <td>1101807</td>\n",
       "      <td>NaN</td>\n",
       "      <td>NaN</td>\n",
       "      <td>False</td>\n",
       "      <td>11</td>\n",
       "    </tr>\n",
       "    <tr>\n",
       "      <th>1</th>\n",
       "      <td>1</td>\n",
       "      <td>2017</td>\n",
       "      <td>11037288</td>\n",
       "      <td>Norte</td>\n",
       "      <td>Rondônia</td>\n",
       "      <td>Leste Rondoniense</td>\n",
       "      <td>Ji-Paraná</td>\n",
       "      <td>Urupá</td>\n",
       "      <td>4</td>\n",
       "      <td>Privada</td>\n",
       "      <td>...</td>\n",
       "      <td>NaN</td>\n",
       "      <td>NaN</td>\n",
       "      <td>False</td>\n",
       "      <td>False</td>\n",
       "      <td>False</td>\n",
       "      <td>1101708</td>\n",
       "      <td>NaN</td>\n",
       "      <td>NaN</td>\n",
       "      <td>False</td>\n",
       "      <td>11</td>\n",
       "    </tr>\n",
       "    <tr>\n",
       "      <th>2</th>\n",
       "      <td>2</td>\n",
       "      <td>2017</td>\n",
       "      <td>11045787</td>\n",
       "      <td>Norte</td>\n",
       "      <td>Rondônia</td>\n",
       "      <td>Leste Rondoniense</td>\n",
       "      <td>Ariquemes</td>\n",
       "      <td>Machadinho D'Oeste</td>\n",
       "      <td>3</td>\n",
       "      <td>Municipal</td>\n",
       "      <td>...</td>\n",
       "      <td>NaN</td>\n",
       "      <td>NaN</td>\n",
       "      <td>False</td>\n",
       "      <td>False</td>\n",
       "      <td>False</td>\n",
       "      <td>1100130</td>\n",
       "      <td>NaN</td>\n",
       "      <td>NaN</td>\n",
       "      <td>False</td>\n",
       "      <td>11</td>\n",
       "    </tr>\n",
       "    <tr>\n",
       "      <th>3</th>\n",
       "      <td>3</td>\n",
       "      <td>2017</td>\n",
       "      <td>11010088</td>\n",
       "      <td>Norte</td>\n",
       "      <td>Rondônia</td>\n",
       "      <td>Leste Rondoniense</td>\n",
       "      <td>Ariquemes</td>\n",
       "      <td>Alto Paraíso</td>\n",
       "      <td>3</td>\n",
       "      <td>Municipal</td>\n",
       "      <td>...</td>\n",
       "      <td>NaN</td>\n",
       "      <td>NaN</td>\n",
       "      <td>False</td>\n",
       "      <td>False</td>\n",
       "      <td>False</td>\n",
       "      <td>1100403</td>\n",
       "      <td>NaN</td>\n",
       "      <td>NaN</td>\n",
       "      <td>False</td>\n",
       "      <td>11</td>\n",
       "    </tr>\n",
       "    <tr>\n",
       "      <th>4</th>\n",
       "      <td>4</td>\n",
       "      <td>2017</td>\n",
       "      <td>11040203</td>\n",
       "      <td>Norte</td>\n",
       "      <td>Rondônia</td>\n",
       "      <td>Leste Rondoniense</td>\n",
       "      <td>Ji-Paraná</td>\n",
       "      <td>Nova União</td>\n",
       "      <td>3</td>\n",
       "      <td>Municipal</td>\n",
       "      <td>...</td>\n",
       "      <td>NaN</td>\n",
       "      <td>NaN</td>\n",
       "      <td>False</td>\n",
       "      <td>False</td>\n",
       "      <td>False</td>\n",
       "      <td>1101435</td>\n",
       "      <td>NaN</td>\n",
       "      <td>NaN</td>\n",
       "      <td>False</td>\n",
       "      <td>11</td>\n",
       "    </tr>\n",
       "  </tbody>\n",
       "</table>\n",
       "<p>5 rows × 203 columns</p>\n",
       "</div>"
      ],
      "text/plain": [
       "   Unnamed: 0  ano_censo  cod_escola_inep regiao unidade_federativa  \\\n",
       "0           0       2017         11021012  Norte           Rondônia   \n",
       "1           1       2017         11037288  Norte           Rondônia   \n",
       "2           2       2017         11045787  Norte           Rondônia   \n",
       "3           3       2017         11010088  Norte           Rondônia   \n",
       "4           4       2017         11040203  Norte           Rondônia   \n",
       "\n",
       "          mesoregiao microregiao           municipio  tp_dependencia  \\\n",
       "0  Leste Rondoniense   Ji-Paraná     Vale do Paraíso               3   \n",
       "1  Leste Rondoniense   Ji-Paraná               Urupá               4   \n",
       "2  Leste Rondoniense   Ariquemes  Machadinho D'Oeste               3   \n",
       "3  Leste Rondoniense   Ariquemes        Alto Paraíso               3   \n",
       "4  Leste Rondoniense   Ji-Paraná          Nova União               3   \n",
       "\n",
       "  tp_dependencia_desc     ...      tp_indigena_lingua_desc co_lingua_indigena  \\\n",
       "0           Municipal     ...                          NaN                NaN   \n",
       "1             Privada     ...                          NaN                NaN   \n",
       "2           Municipal     ...                          NaN                NaN   \n",
       "3           Municipal     ...                          NaN                NaN   \n",
       "4           Municipal     ...                          NaN                NaN   \n",
       "\n",
       "  in_brasil_alfabetizado in_final_semana in_formacao_alternancia  \\\n",
       "0                  False           False                   False   \n",
       "1                  False           False                   False   \n",
       "2                  False           False                   False   \n",
       "3                  False           False                   False   \n",
       "4                  False           False                   False   \n",
       "\n",
       "  cod_municipio num_matriculas_ensino_integral  \\\n",
       "0       1101807                            NaN   \n",
       "1       1101708                            NaN   \n",
       "2       1100130                            NaN   \n",
       "3       1100403                            NaN   \n",
       "4       1101435                            NaN   \n",
       "\n",
       "   num_estudantes_ensino_integral  tp_integral  cod_ibge_uf  \n",
       "0                             NaN        False           11  \n",
       "1                             NaN        False           11  \n",
       "2                             NaN        False           11  \n",
       "3                             NaN        False           11  \n",
       "4                             NaN        False           11  \n",
       "\n",
       "[5 rows x 203 columns]"
      ]
     },
     "execution_count": 8,
     "metadata": {},
     "output_type": "execute_result"
    }
   ],
   "source": [
    "esc0.head(5)"
   ]
  },
  {
   "cell_type": "code",
   "execution_count": 4,
   "metadata": {},
   "outputs": [],
   "source": [
    "esc1 = esc0[['num_estudantes_ensino_infantil','num_estudantes_ensino_fund_anos_iniciais','num_estudantes_ensino_fund_anos_finais','num_estudantes_ensino_medio_propedeutico','num_estudantes_fund_1_ano','num_estudantes_fund_2_ano','num_estudantes_fund_3_ano','num_estudantes_fund_4_ano','num_estudantes_fund_5_ano','num_estudantes_fund_6_ano','num_estudantes_fund_7_ano','num_estudantes_fund_8_ano','num_estudantes_fund_9_ano','num_estudantes_medio_1_serie','num_estudantes_medio_2_serie','num_estudantes_medio_3_serie','num_estudantes_medio_4_serie','num_estudantes_medio_nao_seriada','tp_situacao_funcionamento','num_salas_existentes','num_salas_utilizadas','num_funcionarios','num_professores','num_professores_em_regencia','num_professores_em_regencia_fund_ai','num_professores_em_regencia_fund_af','num_professores_em_regencia_ens_medio','cod_escola_inep','tp_dependencia','tp_rede','num_matriculas','num_estudantes','num_equip_tv','num_equip_videocassete','num_equip_dvd','num_equip_parabolica','num_equip_copiadora','num_equip_retroprojetor','num_equip_impressora','num_equip_impressora_mult','num_equip_som','num_equip_multimidia','num_equip_fax','num_equip_foto','num_computador','num_comp_administrativo','num_comp_aluno']]"
   ]
  },
  {
   "cell_type": "code",
   "execution_count": 5,
   "metadata": {},
   "outputs": [],
   "source": [
    "esc2 = esc1.dropna()"
   ]
  },
  {
   "cell_type": "markdown",
   "metadata": {},
   "source": [
    "Separação da database em Numeric Estruturais, Numeric Equipamentos, e Boolean, além de remover algumas colunas para ficar mais manejável. Inclui tambem algumas colunas para ajudar na identificação das escolas e na paridade das bases se depois for usalas em conjunto. Também inclui 'num_matriculas','num_estudantes' para posteriormente usar e checar se as correlações fazem sentido"
   ]
  },
  {
   "cell_type": "code",
   "execution_count": 6,
   "metadata": {},
   "outputs": [],
   "source": [
    "numEst0 = esc2[['cod_escola_inep','tp_dependencia','tp_rede','num_matriculas','num_estudantes','num_estudantes_ensino_infantil','num_estudantes_ensino_fund_anos_iniciais','num_estudantes_ensino_fund_anos_finais','num_estudantes_ensino_medio_propedeutico','num_estudantes_fund_1_ano','num_estudantes_fund_2_ano','num_estudantes_fund_3_ano','num_estudantes_fund_4_ano','num_estudantes_fund_5_ano','num_estudantes_fund_6_ano','num_estudantes_fund_7_ano','num_estudantes_fund_8_ano','num_estudantes_fund_9_ano','num_estudantes_medio_1_serie','num_estudantes_medio_2_serie','num_estudantes_medio_3_serie','num_estudantes_medio_4_serie','num_estudantes_medio_nao_seriada','tp_situacao_funcionamento','num_salas_existentes','num_salas_utilizadas','num_funcionarios','num_professores','num_professores_em_regencia','num_professores_em_regencia_fund_ai','num_professores_em_regencia_fund_af','num_professores_em_regencia_ens_medio']]"
   ]
  },
  {
   "cell_type": "code",
   "execution_count": 7,
   "metadata": {},
   "outputs": [],
   "source": [
    "numEqp0 = esc2[['cod_escola_inep','tp_dependencia','tp_rede','num_matriculas','num_estudantes','num_equip_tv','num_equip_videocassete','num_equip_dvd','num_equip_parabolica','num_equip_copiadora','num_equip_retroprojetor','num_equip_impressora','num_equip_impressora_mult','num_equip_som','num_equip_multimidia','num_equip_fax','num_equip_foto','num_computador','num_comp_administrativo','num_comp_aluno']]"
   ]
  },
  {
   "cell_type": "markdown",
   "metadata": {},
   "source": [
    "Ver situação dos dados"
   ]
  },
  {
   "cell_type": "code",
   "execution_count": 144,
   "metadata": {},
   "outputs": [],
   "source": [
    "#for c in numEqp0.columns:\n",
    "#    print(numEqp0[c].value_counts())"
   ]
  },
  {
   "cell_type": "code",
   "execution_count": 145,
   "metadata": {},
   "outputs": [],
   "source": [
    "#for c in numEst0.columns:\n",
    "#    print(numEst0[c].value_counts())"
   ]
  },
  {
   "cell_type": "code",
   "execution_count": 5,
   "metadata": {
    "collapsed": true
   },
   "outputs": [
    {
     "data": {
      "text/plain": [
       "num_matriculas               96437\n",
       "num_salas_existentes         96906\n",
       "cod_escola_inep                  0\n",
       "tp_dependencia                   0\n",
       "tp_rede                          0\n",
       "num_equip_tv                     0\n",
       "num_equip_videocassete           0\n",
       "num_equip_dvd                    0\n",
       "num_equip_parabolica             0\n",
       "num_equip_copiadora              0\n",
       "num_equip_retroprojetor          0\n",
       "num_equip_impressora             0\n",
       "num_equip_impressora_mult        0\n",
       "num_equip_som                    0\n",
       "num_equip_multimidia             0\n",
       "num_equip_fax                    0\n",
       "num_equip_foto                   0\n",
       "num_computador                   0\n",
       "num_comp_administrativo          0\n",
       "num_comp_aluno                   0\n",
       "dtype: int64"
      ]
     },
     "execution_count": 5,
     "metadata": {},
     "output_type": "execute_result"
    }
   ],
   "source": [
    "numEqp0.isnull().sum()"
   ]
  },
  {
   "cell_type": "code",
   "execution_count": 45,
   "metadata": {
    "collapsed": true
   },
   "outputs": [
    {
     "data": {
      "text/plain": [
       "cod_escola_inep               int64\n",
       "tp_dependencia                int64\n",
       "tp_rede                      object\n",
       "num_equip_tv                  int64\n",
       "num_equip_videocassete        int64\n",
       "num_equip_dvd                 int64\n",
       "num_equip_parabolica          int64\n",
       "num_equip_copiadora           int64\n",
       "num_equip_retroprojetor       int64\n",
       "num_equip_impressora          int64\n",
       "num_equip_impressora_mult     int64\n",
       "num_equip_som                 int64\n",
       "num_equip_multimidia          int64\n",
       "num_equip_fax                 int64\n",
       "num_equip_foto                int64\n",
       "num_computador                int64\n",
       "num_comp_administrativo       int64\n",
       "num_comp_aluno                int64\n",
       "dtype: object"
      ]
     },
     "execution_count": 45,
     "metadata": {},
     "output_type": "execute_result"
    }
   ],
   "source": [
    "numEqp0.dtypes"
   ]
  },
  {
   "cell_type": "code",
   "execution_count": 46,
   "metadata": {
    "collapsed": true
   },
   "outputs": [
    {
     "data": {
      "text/plain": [
       "cod_escola_inep                                 0\n",
       "tp_dependencia                                  0\n",
       "tp_rede                                         0\n",
       "num_matriculas                              96437\n",
       "num_estudantes                              96437\n",
       "num_estudantes_ensino_infantil              96437\n",
       "num_estudantes_ensino_fund_anos_iniciais    96437\n",
       "num_estudantes_ensino_fund_anos_finais      96437\n",
       "num_estudantes_ensino_medio_propedeutico    96437\n",
       "num_estudantes_fund_1_ano                   96437\n",
       "num_estudantes_fund_2_ano                   96437\n",
       "num_estudantes_fund_3_ano                   96437\n",
       "num_estudantes_fund_4_ano                   96437\n",
       "num_estudantes_fund_5_ano                   96437\n",
       "num_estudantes_fund_6_ano                   96437\n",
       "num_estudantes_fund_7_ano                   96437\n",
       "num_estudantes_fund_8_ano                   96437\n",
       "num_estudantes_fund_9_ano                   96437\n",
       "num_estudantes_medio_1_serie                96437\n",
       "num_estudantes_medio_2_serie                96437\n",
       "num_estudantes_medio_3_serie                96437\n",
       "num_estudantes_medio_4_serie                96437\n",
       "num_estudantes_medio_nao_seriada            96437\n",
       "tp_situacao_funcionamento                       0\n",
       "num_salas_existentes                        96906\n",
       "num_salas_utilizadas                        96437\n",
       "num_funcionarios                            96437\n",
       "num_professores                             96437\n",
       "num_professores_em_regencia                 96437\n",
       "num_professores_em_regencia_fund_ai         96437\n",
       "num_professores_em_regencia_fund_af         96437\n",
       "num_professores_em_regencia_ens_medio       96437\n",
       "dtype: int64"
      ]
     },
     "execution_count": 46,
     "metadata": {},
     "output_type": "execute_result"
    }
   ],
   "source": [
    "numEst0.isnull().sum()"
   ]
  },
  {
   "cell_type": "code",
   "execution_count": 47,
   "metadata": {
    "collapsed": true
   },
   "outputs": [
    {
     "data": {
      "text/plain": [
       "cod_escola_inep                               int64\n",
       "tp_dependencia                                int64\n",
       "tp_rede                                      object\n",
       "num_matriculas                              float64\n",
       "num_estudantes                              float64\n",
       "num_estudantes_ensino_infantil              float64\n",
       "num_estudantes_ensino_fund_anos_iniciais    float64\n",
       "num_estudantes_ensino_fund_anos_finais      float64\n",
       "num_estudantes_ensino_medio_propedeutico    float64\n",
       "num_estudantes_fund_1_ano                   float64\n",
       "num_estudantes_fund_2_ano                   float64\n",
       "num_estudantes_fund_3_ano                   float64\n",
       "num_estudantes_fund_4_ano                   float64\n",
       "num_estudantes_fund_5_ano                   float64\n",
       "num_estudantes_fund_6_ano                   float64\n",
       "num_estudantes_fund_7_ano                   float64\n",
       "num_estudantes_fund_8_ano                   float64\n",
       "num_estudantes_fund_9_ano                   float64\n",
       "num_estudantes_medio_1_serie                float64\n",
       "num_estudantes_medio_2_serie                float64\n",
       "num_estudantes_medio_3_serie                float64\n",
       "num_estudantes_medio_4_serie                float64\n",
       "num_estudantes_medio_nao_seriada            float64\n",
       "tp_situacao_funcionamento                     int64\n",
       "num_salas_existentes                        float64\n",
       "num_salas_utilizadas                        float64\n",
       "num_funcionarios                            float64\n",
       "num_professores                             float64\n",
       "num_professores_em_regencia                 float64\n",
       "num_professores_em_regencia_fund_ai         float64\n",
       "num_professores_em_regencia_fund_af         float64\n",
       "num_professores_em_regencia_ens_medio       float64\n",
       "dtype: object"
      ]
     },
     "execution_count": 47,
     "metadata": {},
     "output_type": "execute_result"
    }
   ],
   "source": [
    "numEst0.dtypes"
   ]
  },
  {
   "cell_type": "code",
   "execution_count": 91,
   "metadata": {
    "collapsed": true
   },
   "outputs": [
    {
     "data": {
      "text/html": [
       "<div>\n",
       "<style scoped>\n",
       "    .dataframe tbody tr th:only-of-type {\n",
       "        vertical-align: middle;\n",
       "    }\n",
       "\n",
       "    .dataframe tbody tr th {\n",
       "        vertical-align: top;\n",
       "    }\n",
       "\n",
       "    .dataframe thead th {\n",
       "        text-align: right;\n",
       "    }\n",
       "</style>\n",
       "<table border=\"1\" class=\"dataframe\">\n",
       "  <thead>\n",
       "    <tr style=\"text-align: right;\">\n",
       "      <th></th>\n",
       "      <th>num_matriculas</th>\n",
       "      <th>num_salas_existentes</th>\n",
       "      <th>cod_escola_inep</th>\n",
       "      <th>tp_dependencia</th>\n",
       "      <th>tp_rede</th>\n",
       "      <th>num_equip_tv</th>\n",
       "      <th>num_equip_videocassete</th>\n",
       "      <th>num_equip_dvd</th>\n",
       "      <th>num_equip_parabolica</th>\n",
       "      <th>num_equip_copiadora</th>\n",
       "      <th>num_equip_retroprojetor</th>\n",
       "      <th>num_equip_impressora</th>\n",
       "      <th>num_equip_impressora_mult</th>\n",
       "      <th>num_equip_som</th>\n",
       "      <th>num_equip_multimidia</th>\n",
       "      <th>num_equip_fax</th>\n",
       "      <th>num_equip_foto</th>\n",
       "      <th>num_computador</th>\n",
       "      <th>num_comp_administrativo</th>\n",
       "      <th>num_comp_aluno</th>\n",
       "    </tr>\n",
       "  </thead>\n",
       "  <tbody>\n",
       "    <tr>\n",
       "      <th>0</th>\n",
       "      <td>NaN</td>\n",
       "      <td>NaN</td>\n",
       "      <td>11021012</td>\n",
       "      <td>3</td>\n",
       "      <td>Municipal</td>\n",
       "      <td>0</td>\n",
       "      <td>0</td>\n",
       "      <td>0</td>\n",
       "      <td>0</td>\n",
       "      <td>0</td>\n",
       "      <td>0</td>\n",
       "      <td>0</td>\n",
       "      <td>0</td>\n",
       "      <td>0</td>\n",
       "      <td>0</td>\n",
       "      <td>0</td>\n",
       "      <td>0</td>\n",
       "      <td>0</td>\n",
       "      <td>0</td>\n",
       "      <td>0</td>\n",
       "    </tr>\n",
       "    <tr>\n",
       "      <th>1</th>\n",
       "      <td>NaN</td>\n",
       "      <td>NaN</td>\n",
       "      <td>11037288</td>\n",
       "      <td>4</td>\n",
       "      <td>Privada</td>\n",
       "      <td>0</td>\n",
       "      <td>0</td>\n",
       "      <td>0</td>\n",
       "      <td>0</td>\n",
       "      <td>0</td>\n",
       "      <td>0</td>\n",
       "      <td>0</td>\n",
       "      <td>0</td>\n",
       "      <td>0</td>\n",
       "      <td>0</td>\n",
       "      <td>0</td>\n",
       "      <td>0</td>\n",
       "      <td>0</td>\n",
       "      <td>0</td>\n",
       "      <td>0</td>\n",
       "    </tr>\n",
       "    <tr>\n",
       "      <th>2</th>\n",
       "      <td>NaN</td>\n",
       "      <td>NaN</td>\n",
       "      <td>11045787</td>\n",
       "      <td>3</td>\n",
       "      <td>Municipal</td>\n",
       "      <td>0</td>\n",
       "      <td>0</td>\n",
       "      <td>0</td>\n",
       "      <td>0</td>\n",
       "      <td>0</td>\n",
       "      <td>0</td>\n",
       "      <td>0</td>\n",
       "      <td>0</td>\n",
       "      <td>0</td>\n",
       "      <td>0</td>\n",
       "      <td>0</td>\n",
       "      <td>0</td>\n",
       "      <td>0</td>\n",
       "      <td>0</td>\n",
       "      <td>0</td>\n",
       "    </tr>\n",
       "    <tr>\n",
       "      <th>3</th>\n",
       "      <td>NaN</td>\n",
       "      <td>NaN</td>\n",
       "      <td>11010088</td>\n",
       "      <td>3</td>\n",
       "      <td>Municipal</td>\n",
       "      <td>0</td>\n",
       "      <td>0</td>\n",
       "      <td>0</td>\n",
       "      <td>0</td>\n",
       "      <td>0</td>\n",
       "      <td>0</td>\n",
       "      <td>0</td>\n",
       "      <td>0</td>\n",
       "      <td>0</td>\n",
       "      <td>0</td>\n",
       "      <td>0</td>\n",
       "      <td>0</td>\n",
       "      <td>0</td>\n",
       "      <td>0</td>\n",
       "      <td>0</td>\n",
       "    </tr>\n",
       "    <tr>\n",
       "      <th>4</th>\n",
       "      <td>NaN</td>\n",
       "      <td>NaN</td>\n",
       "      <td>11040203</td>\n",
       "      <td>3</td>\n",
       "      <td>Municipal</td>\n",
       "      <td>0</td>\n",
       "      <td>0</td>\n",
       "      <td>0</td>\n",
       "      <td>0</td>\n",
       "      <td>0</td>\n",
       "      <td>0</td>\n",
       "      <td>0</td>\n",
       "      <td>0</td>\n",
       "      <td>0</td>\n",
       "      <td>0</td>\n",
       "      <td>0</td>\n",
       "      <td>0</td>\n",
       "      <td>0</td>\n",
       "      <td>0</td>\n",
       "      <td>0</td>\n",
       "    </tr>\n",
       "  </tbody>\n",
       "</table>\n",
       "</div>"
      ],
      "text/plain": [
       "   num_matriculas  num_salas_existentes  cod_escola_inep  tp_dependencia  \\\n",
       "0             NaN                   NaN         11021012               3   \n",
       "1             NaN                   NaN         11037288               4   \n",
       "2             NaN                   NaN         11045787               3   \n",
       "3             NaN                   NaN         11010088               3   \n",
       "4             NaN                   NaN         11040203               3   \n",
       "\n",
       "     tp_rede  num_equip_tv  num_equip_videocassete  num_equip_dvd  \\\n",
       "0  Municipal             0                       0              0   \n",
       "1    Privada             0                       0              0   \n",
       "2  Municipal             0                       0              0   \n",
       "3  Municipal             0                       0              0   \n",
       "4  Municipal             0                       0              0   \n",
       "\n",
       "   num_equip_parabolica  num_equip_copiadora  num_equip_retroprojetor  \\\n",
       "0                     0                    0                        0   \n",
       "1                     0                    0                        0   \n",
       "2                     0                    0                        0   \n",
       "3                     0                    0                        0   \n",
       "4                     0                    0                        0   \n",
       "\n",
       "   num_equip_impressora  num_equip_impressora_mult  num_equip_som  \\\n",
       "0                     0                          0              0   \n",
       "1                     0                          0              0   \n",
       "2                     0                          0              0   \n",
       "3                     0                          0              0   \n",
       "4                     0                          0              0   \n",
       "\n",
       "   num_equip_multimidia  num_equip_fax  num_equip_foto  num_computador  \\\n",
       "0                     0              0               0               0   \n",
       "1                     0              0               0               0   \n",
       "2                     0              0               0               0   \n",
       "3                     0              0               0               0   \n",
       "4                     0              0               0               0   \n",
       "\n",
       "   num_comp_administrativo  num_comp_aluno  \n",
       "0                        0               0  \n",
       "1                        0               0  \n",
       "2                        0               0  \n",
       "3                        0               0  \n",
       "4                        0               0  "
      ]
     },
     "execution_count": 91,
     "metadata": {},
     "output_type": "execute_result"
    }
   ],
   "source": [
    "numEqp0.head()"
   ]
  },
  {
   "cell_type": "code",
   "execution_count": 93,
   "metadata": {
    "collapsed": true
   },
   "outputs": [
    {
     "data": {
      "text/plain": [
       "Municipal    180248\n",
       "Privada       63680\n",
       "Estadual      37668\n",
       "Federal         766\n",
       "Name: tp_rede, dtype: int64"
      ]
     },
     "execution_count": 93,
     "metadata": {},
     "output_type": "execute_result"
    }
   ],
   "source": [
    "numEqp0['tp_rede'].value_counts()"
   ]
  },
  {
   "cell_type": "code",
   "execution_count": 95,
   "metadata": {
    "collapsed": true
   },
   "outputs": [
    {
     "data": {
      "text/plain": [
       "Municipal    22610\n",
       "Estadual     20959\n",
       "Federal         38\n",
       "Name: Rede, dtype: int64"
      ]
     },
     "execution_count": 95,
     "metadata": {},
     "output_type": "execute_result"
    }
   ],
   "source": [
    "idebaf['Rede'].value_counts()"
   ]
  },
  {
   "cell_type": "code",
   "execution_count": null,
   "metadata": {},
   "outputs": [],
   "source": [
    "idebai['Rede'].value_counts()"
   ]
  },
  {
   "cell_type": "code",
   "execution_count": 27,
   "metadata": {},
   "outputs": [],
   "source": [
    "for c in idebai.columns:\n",
    "    idebai[c].replace('*','',inplace=True)    \n",
    "    idebai[c].replace('-',np.nan,inplace=True)\n",
    "    idebai[c].replace('ND',np.nan,inplace=True)\n",
    "for c in idebai.columns:\n",
    "    if c not in ['Nome_Municipio' ,'Nome_Escola','Rede','Co_UF']:\n",
    "        idebai[c] = idebai[c].astype(float,copy=False)"
   ]
  },
  {
   "cell_type": "markdown",
   "metadata": {},
   "source": [
    "Filtrando algumas colunas para preparar o merge e ter uma database simplificada para servir de Target para modelos futuros"
   ]
  },
  {
   "cell_type": "code",
   "execution_count": 26,
   "metadata": {},
   "outputs": [],
   "source": [
    "idebai = idebai[idebai.columns.drop(list(idebai.filter(regex='TaxaAprovacao')))]\n",
    "idebai = idebai[idebai.columns.drop(list(idebai.filter(regex='NotaProvaBrasil_MT')))]\n",
    "idebai = idebai[idebai.columns.drop(list(idebai.filter(regex='NotaProvaBrasil_LP')))]\n",
    "idebai = idebai[idebai.columns.drop(list(idebai.filter(regex='ProjecaoIdeb200')))]\n",
    "\n",
    "idebaf = idebaf[idebaf.columns.drop(list(idebaf.filter(regex='TaxaAprovacao')))]\n",
    "idebaf = idebaf[idebaf.columns.drop(list(idebaf.filter(regex='NotaProvaBrasil_MT')))]\n",
    "idebaf = idebaf[idebaf.columns.drop(list(idebaf.filter(regex='NotaProvaBrasil_LP')))]\n",
    "idebaf = idebaf[idebaf.columns.drop(list(idebaf.filter(regex='ProjecaoIdeb200')))]"
   ]
  },
  {
   "cell_type": "code",
   "execution_count": 28,
   "metadata": {},
   "outputs": [
    {
     "data": {
      "text/plain": [
       "(59922, 33)"
      ]
     },
     "execution_count": 28,
     "metadata": {},
     "output_type": "execute_result"
    }
   ],
   "source": [
    "idebai.shape\n"
   ]
  },
  {
   "cell_type": "code",
   "execution_count": 29,
   "metadata": {
    "scrolled": true
   },
   "outputs": [
    {
     "data": {
      "text/plain": [
       "(43607, 33)"
      ]
     },
     "execution_count": 29,
     "metadata": {},
     "output_type": "execute_result"
    }
   ],
   "source": [
    "idebaf.shape"
   ]
  },
  {
   "cell_type": "markdown",
   "metadata": {},
   "source": [
    "Limpando as bases ideb anos iniciais e ideb anos finais"
   ]
  },
  {
   "cell_type": "code",
   "execution_count": 30,
   "metadata": {},
   "outputs": [],
   "source": [
    "for c in idebai.columns:\n",
    "    idebai[c].replace('*','',inplace=True)    \n",
    "    idebai[c].replace('-',np.nan,inplace=True)\n",
    "    idebai[c].replace('ND',np.nan,inplace=True)\n",
    "for c in idebai.columns:\n",
    "    if c not in ['Nome_Municipio' ,'Nome_Escola','Rede','Co_UF']:\n",
    "        idebai[c] = idebai[c].astype(float,copy=False)"
   ]
  },
  {
   "cell_type": "code",
   "execution_count": 33,
   "metadata": {},
   "outputs": [],
   "source": [
    "for c in idebaf.columns:\n",
    "    idebaf[c].replace('*','',inplace=True)    \n",
    "    idebaf[c].replace('-',np.nan,inplace=True)\n",
    "    idebaf[c].replace('ND',np.nan,inplace=True)\n",
    "for c in idebaf.columns:\n",
    "    if c not in ['Nome_Municipio' ,'Nome_Escola','Rede','Co_UF']:\n",
    "        idebaf[c] = idebaf[c].astype(float,copy=False)"
   ]
  },
  {
   "cell_type": "code",
   "execution_count": 31,
   "metadata": {},
   "outputs": [
    {
     "data": {
      "text/plain": [
       "5.488659520655194"
      ]
     },
     "execution_count": 31,
     "metadata": {},
     "output_type": "execute_result"
    }
   ],
   "source": [
    "idebai['Ideb2017'].mean()"
   ]
  },
  {
   "cell_type": "code",
   "execution_count": 34,
   "metadata": {},
   "outputs": [
    {
     "data": {
      "text/plain": [
       "4.43032119075596"
      ]
     },
     "execution_count": 34,
     "metadata": {},
     "output_type": "execute_result"
    }
   ],
   "source": [
    "idebaf['Ideb2017'].mean()"
   ]
  },
  {
   "cell_type": "markdown",
   "metadata": {},
   "source": [
    "Podemos observar uma diferença significativa na nota do Ideb e escolas de anos iniciais e anos finais, vamos explorar mais esse fato futuramente no notebook"
   ]
  },
  {
   "cell_type": "markdown",
   "metadata": {},
   "source": [
    "Antes de concatenar, vou acrescentar uma coluna booleana, que diz se os valores da row são referentes aos anos iniciais ou aos anos finais da escola (algumas escolas terão 2 rows no df)"
   ]
  },
  {
   "cell_type": "code",
   "execution_count": 35,
   "metadata": {},
   "outputs": [],
   "source": [
    "idebai['is_anosiniciais'] = 1\n",
    "idebaf['is_anosiniciais'] = 0"
   ]
  },
  {
   "cell_type": "code",
   "execution_count": 36,
   "metadata": {},
   "outputs": [],
   "source": [
    "idebt = pd.concat([idebai, idebaf])"
   ]
  },
  {
   "cell_type": "code",
   "execution_count": 37,
   "metadata": {},
   "outputs": [
    {
     "data": {
      "text/plain": [
       "(103529, 34)"
      ]
     },
     "execution_count": 37,
     "metadata": {},
     "output_type": "execute_result"
    }
   ],
   "source": [
    "idebt.shape"
   ]
  },
  {
   "cell_type": "code",
   "execution_count": 20,
   "metadata": {
    "collapsed": true
   },
   "outputs": [
    {
     "data": {
      "text/plain": [
       "Co_UF                                 0\n",
       "Cod_Municipio_Completo                0\n",
       "Nome_Municipio                        0\n",
       "Cod_Escola_Completo                   0\n",
       "Nome_Escola                           0\n",
       "Rede                                  0\n",
       "IndicadorRendimento_2005          56925\n",
       "IndicadorRendimento_2007          39110\n",
       "IndicadorRendimento_2009          23244\n",
       "IndicadorRendimento_2011          27799\n",
       "IndicadorRendimento_2013          28651\n",
       "IndicadorRendimento_2015          30316\n",
       "IndicadorRendimento_2017          18538\n",
       "NotaProvaBrasil_NotaMedia_2005    56925\n",
       "NotaProvaBrasil_NotaMedia_2007    39110\n",
       "NotaProvaBrasil_NotaMedia_2009    28101\n",
       "NotaProvaBrasil_NotaMedia_2011    32275\n",
       "NotaProvaBrasil_NotaMedia_2013    33704\n",
       "NotaProvaBrasil_NotaMedia_2015    35188\n",
       "NotaProvaBrasil_NotaMedia_2017    36471\n",
       "Ideb2005                          56925\n",
       "Ideb2007                          39110\n",
       "Ideb2009                          28189\n",
       "Ideb2011                          32305\n",
       "Ideb2013                          33710\n",
       "Ideb2015                          35205\n",
       "Ideb2017                          36484\n",
       "ProjecaoIdeb2011                  20527\n",
       "ProjecaoIdeb2013                  14993\n",
       "ProjecaoIdeb2015                  11010\n",
       "ProjecaoIdeb2017                   8041\n",
       "ProjecaoIdeb2019                   1506\n",
       "ProjecaoIdeb2021                   1506\n",
       "is_anosiniciais                       0\n",
       "dtype: int64"
      ]
     },
     "execution_count": 20,
     "metadata": {},
     "output_type": "execute_result"
    }
   ],
   "source": [
    "idebt.isnull().sum()"
   ]
  },
  {
   "cell_type": "code",
   "execution_count": 38,
   "metadata": {},
   "outputs": [],
   "source": [
    "idebt2 = idebt.sort_values(by=['Cod_Escola_Completo'])"
   ]
  },
  {
   "cell_type": "markdown",
   "metadata": {},
   "source": [
    "Guardando DataFrame idebt2 = idebai+idebaf simplificado"
   ]
  },
  {
   "cell_type": "code",
   "execution_count": 39,
   "metadata": {},
   "outputs": [],
   "source": [
    "idebt2.to_csv(r'C:\\Users\\Filipe Prates\\Documents\\Projects\\Datasets\\BCG Challenge\\original\\ideb_escolas_anostotais(w_missingdata)2.csv')"
   ]
  },
  {
   "cell_type": "markdown",
   "metadata": {},
   "source": [
    "Agora podemos focar nas numéricas dos dados esc0"
   ]
  },
  {
   "cell_type": "code",
   "execution_count": 40,
   "metadata": {},
   "outputs": [
    {
     "data": {
      "text/plain": [
       "(185456, 32)"
      ]
     },
     "execution_count": 40,
     "metadata": {},
     "output_type": "execute_result"
    }
   ],
   "source": [
    "numEst0.shape"
   ]
  },
  {
   "cell_type": "code",
   "execution_count": 41,
   "metadata": {},
   "outputs": [
    {
     "data": {
      "text/plain": [
       "(185456, 20)"
      ]
     },
     "execution_count": 41,
     "metadata": {},
     "output_type": "execute_result"
    }
   ],
   "source": [
    "numEqp0.shape"
   ]
  },
  {
   "cell_type": "markdown",
   "metadata": {},
   "source": [
    "Temos que dar um merge que alinhe as bases numEst0 e num numEqp0 com a base idebt2, de modo que as escolas tenham as informações corretas nas linhas corretas, pra isso usamos como key o 'Cod_Escola_Completo'\n",
    "\n",
    "Já que as bases numEqp0 e numEst0 são filhas da esc0, que possui muito mais samples que a database do ideb, podemos nos dar ao luxo de dropar as linhas que não possuem informações completas"
   ]
  },
  {
   "cell_type": "code",
   "execution_count": 42,
   "metadata": {},
   "outputs": [
    {
     "name": "stderr",
     "output_type": "stream",
     "text": [
      "C:\\Users\\Filipe Prates\\Anaconda3\\lib\\site-packages\\pandas\\core\\frame.py:3781: SettingWithCopyWarning: \n",
      "A value is trying to be set on a copy of a slice from a DataFrame\n",
      "\n",
      "See the caveats in the documentation: http://pandas.pydata.org/pandas-docs/stable/indexing.html#indexing-view-versus-copy\n",
      "  return super(DataFrame, self).rename(**kwargs)\n"
     ]
    }
   ],
   "source": [
    "numEqp0.rename(columns={'cod_escola_inep': 'Cod_Escola_Completo', 'tp_rede': 'Rede'}, inplace=True)\n",
    "numEst0.rename(columns={'cod_escola_inep': 'Cod_Escola_Completo', 'tp_rede': 'Rede'}, inplace=True)\n"
   ]
  },
  {
   "cell_type": "code",
   "execution_count": 43,
   "metadata": {},
   "outputs": [
    {
     "data": {
      "text/plain": [
       "(103529, 34)"
      ]
     },
     "execution_count": 43,
     "metadata": {},
     "output_type": "execute_result"
    }
   ],
   "source": [
    "idebt2.shape"
   ]
  },
  {
   "cell_type": "code",
   "execution_count": 45,
   "metadata": {},
   "outputs": [
    {
     "data": {
      "text/plain": [
       "(185456, 20)"
      ]
     },
     "execution_count": 45,
     "metadata": {},
     "output_type": "execute_result"
    }
   ],
   "source": [
    "numEqp0.shape\n"
   ]
  },
  {
   "cell_type": "code",
   "execution_count": 46,
   "metadata": {},
   "outputs": [],
   "source": [
    "result = pd.merge(idebt2,numEqp0,on=['Cod_Escola_Completo'])"
   ]
  },
  {
   "cell_type": "code",
   "execution_count": 47,
   "metadata": {},
   "outputs": [
    {
     "data": {
      "text/plain": [
       "(100075, 53)"
      ]
     },
     "execution_count": 47,
     "metadata": {},
     "output_type": "execute_result"
    }
   ],
   "source": [
    "result.shape"
   ]
  },
  {
   "cell_type": "code",
   "execution_count": 48,
   "metadata": {},
   "outputs": [],
   "source": [
    "result.to_csv(r'C:\\Users\\Filipe Prates\\Documents\\Projects\\Datasets\\BCG Challenge\\original\\numericEqpEscola+idebt2.csv')"
   ]
  },
  {
   "cell_type": "markdown",
   "metadata": {},
   "source": [
    "Muda o dtype das colunas para podermos observar as correlações entre os numéricos de equipamentos e o Ideb2017"
   ]
  },
  {
   "cell_type": "code",
   "execution_count": 49,
   "metadata": {},
   "outputs": [],
   "source": [
    "for c in result.columns:\n",
    "    if c not in ['Nome_Municipio' ,'Nome_Escola','Rede_x','Co_UF','Rede_y']:\n",
    "        result[c] = result[c].astype(float,copy=False)"
   ]
  },
  {
   "cell_type": "code",
   "execution_count": 16,
   "metadata": {
    "collapsed": true
   },
   "outputs": [
    {
     "data": {
      "text/plain": [
       "Co_UF                              object\n",
       "Cod_Municipio_Completo            float64\n",
       "Nome_Municipio                     object\n",
       "Cod_Escola_Completo               float64\n",
       "Nome_Escola                        object\n",
       "Rede_x                             object\n",
       "IndicadorRendimento_2005          float64\n",
       "IndicadorRendimento_2007          float64\n",
       "IndicadorRendimento_2009          float64\n",
       "IndicadorRendimento_2011          float64\n",
       "IndicadorRendimento_2013          float64\n",
       "IndicadorRendimento_2015          float64\n",
       "IndicadorRendimento_2017          float64\n",
       "NotaProvaBrasil_NotaMedia_2005    float64\n",
       "NotaProvaBrasil_NotaMedia_2007    float64\n",
       "NotaProvaBrasil_NotaMedia_2009    float64\n",
       "NotaProvaBrasil_NotaMedia_2011    float64\n",
       "NotaProvaBrasil_NotaMedia_2013    float64\n",
       "NotaProvaBrasil_NotaMedia_2015    float64\n",
       "NotaProvaBrasil_NotaMedia_2017    float64\n",
       "Ideb2005                          float64\n",
       "Ideb2007                          float64\n",
       "Ideb2009                          float64\n",
       "Ideb2011                          float64\n",
       "Ideb2013                          float64\n",
       "Ideb2015                          float64\n",
       "Ideb2017                          float64\n",
       "ProjecaoIdeb2011                  float64\n",
       "ProjecaoIdeb2013                  float64\n",
       "ProjecaoIdeb2015                  float64\n",
       "ProjecaoIdeb2017                  float64\n",
       "ProjecaoIdeb2019                  float64\n",
       "ProjecaoIdeb2021                  float64\n",
       "is_anosiniciais                   float64\n",
       "tp_dependencia                    float64\n",
       "Rede_y                             object\n",
       "num_matriculas                    float64\n",
       "num_estudantes                    float64\n",
       "num_equip_tv                      float64\n",
       "num_equip_videocassete            float64\n",
       "num_equip_dvd                     float64\n",
       "num_equip_parabolica              float64\n",
       "num_equip_copiadora               float64\n",
       "num_equip_retroprojetor           float64\n",
       "num_equip_impressora              float64\n",
       "num_equip_impressora_mult         float64\n",
       "num_equip_som                     float64\n",
       "num_equip_multimidia              float64\n",
       "num_equip_fax                     float64\n",
       "num_equip_foto                    float64\n",
       "num_computador                    float64\n",
       "num_comp_administrativo           float64\n",
       "num_comp_aluno                    float64\n",
       "dtype: object"
      ]
     },
     "execution_count": 16,
     "metadata": {},
     "output_type": "execute_result"
    }
   ],
   "source": [
    "result.dtypes"
   ]
  },
  {
   "cell_type": "code",
   "execution_count": 55,
   "metadata": {},
   "outputs": [],
   "source": [
    "corr_variables = ['num_matriculas','num_estudantes','num_equip_tv','num_equip_videocassete','num_equip_dvd','num_equip_parabolica','num_equip_copiadora','num_equip_retroprojetor','num_equip_impressora','num_equip_impressora_mult','num_equip_som','num_equip_multimidia','num_equip_fax','num_equip_foto','num_computador','num_comp_administrativo','num_comp_aluno']"
   ]
  },
  {
   "cell_type": "code",
   "execution_count": 56,
   "metadata": {
    "scrolled": true
   },
   "outputs": [
    {
     "data": {
      "text/plain": [
       "<matplotlib.axes._subplots.AxesSubplot at 0x1c001198e10>"
      ]
     },
     "execution_count": 56,
     "metadata": {},
     "output_type": "execute_result"
    },
    {
     "data": {
      "image/png": "[encoded data removed]",
      "text/plain": [
       "<Figure size 432x288 with 2 Axes>"
      ]
     },
     "metadata": {
      "needs_background": "light"
     },
     "output_type": "display_data"
    }
   ],
   "source": [
    "sns.heatmap(result[corr_variables].corr())"
   ]
  },
  {
   "cell_type": "markdown",
   "metadata": {},
   "source": [
    "Algumas função que serão usadas no estudo de correlações"
   ]
  },
  {
   "cell_type": "code",
   "execution_count": 57,
   "metadata": {},
   "outputs": [],
   "source": [
    "def textCorr(df,corr_variables,target):\n",
    "    corrList = []\n",
    "    for c in corr_variables:\n",
    "        corrList.append(df[c].corr(df[target]))\n",
    "        print(df[c].corr(df[target]))\n",
    "        print(c)\n",
    "        \n",
    "def plotCorr(df,corr_variables,target,title):\n",
    "    corrList = []\n",
    "    for c in corr_variables:\n",
    "        corrList.append(df[c].corr(df[target]))\n",
    "    plt.title(title)\n",
    "    plt.xticks(rotation='vertical')\n",
    "    plt.bar(corr_variables,corrList)"
   ]
  },
  {
   "cell_type": "code",
   "execution_count": 58,
   "metadata": {
    "collapsed": true
   },
   "outputs": [
    {
     "name": "stdout",
     "output_type": "stream",
     "text": [
      "0.051857774446222867\n",
      "num_matriculas\n",
      "0.0575177694346461\n",
      "num_estudantes\n",
      "0.15270439508059847\n",
      "num_equip_tv\n",
      "0.10374588803210626\n",
      "num_equip_videocassete\n",
      "0.17487751984179548\n",
      "num_equip_dvd\n",
      "0.008175787053009366\n",
      "num_equip_parabolica\n",
      "0.10424349198223018\n",
      "num_equip_copiadora\n",
      "0.11513334965071574\n",
      "num_equip_retroprojetor\n",
      "0.20536897986934685\n",
      "num_equip_impressora\n",
      "0.15947546398930068\n",
      "num_equip_impressora_mult\n",
      "0.2701687003691907\n",
      "num_equip_som\n",
      "0.15787764139431268\n",
      "num_equip_multimidia\n",
      "0.14603710979738427\n",
      "num_equip_fax\n",
      "0.13345072829013624\n",
      "num_equip_foto\n",
      "0.17514892630866438\n",
      "num_computador\n",
      "0.20505085612665527\n",
      "num_comp_administrativo\n",
      "0.1663073590111242\n",
      "num_comp_aluno\n"
     ]
    }
   ],
   "source": [
    "textCorr(result,corr_variables,'Ideb2017')"
   ]
  },
  {
   "cell_type": "code",
   "execution_count": 59,
   "metadata": {},
   "outputs": [
    {
     "data": {
      "image/png": "[encoded data removed]",
      "text/plain": [
       "<Figure size 432x288 with 1 Axes>"
      ]
     },
     "metadata": {
      "needs_background": "light"
     },
     "output_type": "display_data"
    }
   ],
   "source": [
    "plotCorr(result,corr_variables,'Ideb2017','Correlação numEqp Ideb2017')\n"
   ]
  },
  {
   "cell_type": "markdown",
   "metadata": {},
   "source": [
    "Resultados interessantes. Em geral qualquer num_equipamentos tem uma correlação positiva com o Ideb (o que faz sentido pois é um índice de mais capital sendo investido na escola), apenas o num_equipamentos_parabólicos tem uma correlação quase nula, talvez dado ao fato que se a escola precisa de um número maior de antenas parabólicas, ela fica em um lugar mais isolado, que pode inferir uma qualidade inferior na educação devido ao pior acesso à investimentos.\n",
    "\n",
    "Também observamos que a quantidade de computadores e impressoras (os equipamentos mais diretamente úteis na aplicação do aprendizado) possuem uma correlação relativamente alta:\n",
    "\n",
    "num_computador: 0.1753318331865507\n",
    "\n",
    "num_comp_administrativo: 0.2051860872364397\n",
    "\n",
    "num_equip_impressora: 0.20558748603069107\n",
    "\n",
    "Mas talvez mais inexperadamente, o equipamento o qual o número mais se correlaciona com o desempenho no Ideb é o num_equip_som:\n",
    "\n",
    "num_equip_som: 0.2703205388475583"
   ]
  },
  {
   "cell_type": "markdown",
   "metadata": {},
   "source": [
    "Aplicaremos o mesmo procedimento para as variáveis numéricas de estrutura (numEst0)\n"
   ]
  },
  {
   "cell_type": "code",
   "execution_count": 62,
   "metadata": {},
   "outputs": [],
   "source": [
    "result_est = pd.merge(idebt2,numEst0,on=['Cod_Escola_Completo'])"
   ]
  },
  {
   "cell_type": "code",
   "execution_count": 76,
   "metadata": {},
   "outputs": [],
   "source": [
    "result_est.to_csv(r'C:\\Users\\Filipe Prates\\Documents\\Projects\\Datasets\\BCG Challenge\\original\\numericEstEscola+idebt2.csv')"
   ]
  },
  {
   "cell_type": "code",
   "execution_count": 63,
   "metadata": {},
   "outputs": [],
   "source": [
    "for c in result_est.columns:\n",
    "    if c not in ['Nome_Municipio' ,'Nome_Escola','Rede_x','Co_UF','Rede_y']:\n",
    "        result_est[c] = result_est[c].astype(float,copy=False)"
   ]
  },
  {
   "cell_type": "code",
   "execution_count": 66,
   "metadata": {},
   "outputs": [
    {
     "data": {
      "text/plain": [
       "<matplotlib.axes._subplots.AxesSubplot at 0x1c000bd3ef0>"
      ]
     },
     "execution_count": 66,
     "metadata": {},
     "output_type": "execute_result"
    },
    {
     "data": {
      "image/png": "[encoded data removed]",
      "text/plain": [
       "<Figure size 432x288 with 2 Axes>"
      ]
     },
     "metadata": {
      "needs_background": "light"
     },
     "output_type": "display_data"
    }
   ],
   "source": [
    "corr_variables2 = ['num_matriculas','num_estudantes','num_estudantes_ensino_infantil','num_estudantes_ensino_fund_anos_iniciais','num_estudantes_ensino_fund_anos_finais','num_estudantes_ensino_medio_propedeutico','num_estudantes_fund_1_ano','num_estudantes_fund_2_ano','num_estudantes_fund_3_ano','num_estudantes_fund_4_ano','num_estudantes_fund_5_ano','num_estudantes_fund_6_ano','num_estudantes_fund_7_ano','num_estudantes_fund_8_ano','num_estudantes_fund_9_ano','num_estudantes_medio_1_serie','num_estudantes_medio_2_serie','num_estudantes_medio_3_serie','num_estudantes_medio_4_serie','num_estudantes_medio_nao_seriada','num_salas_existentes','num_salas_utilizadas','num_funcionarios','num_professores','num_professores_em_regencia','num_professores_em_regencia_fund_ai','num_professores_em_regencia_fund_af','num_professores_em_regencia_ens_medio']\n",
    "sns.heatmap(result_est[corr_variables2].corr())"
   ]
  },
  {
   "cell_type": "code",
   "execution_count": 67,
   "metadata": {
    "scrolled": false
   },
   "outputs": [
    {
     "data": {
      "image/png": "[encoded data removed]",
      "text/plain": [
       "<Figure size 432x288 with 1 Axes>"
      ]
     },
     "metadata": {
      "needs_background": "light"
     },
     "output_type": "display_data"
    }
   ],
   "source": [
    "#textCorr(result_est,corr_variables2,'Ideb2017')\n",
    "plotCorr(result_est,corr_variables2,'Ideb2017','Correlação numEst Ideb2017')"
   ]
  },
  {
   "cell_type": "markdown",
   "metadata": {},
   "source": [
    "Mais um resultado interessante, existem 2 saltos significativos, exatamente na mudança entre o Ensino Fundamental 1, e o Ensino Fundamental 2, que se mostra como um ponto crítico para o resultados das escolas. Aparentemente existe uma correlação positiva em ter mais alunos do EF1,  ter melhores notas no ideb, como por exemplo:\n",
    "\n",
    "num_estudantes_ensino_fund_anos_iniciais: 0.31682463434197594\n",
    "\n",
    "num_estudantes_fund_1_ano: 0.3346559360359833\n",
    "\n",
    "\n",
    "num_estudantes_fund_3_ano: 0.28118836404933917\n",
    "\n",
    "\n",
    "num_estudantes_fund_5_ano: 0.2583480185207778\n",
    "\n",
    "Mas uma correlação negativa com alunos do 6 ano para cima:\n",
    "\n",
    "num_estudantes_fund_6_ano: -0.17258315253646347\n",
    "\n",
    "num_estudantes_fund_8_ano: -0.11781285107896296\n",
    "\n",
    "num_estudantes_medio_1_serie: -0.03126801070401666\n",
    "\n",
    "num_estudantes_medio_3_serie: -0.021601523329622212\n",
    "\n",
    "\n",
    "Para melhor entendermos o que está acontecendo, vamos plotar a correlação tambem com o Indice de Rendimento e as Notas da Prova Brasil\n",
    "\n"
   ]
  },
  {
   "cell_type": "code",
   "execution_count": 68,
   "metadata": {},
   "outputs": [
    {
     "data": {
      "image/png": "[encoded data removed]",
      "text/plain": [
       "<Figure size 432x288 with 1 Axes>"
      ]
     },
     "metadata": {
      "needs_background": "light"
     },
     "output_type": "display_data"
    }
   ],
   "source": [
    "#textCorr(result_est,corr_variables2,'NotaProvaBrasil_NotaMedia_2017')\n",
    "plotCorr(result_est,corr_variables2,'NotaProvaBrasil_NotaMedia_2017','Correlação numEst Nota Prova Brasil')"
   ]
  },
  {
   "cell_type": "markdown",
   "metadata": {},
   "source": [
    "Podemos ver que a trend continua na Nota Prova Brasil, o que era de se esperar dado a alta correlação entre a nota da PB com o índice do Ideb"
   ]
  },
  {
   "cell_type": "code",
   "execution_count": 69,
   "metadata": {},
   "outputs": [
    {
     "data": {
      "image/png": "[encoded data removed]",
      "text/plain": [
       "<Figure size 432x288 with 1 Axes>"
      ]
     },
     "metadata": {
      "needs_background": "light"
     },
     "output_type": "display_data"
    }
   ],
   "source": [
    "plotCorr(result_est,corr_variables2,'IndicadorRendimento_2017','Correlação numEst Indicador Rendimento')\n",
    "#textCorr(result_est,corr_variables2,'IndicadorRendimento_2017')"
   ]
  },
  {
   "cell_type": "markdown",
   "metadata": {},
   "source": [
    "No Indicador de Rendimento podemos ver uma cena parecida, porém com valores mais modestos, claramente existe uma ligação forte entre o fato da escolar ser de \"anos iniciais\" e ter um Ideb melhor, felizmente inclui a coluna que determina se a linha é de \"anos iniciais\", podemos ver como isso influencia no Ideb, o Indicador de Rendimento, e a NBP"
   ]
  },
  {
   "cell_type": "code",
   "execution_count": 32,
   "metadata": {},
   "outputs": [
    {
     "name": "stdout",
     "output_type": "stream",
     "text": [
      "0.33159034574794277\n",
      "0.40581352536211224\n",
      "0.43063697860338657\n"
     ]
    }
   ],
   "source": [
    "print(result_est['is_anosiniciais'].corr(result_est['IndicadorRendimento_2017']))\n",
    "print(result_est['is_anosiniciais'].corr(result_est['NotaProvaBrasil_NotaMedia_2017']))\n",
    "print(result_est['is_anosiniciais'].corr(result_est['Ideb2017']))"
   ]
  },
  {
   "cell_type": "code",
   "execution_count": 33,
   "metadata": {},
   "outputs": [
    {
     "data": {
      "text/plain": [
       "count    41503.000000\n",
       "mean         5.488962\n",
       "std          1.156717\n",
       "min          1.100000\n",
       "25%          4.700000\n",
       "50%          5.600000\n",
       "75%          6.300000\n",
       "max          9.900000\n",
       "Name: Ideb2017, dtype: float64"
      ]
     },
     "execution_count": 33,
     "metadata": {},
     "output_type": "execute_result"
    }
   ],
   "source": [
    "result_ai = result_est.loc[result_est['is_anosiniciais']==1]\n",
    "result_ai['Ideb2017'].describe()"
   ]
  },
  {
   "cell_type": "code",
   "execution_count": 34,
   "metadata": {},
   "outputs": [
    {
     "data": {
      "text/plain": [
       "count    25523.000000\n",
       "mean         4.430757\n",
       "std          0.932722\n",
       "min          0.900000\n",
       "25%          3.800000\n",
       "50%          4.500000\n",
       "75%          5.100000\n",
       "max          8.500000\n",
       "Name: Ideb2017, dtype: float64"
      ]
     },
     "execution_count": 34,
     "metadata": {},
     "output_type": "execute_result"
    }
   ],
   "source": [
    "result_af = result_est.loc[result_est['is_anosiniciais']==0]\n",
    "result_af['Ideb2017'].describe()"
   ]
  },
  {
   "cell_type": "code",
   "execution_count": 35,
   "metadata": {},
   "outputs": [
    {
     "data": {
      "text/plain": [
       "count    41508.000000\n",
       "mean         5.866688\n",
       "std          0.972547\n",
       "min          2.394904\n",
       "25%          5.182281\n",
       "50%          5.921215\n",
       "75%          6.554690\n",
       "max          9.907636\n",
       "Name: NotaProvaBrasil_NotaMedia_2017, dtype: float64"
      ]
     },
     "execution_count": 35,
     "metadata": {},
     "output_type": "execute_result"
    }
   ],
   "source": [
    "result_ai = result_est.loc[result_est['is_anosiniciais']==1]\n",
    "result_ai['NotaProvaBrasil_NotaMedia_2017'].describe()"
   ]
  },
  {
   "cell_type": "code",
   "execution_count": 36,
   "metadata": {},
   "outputs": [
    {
     "data": {
      "text/plain": [
       "count    25531.000000\n",
       "mean         5.047996\n",
       "std          0.753171\n",
       "min          2.053000\n",
       "25%          4.555000\n",
       "50%          5.069500\n",
       "75%          5.551667\n",
       "max          8.588000\n",
       "Name: NotaProvaBrasil_NotaMedia_2017, dtype: float64"
      ]
     },
     "execution_count": 36,
     "metadata": {},
     "output_type": "execute_result"
    }
   ],
   "source": [
    "result_af = result_est.loc[result_est['is_anosiniciais']==0]\n",
    "result_af['NotaProvaBrasil_NotaMedia_2017'].describe()"
   ]
  },
  {
   "cell_type": "code",
   "execution_count": 72,
   "metadata": {},
   "outputs": [
    {
     "data": {
      "text/plain": [
       "count    47651.000000\n",
       "mean         0.923786\n",
       "std          0.079507\n",
       "min          0.148866\n",
       "25%          0.888400\n",
       "50%          0.947549\n",
       "75%          0.984003\n",
       "max          1.000000\n",
       "Name: IndicadorRendimento_2017, dtype: float64"
      ]
     },
     "execution_count": 72,
     "metadata": {},
     "output_type": "execute_result"
    }
   ],
   "source": [
    "result_ai = result_est.loc[result_est['is_anosiniciais']==1]\n",
    "result_ai['IndicadorRendimento_2017'].describe()"
   ]
  },
  {
   "cell_type": "code",
   "execution_count": 74,
   "metadata": {},
   "outputs": [
    {
     "data": {
      "text/plain": [
       "count    37306.000000\n",
       "mean         0.856961\n",
       "std          0.110460\n",
       "min          0.247282\n",
       "25%          0.791555\n",
       "50%          0.878537\n",
       "75%          0.944770\n",
       "max          1.000000\n",
       "Name: IndicadorRendimento_2017, dtype: float64"
      ]
     },
     "execution_count": 74,
     "metadata": {},
     "output_type": "execute_result"
    }
   ],
   "source": [
    "result_af = result_est.loc[result_est['is_anosiniciais']==0]\n",
    "result_af['IndicadorRendimento_2017'].describe()"
   ]
  },
  {
   "cell_type": "markdown",
   "metadata": {},
   "source": [
    "Como esperávamos dado a EDA previamente feita, existe um salto grande entre as médias do Ideb, da nota da Prova Brasil e do Indicador de Rendimento entre escolas de EF1 e EF2, a mudança é significativa, a ponto que a média do IndicadorRendimento em escolas de \"anos finais\" varia mais de um std comparado ao mesmo nas escolas de \"anos iniciais\"\n",
    "\n",
    "Todas as escolas podem ser caracterizadas em 3 grupos: \n",
    "    1. Escolas que só tem alunos de anos iniciais\n",
    "    2. Escolas que só tem alunos de anos finais\n",
    "    3. Escolas que tem alunos de anos iniciais e finais\n",
    "    \n",
    "Vamos ver como cada tipo de escola performa na média em relação às métricas de qualidade\n",
    "\n",
    "\n"
   ]
  },
  {
   "cell_type": "markdown",
   "metadata": {},
   "source": [
    "Primeiro de tudo percebi que são quatro grupos, pois existem escolas fastasma sem alunos anos finais e alunos anos iniciais. São apenas 3849, então de primeira subtrai as linhas que não possuem alunos, e separei o resto nos 3 grupos"
   ]
  },
  {
   "cell_type": "code",
   "execution_count": 70,
   "metadata": {},
   "outputs": [],
   "source": [
    "esc_zero = result_est.loc[result_est['num_estudantes_ensino_fund_anos_finais']==0]\n",
    "esc_zero1 = esc_zero.loc[esc_zero['num_estudantes_ensino_fund_anos_iniciais']==0]\n",
    "\n",
    "result_est1 = pd.concat([result_est, esc_zero1]).drop_duplicates(keep=False)\n"
   ]
  },
  {
   "cell_type": "code",
   "execution_count": 71,
   "metadata": {},
   "outputs": [],
   "source": [
    "esc_ai = result_est1.loc[result_est1['num_estudantes_ensino_fund_anos_finais']==0]\n",
    "esc_af = result_est1.loc[result_est1['num_estudantes_ensino_fund_anos_iniciais']==0]\n",
    "esc_aiaf0 = result_est1.loc[result_est1['num_estudantes_ensino_fund_anos_finais']!=0]\n",
    "esc_aiaf1 = esc_aiaf0.loc[esc_aiaf0['num_estudantes_ensino_fund_anos_iniciais']!=0]\n",
    "\n"
   ]
  },
  {
   "cell_type": "markdown",
   "metadata": {},
   "source": [
    "Podemos observar as médias do Ideb entre diferentes tipos de escolas"
   ]
  },
  {
   "cell_type": "code",
   "execution_count": 72,
   "metadata": {},
   "outputs": [
    {
     "name": "stdout",
     "output_type": "stream",
     "text": [
      "Total Escolas: 5.086005430728387\n",
      "Escola Inicial: 5.614108665944125\n",
      "Escola Final: 4.5496970309028475\n",
      "Escola Inicial/Final: 4.921775339108156\n"
     ]
    }
   ],
   "source": [
    "print('Total Escolas:',result_est['Ideb2017'].mean())\n",
    "print('Escola Inicial:', esc_ai['Ideb2017'].mean())\n",
    "print('Escola Final:',esc_af['Ideb2017'].mean())\n",
    "print('Escola Inicial/Final:',esc_aiaf1['Ideb2017'].mean())"
   ]
  },
  {
   "cell_type": "code",
   "execution_count": 104,
   "metadata": {},
   "outputs": [
    {
     "data": {
      "text/plain": [
       "(3849, 65)"
      ]
     },
     "execution_count": 104,
     "metadata": {},
     "output_type": "execute_result"
    }
   ],
   "source": [
    "esc_zero1.shape"
   ]
  },
  {
   "cell_type": "code",
   "execution_count": 105,
   "metadata": {},
   "outputs": [
    {
     "data": {
      "text/plain": [
       "(27423, 65)"
      ]
     },
     "execution_count": 105,
     "metadata": {},
     "output_type": "execute_result"
    }
   ],
   "source": [
    "esc_ai.shape\n"
   ]
  },
  {
   "cell_type": "code",
   "execution_count": 106,
   "metadata": {},
   "outputs": [
    {
     "data": {
      "text/plain": [
       "(19580, 65)"
      ]
     },
     "execution_count": 106,
     "metadata": {},
     "output_type": "execute_result"
    }
   ],
   "source": [
    "esc_af.shape"
   ]
  },
  {
   "cell_type": "code",
   "execution_count": 107,
   "metadata": {},
   "outputs": [
    {
     "data": {
      "text/plain": [
       "(49223, 65)"
      ]
     },
     "execution_count": 107,
     "metadata": {},
     "output_type": "execute_result"
    }
   ],
   "source": [
    "esc_aiaf1.shape"
   ]
  },
  {
   "cell_type": "code",
   "execution_count": 108,
   "metadata": {},
   "outputs": [
    {
     "data": {
      "text/plain": [
       "(96226, 65)"
      ]
     },
     "execution_count": 108,
     "metadata": {},
     "output_type": "execute_result"
    }
   ],
   "source": [
    "result_est1.shape"
   ]
  },
  {
   "cell_type": "markdown",
   "metadata": {},
   "source": [
    "49223 + 19580 + 27423 = 96266, o que é um bom sinal"
   ]
  },
  {
   "cell_type": "code",
   "execution_count": 74,
   "metadata": {
    "scrolled": true
   },
   "outputs": [
    {
     "data": {
      "image/png": "[encoded data removed]",
      "text/plain": [
       "<Figure size 432x288 with 1 Axes>"
      ]
     },
     "metadata": {
      "needs_background": "light"
     },
     "output_type": "display_data"
    }
   ],
   "source": [
    "corr_variables3 = ['num_estudantes','num_matriculas','num_professores_em_regencia_fund_ai','num_professores','num_funcionarios','num_salas_existentes','num_estudantes_fund_5_ano','num_estudantes_fund_4_ano','num_estudantes_fund_3_ano','num_estudantes_fund_2_ano','num_estudantes_fund_1_ano','num_estudantes_ensino_infantil']\n",
    "plotCorr(esc_ai,corr_variables3,'Ideb2017','Escolas Anos Iniciais')\n",
    "#textCorr(result_est,corr_variables3,'Ideb2017')"
   ]
  },
  {
   "cell_type": "code",
   "execution_count": 59,
   "metadata": {},
   "outputs": [
    {
     "data": {
      "image/png": "[encoded data removed]",
      "text/plain": [
       "<Figure size 432x288 with 1 Axes>"
      ]
     },
     "metadata": {
      "needs_background": "light"
     },
     "output_type": "display_data"
    }
   ],
   "source": [
    "corr_variables4 = ['num_estudantes','num_matriculas','num_professores_em_regencia_fund_af','num_professores','num_funcionarios','num_salas_existentes','num_estudantes_fund_6_ano','num_estudantes_fund_7_ano','num_estudantes_fund_8_ano','num_estudantes_fund_9_ano','num_estudantes_medio_1_serie','num_estudantes_medio_2_serie','num_estudantes_medio_3_serie','num_professores_em_regencia_fund_af','num_professores_em_regencia_ens_medio']\n",
    "plotCorr(esc_af,corr_variables4,'Ideb2017','Escolas Anos Finais')\n",
    "#textCorr(result_est,corr_variables4,'Ideb2017')"
   ]
  },
  {
   "cell_type": "code",
   "execution_count": 75,
   "metadata": {},
   "outputs": [
    {
     "data": {
      "image/png": "[encoded data removed]",
      "text/plain": [
       "<Figure size 432x288 with 1 Axes>"
      ]
     },
     "metadata": {
      "needs_background": "light"
     },
     "output_type": "display_data"
    }
   ],
   "source": [
    "corr_variables5 = ['num_matriculas','num_estudantes','num_estudantes_ensino_infantil','num_estudantes_ensino_fund_anos_iniciais','num_estudantes_ensino_fund_anos_finais','num_estudantes_ensino_medio_propedeutico','num_estudantes_fund_1_ano','num_estudantes_fund_2_ano','num_estudantes_fund_3_ano','num_estudantes_fund_4_ano','num_estudantes_fund_5_ano','num_estudantes_fund_6_ano','num_estudantes_fund_7_ano','num_estudantes_fund_8_ano','num_estudantes_fund_9_ano','num_estudantes_medio_1_serie','num_estudantes_medio_2_serie','num_estudantes_medio_3_serie','num_estudantes_medio_nao_seriada','num_salas_existentes','num_salas_utilizadas','num_funcionarios','num_professores','num_professores_em_regencia','num_professores_em_regencia_fund_ai','num_professores_em_regencia_fund_af','num_professores_em_regencia_ens_medio']\n",
    "plotCorr(esc_aiaf1,corr_variables5,'Ideb2017','Escolas Anos Iniciais/Finais')\n",
    "#textCorr(result_est,corr_variables5,'Ideb2017')"
   ]
  },
  {
   "cell_type": "markdown",
   "metadata": {},
   "source": [
    "Mais insights podem ser tirados desses dados:\n",
    "    1. O ideb é significativamente influenciado pelo número de alunos por série, como um trend universal, quanto maior a quantidade de alunos de anos mais iniciais, comparado ao finais, maior a correlação entre a escola e uma nota boa no Ideb\n",
    "    2. As escolas que somente tem alunos de anos iniciais tem uma média do Ideb superior a qualquer outro tipo, enquanto escolas que só possuem alunos do EF2 e EM tendem a ter médias no Ideb inferiores:\n",
    "        Total Escolas: 5.086005430728387\n",
    "        Escola Inicial: 5.614108665944125\n",
    "        Escola Final: 4.5496970309028475\n",
    "        Escola Inicial/Final: 4.921775339108156\n",
    "    3. Dentro do grupo de escolas que só tem alunos de anos finais, ainda existe a separação daquelas que são só ensino médio, e aquelas que dão o EF2 e médio. Podemos observar que a tendência é que quanto mais focado no EM, melhor o Ideb, pois existe correlação negativa dos alunos de sexto e sétimo ano mesmo entre as AF\n",
    "    4. Também observamos um fenômeno no qual nas escolas apenas de anos finais, a correlação entre o num_alunos e o Ideb é quase nula, o que não ocorre nos outros grupos, que tendem a possuir uma correlação positiva. Ou seja, nos outros grupos de escolas, quanto mais alunos, tende a ter um Ideb maior, o que não ocorre em escolas AF.\n",
    "    5. Em escolas AI/AF não percebemos esse trend que vimos nos outros grupos, a correlação entre número de alunos por séries se mantém semi constante entre todas as séries (tirando o caso do 6 ano, que parece ser um ano crítico), o que mostra que o salto intenso que observamos no dataset com todas as escolas se da pela sistemática notas mais baixas para escolas de AF e mais altas pra escolas de AI, o que pode ser um indício de um viés que é dado pela métrica."
   ]
  },
  {
   "cell_type": "code",
   "execution_count": null,
   "metadata": {},
   "outputs": [],
   "source": []
  }
 ],
 "metadata": {
  "kernelspec": {
   "display_name": "Python 3",
   "language": "python",
   "name": "python3"
  },
  "language_info": {
   "codemirror_mode": {
    "name": "ipython",
    "version": 3
   },
   "file_extension": ".py",
   "mimetype": "text/x-python",
   "name": "python",
   "nbconvert_exporter": "python",
   "pygments_lexer": "ipython3",
   "version": "3.6.6"
  }
 },
 "nbformat": 4,
 "nbformat_minor": 2
}
